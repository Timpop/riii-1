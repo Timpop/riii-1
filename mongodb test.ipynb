{
 "cells": [
  {
   "cell_type": "code",
   "execution_count": 22,
   "metadata": {
    "collapsed": false
   },
   "outputs": [
    {
     "name": "stdout",
     "output_type": "stream",
     "text": [
      "{u'username': u'joe', u'_id': ObjectId('55e2808373036e1aabd3032b'), u'relationshops': {u'friends': 32.0, u'enemies': 2.0}} {u'_id': ObjectId('55e2764f73036e1aabd3032a'), u'birth': 808.0, u'email': [], u'gift': u'happy birthday'} {u'_id': ObjectId('55ea7cff880880628754e7e9'), u'email': u'jay@gmail.com'} {u'_id': ObjectId('55ea7d64880880628754e7ea'), u'email': [u'cc@gmail.com', u'dd@gmail.com'], u'birth': 808.0} {u'content': u'here is my first blog post.', u'date': datetime.datetime(2015, 8, 30, 2, 46, 4, 381000), u'_id': ObjectId('55e26f8973036e1aabd30329'), u'birth': 808.0, u'title': u'my blog title'} {u'_id': ObjectId('55ea8ee61f450ea5397e4aaa'), u'birth': 400.0}\n"
     ]
    }
   ],
   "source": [
    "import pymongo\n",
    "from pymongo import MongoClient\n",
    "#url = 'mongodb://10.120.28.4'\n",
    "client = pymongo.MongoClient(\"localhost\",27017)\n",
    "db = client.test\n",
    "blog = db.blog\n",
    "for i in blog.find({},{\"name\":0}):\n",
    "    print i,"
   ]
  },
  {
   "cell_type": "code",
   "execution_count": 24,
   "metadata": {
    "collapsed": false,
    "scrolled": false
   },
   "outputs": [
    {
     "name": "stdout",
     "output_type": "stream",
     "text": [
      "bbb\n",
      "blog\n",
      "coll\n",
      "dday\n",
      "lists\n",
      "posts\n",
      "system.indexes\n",
      "test\n",
      "tmp\n"
     ]
    },
    {
     "ename": "NameError",
     "evalue": "name 'dday' is not defined",
     "output_type": "error",
     "traceback": [
      "\u001b[0;31m---------------------------------------------------------------------------\u001b[0m",
      "\u001b[0;31mNameError\u001b[0m                                 Traceback (most recent call last)",
      "\u001b[0;32m<ipython-input-24-b25023ea4f65>\u001b[0m in \u001b[0;36m<module>\u001b[0;34m()\u001b[0m\n\u001b[1;32m     18\u001b[0m     \u001b[0;32mprint\u001b[0m \u001b[0mi\u001b[0m\u001b[0;34m\u001b[0m\u001b[0m\n\u001b[1;32m     19\u001b[0m \u001b[0;31m#query the document of posts\u001b[0m\u001b[0;34m\u001b[0m\u001b[0;34m\u001b[0m\u001b[0m\n\u001b[0;32m---> 20\u001b[0;31m \u001b[0;32mfor\u001b[0m \u001b[0mi\u001b[0m \u001b[0;32min\u001b[0m \u001b[0mdday\u001b[0m\u001b[0;34m.\u001b[0m\u001b[0mfind\u001b[0m\u001b[0;34m(\u001b[0m\u001b[0;34m)\u001b[0m\u001b[0;34m:\u001b[0m\u001b[0;34m\u001b[0m\u001b[0m\n\u001b[0m\u001b[1;32m     21\u001b[0m     \u001b[0;32mprint\u001b[0m \u001b[0mi\u001b[0m\u001b[0;34m\u001b[0m\u001b[0m\n",
      "\u001b[0;31mNameError\u001b[0m: name 'dday' is not defined"
     ]
    }
   ],
   "source": [
    "from pymongo import MongoClient\n",
    "#create connection\n",
    "client = pymongo.MongoClient('localhost',27017)\n",
    "db = client.test\n",
    "#choose the collection built by lazy\n",
    "collection = db['posts']\n",
    "#insert the document\n",
    "posts = db.posts\n",
    "post = {\"name\":\"lzz\",\"age\":25,\"weight\":\"55\"}\n",
    "post_id = posts.insert(post)\n",
    "#insert the bulk data\n",
    "posts = db.posts\n",
    "post = [{\"name\":\"nine\",\"age\":28,\"weight\":\"55\"},{\"name\":\"jack\",\"age\":25,\"weight\":\"55\"}]\n",
    "obj_ids = posts.insert(post)\n",
    "#print obj_ids\n",
    "#query all the collection in db\n",
    "for i in db.collection_names():\n",
    "    print i\n",
    "#query the document of posts\n",
    "for i in dday.find():\n",
    "    print i"
   ]
  },
  {
   "cell_type": "code",
   "execution_count": 30,
   "metadata": {
    "collapsed": false
   },
   "outputs": [
    {
     "ename": "TypeError",
     "evalue": "'Collection' object is not callable. If you meant to call the 'find' method on a 'Database' object it is failing because no such method exists.",
     "output_type": "error",
     "traceback": [
      "\u001b[0;31m---------------------------------------------------------------------------\u001b[0m",
      "\u001b[0;31mTypeError\u001b[0m                                 Traceback (most recent call last)",
      "\u001b[0;32m<ipython-input-30-53bf6d020300>\u001b[0m in \u001b[0;36m<module>\u001b[0;34m()\u001b[0m\n\u001b[0;32m----> 1\u001b[0;31m \u001b[0;32mfor\u001b[0m \u001b[0mpost\u001b[0m \u001b[0;32min\u001b[0m \u001b[0mdbh\u001b[0m\u001b[0;34m.\u001b[0m\u001b[0mfind\u001b[0m\u001b[0;34m(\u001b[0m\u001b[0;34m)\u001b[0m\u001b[0;34m:\u001b[0m\u001b[0;34m\u001b[0m\u001b[0m\n\u001b[0m\u001b[1;32m      2\u001b[0m     \u001b[0;32mprint\u001b[0m \u001b[0mpost\u001b[0m\u001b[0;34m\u001b[0m\u001b[0m\n",
      "\u001b[0;32m/Library/Frameworks/Python.framework/Versions/2.7/lib/python2.7/site-packages/pymongo/collection.pyc\u001b[0m in \u001b[0;36m__call__\u001b[0;34m(self, *args, **kwargs)\u001b[0m\n\u001b[1;32m   2064\u001b[0m                             \u001b[0;34m\"object it is failing because no such method \"\u001b[0m\u001b[0;34m\u001b[0m\u001b[0m\n\u001b[1;32m   2065\u001b[0m                             \u001b[0;34m\"exists.\"\u001b[0m \u001b[0;34m%\u001b[0m\u001b[0;34m\u001b[0m\u001b[0m\n\u001b[0;32m-> 2066\u001b[0;31m                             self.__name)\n\u001b[0m\u001b[1;32m   2067\u001b[0m         raise TypeError(\"'Collection' object is not callable. If you meant to \"\n\u001b[1;32m   2068\u001b[0m                         \u001b[0;34m\"call the '%s' method on a 'Collection' object it is \"\u001b[0m\u001b[0;34m\u001b[0m\u001b[0m\n",
      "\u001b[0;31mTypeError\u001b[0m: 'Collection' object is not callable. If you meant to call the 'find' method on a 'Database' object it is failing because no such method exists."
     ]
    }
   ],
   "source": []
  },
  {
   "cell_type": "code",
   "execution_count": 7,
   "metadata": {
    "collapsed": false
   },
   "outputs": [
    {
     "data": {
      "text/plain": [
       "Database(MongoClient('localhost', 27017), u'test_database')"
      ]
     },
     "execution_count": 7,
     "metadata": {},
     "output_type": "execute_result"
    }
   ],
   "source": [
    "from pymongo import MongoClient\n",
    "c = MongoClient(\"localhost\",27017)\n",
    "c.test_database\n",
    "#c.is_mongos"
   ]
  }
 ],
 "metadata": {
  "kernelspec": {
   "display_name": "Python 2",
   "language": "python",
   "name": "python2"
  },
  "language_info": {
   "codemirror_mode": {
    "name": "ipython",
    "version": 2
   },
   "file_extension": ".py",
   "mimetype": "text/x-python",
   "name": "python",
   "nbconvert_exporter": "python",
   "pygments_lexer": "ipython2",
   "version": "2.7.9"
  }
 },
 "nbformat": 4,
 "nbformat_minor": 0
}

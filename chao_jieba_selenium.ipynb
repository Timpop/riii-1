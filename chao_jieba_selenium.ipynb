{
 "cells": [
  {
   "cell_type": "code",
   "execution_count": 99,
   "metadata": {
    "collapsed": false
   },
   "outputs": [
    {
     "name": "stdout",
     "output_type": "stream",
     "text": [
      "1 None\n",
      "2 {('a', 1): 100, ('d', 55): 250, ('b', 3): 'yes', ('c', 10): 0.98}\n",
      "3 [('a', 1), ('b', 3), ('f', 6), ('c', 10), ('e', 22), ('d', 55)]\n",
      "('a', 1) 100\n",
      "('b', 3) yes\n",
      "('f', 6) 789\n",
      "('c', 10) 0.98\n",
      "('e', 22) 123\n",
      "('d', 55) 250\n",
      "<type 'list'>\n"
     ]
    }
   ],
   "source": [
    "# -*- coding:utf-8 -*- \n",
    "\n",
    "dic = {('a',1):100, ('b',3):\"yes\", ('c',10):0.98} \n",
    "print \"1\",dic.get('d')\n",
    "#print dic['d']  沒d,所以會出錯\n",
    "dic[('d',55)] = 250 \n",
    "print \"2\",dic \n",
    "dic.update({('e',22):123, ('f',6):789}) \n",
    "#dic {'a': 100, 'c': 0.98, 'b': 'yes', 'e': 123, 'd': 'new', 'f': 789}\n",
    "print \"3\",sorted(dic,key = lambda x : x[1]) #只能針對key排序與顯示\n",
    "for rec in sorted(dic,key = lambda x : x[1]): \n",
    "    print rec, dic[rec]"
   ]
  },
  {
   "cell_type": "code",
   "execution_count": 2,
   "metadata": {
    "collapsed": false,
    "scrolled": false
   },
   "outputs": [
    {
     "name": "stdout",
     "output_type": "stream",
     "text": [
      "共 3567 筆 第 1 / 179 頁\n"
     ]
    },
    {
     "data": {
      "text/plain": [
       "'\\n104,\\xe5\\xae\\xb6\\xe9\\x99\\xb8\\xe8\\xa8\\xb1,15\\n104,\\xe5\\xa9\\x9a,108\\n104,\\xe5\\xae\\xb6\\xe9\\x99\\xb8\\xe8\\xa8\\xb1,14\\n104,\\xe5\\xa9\\x9a,216\\n104,\\xe5\\xa9\\x9a,207\\n......\\n'"
      ]
     },
     "execution_count": 2,
     "metadata": {},
     "output_type": "execute_result"
    }
   ],
   "source": [
    "import requests\n",
    "from bs4 import BeautifulSoup\n",
    "import re\n",
    "rs = requests.session()  \n",
    "\n",
    "cookie = 'ASP.NET_SessionId=yriunnj3ftw1jvzg2o4bddid; lawbank=fdea33a84ca2489eb88bf7a7d24247b9-39; y=p=p0aZ1pxq302qP8oLU%2fV9F2e0UugVHGlWaEDpbkvUwrdN4kDY5j05nQCC03i0IHkoIVOSxKfcWmMzAhH%2bfKz7sA%3d%3d; _ga=GA1.3.816590347.1437135848; _gat=1; nrhbne=AgZLAZCvQeWFcxGAcpgsiQ==; JubFrm-pagebox=%5EcourtFullName%3DTPDV%60SLDV%60PCDV%60ILDV%60KLDV%60TYDV%60SCDV%60MLDV%60TCDV%60CHDV%60NTDV%60ULDV%60CYDV%60TNDV%60KSDV%60HLDV%60TTDV%60PTDV%60PHDV%60KMDV%60LCDV%60KSYV%60TPCM%60%5Ejud_case%3D%E5%A9%9A%5Ejcatagory%3D2%5Eissimple%3D-1%5Ejt%3D%E9%9B%A2%E5%A9%9A; x=i=qO/Zvq+XySl6717OeuzNDcU3Q5FCjdRzsmPT0LSay+LYmYSV9MKeyHr5B69ezAYZ&j=ExKZIgGGiQD19KUxjSulmRd4cCS013mf16VUoBCxWainbmYufAN3bzZLoLqLFhwxOnTKxyGFWxF875EJIi2dLxJH6hbqBxjAtbFdhUFXhN0N52w88aupjAgf+1xanz35gqeqSqCyVcutjKPBYXx2S4NWdfslegbdREC9AfMjAm+zkZefg3LaDBQlB1tXv4gpeRNEF+2/vUrprNHpdwTTB7ldH0fldmjQzRJ40RhXbZas97JDbl8rytgzE7yXF3pU1aOS+CB+FuM2RsvvSTyLiB4yU0fVo2DcpdJ56zuq9FI5QRN4h3epK1wnp517TGy1'\n",
    "header={'Cookie':cookie}\n",
    "\n",
    "local_diction={\n",
    "    '臺灣台北地方法院':1,\n",
    "    '臺灣士林地方法院':2,\n",
    "    '臺灣新北地方法院':3,\n",
    "    '臺灣宜蘭地方法院':4,\n",
    "    '臺灣基隆地方法院':5,\n",
    "    '臺灣桃園地方法院':6,\n",
    "    '臺灣新竹地方法院':7,\n",
    "    '臺灣苗栗地方法院':8,\n",
    "    '臺灣臺中地方法院':9,\n",
    "    '臺灣彰化地方法院':10,\n",
    "    '臺灣南投地方法院':11,\n",
    "    '臺灣雲林地方法院':12,\n",
    "    '臺灣嘉義地方法院':13,\n",
    "    '臺灣臺南地方法院':14,\n",
    "    '臺灣高雄地方法院':15,\n",
    "    '臺灣花蓮地方法院':16,\n",
    "    '臺灣臺東地方法院':17,\n",
    "    '臺灣屏東地方法院':18,\n",
    "    '臺灣澎湖地方法院':19,\n",
    "    '臺灣金門地方法院':20,\n",
    "    '臺灣連江地方法院':21,\n",
    "    '臺灣高雄少年及家事法院地方法院':22\n",
    "    }    \n",
    "\n",
    "res = requests.get('http://fyjud.lawbank.com.tw/listcontent5.aspx', headers=header) #只抓的到第一頁\n",
    "#res.encoding #查看網頁編碼\n",
    "soup = BeautifulSoup(res.text)\n",
    "linklist = []\n",
    "filename = []\n",
    "print soup.select('.page td')[0].text  #頁數\n",
    "for ele in soup.select('.Table-List td a'):\n",
    "    linklist.append(ele.attrs['href'])\n",
    "    \n",
    "for list_num in range(0,len(linklist)-1):\n",
    "    rs_get =rs.get('http://fyjud.lawbank.com.tw/'+linklist[list_num],headers=header)\n",
    "    response = rs_get.text.encode('utf8')\n",
    "    response_soup = BeautifulSoup(response)\n",
    "    '''\n",
    "    test_str=response_soup.select('.Table-List td')[1].text\n",
    "    print test_str\n",
    "    print type(test_str)\n",
    "    print dir(test_str)\n",
    "    '''\n",
    "    filenumber=response_soup.select('.Table-List td')[1].text\n",
    "    fileid=filenumber.split(',')[0].encode('utf8')+'05'+filenumber.split(',')[2].encode('utf8')\n",
    "    localation = soup.select('h4')[0].text #臺灣台北地方法院 裁判書 -- 民事類\n",
    "    local_list = re.match(r'(.+?) ', localation) #臺灣台北地方法院\n",
    "    local_str =','.join(local_list.groups(0))\n",
    "    local_id=local_diction[local_str.encode('utf8')]\n",
    "    \n",
    "    filename.append('sample'+str(local_id)+'_'+fileid)\n",
    "    judgedate=response_soup.select('.Table-List td')[3].text.encode('utf8') #【裁判日期】1040630\n",
    "    judge_reason=response_soup.select('.Table-List td')[5].text.encode('utf8') #【裁判案由】離婚\n",
    "    content=response_soup.select('.Table-List td')[8].text.encode('utf8')#【裁判全文】\n",
    "    record=fileid+\";\\n\\n\"+judgedate+\";\\n\\n\"+judge_reason+\";\\n\\n\"+content\n",
    "    f = open('C:\\Users\\BigData\\Desktop\\DataSet\\sample'+str(local_id)+'_'+\\\n",
    "             fileid+'.txt', 'w')\n",
    "    f.writelines(record)\n",
    "    f.close()\n",
    "\n",
    "'''\n",
    "104,家陸許,15\n",
    "104,婚,108\n",
    "104,家陸許,14\n",
    "104,婚,216\n",
    "104,婚,207\n",
    "......\n",
    "'''"
   ]
  },
  {
   "cell_type": "code",
   "execution_count": 47,
   "metadata": {
    "collapsed": false,
    "scrolled": true
   },
   "outputs": [
    {
     "ename": "IndentationError",
     "evalue": "expected an indented block (<ipython-input-47-30ae90dff899>, line 18)",
     "output_type": "error",
     "traceback": [
      "\u001b[1;36m  File \u001b[1;32m\"<ipython-input-47-30ae90dff899>\"\u001b[1;36m, line \u001b[1;32m18\u001b[0m\n\u001b[1;33m    '''\u001b[0m\n\u001b[1;37m       ^\u001b[0m\n\u001b[1;31mIndentationError\u001b[0m\u001b[1;31m:\u001b[0m expected an indented block\n"
     ]
    }
   ],
   "source": [
    "'''\n",
    "for ele in filename:\n",
    "    print ele\n",
    "print 2,filename[0]  #第一個filename檔案\n",
    "'''\n",
    "\n",
    "import os\n",
    "for dirPath, dirNames, fileNames in os.walk(\"C:\\Users\\BigData\\Desktop\\DataSet\"):\n",
    "    #print dirPath\n",
    "    for f in fileNames: #fileNames是list\n",
    "        #print f.encode('utf8') #f是str\n",
    "        #print f.decode('utf8')\n",
    "        #print \",\".join(list(f))\n",
    "        #for ele in list(f):\n",
    "            #print ele\n",
    "        #print fpath.encode('utf-8')"
   ]
  },
  {
   "cell_type": "code",
   "execution_count": 115,
   "metadata": {
    "collapsed": false
   },
   "outputs": [],
   "source": [
    "import re\n",
    "a = soup.select('h4')[0].text #臺灣台北地方法院 裁判書 -- 民事類\n",
    "m = re.match(r'(.+?) ', a) #臺灣台北地方法院\n",
    "mm =','.join(m.groups(0))"
   ]
  },
  {
   "cell_type": "code",
   "execution_count": 33,
   "metadata": {
    "collapsed": false,
    "scrolled": true
   },
   "outputs": [
    {
     "name": "stderr",
     "output_type": "stream",
     "text": [
      "Building prefix dict from E:\\iii\\jieba\\dict.txt.big.txt ...\n",
      "DEBUG:jieba:Building prefix dict from E:\\iii\\jieba\\dict.txt.big.txt ...\n",
      "Loading model from cache c:\\users\\bigdata\\appdata\\local\\temp\\jieba.uf77d3c66f86a246e288c1abbb15e06b0.cache\n",
      "DEBUG:jieba:Loading model from cache c:\\users\\bigdata\\appdata\\local\\temp\\jieba.uf77d3c66f86a246e288c1abbb15e06b0.cache\n",
      "Loading model cost 0.648 seconds.\n",
      "DEBUG:jieba:Loading model cost 0.648 seconds.\n",
      "Prefix dict has been built succesfully.\n",
      "DEBUG:jieba:Prefix dict has been built succesfully.\n"
     ]
    },
    {
     "name": "stdout",
     "output_type": "stream",
     "text": [
      "10405164, ;, 1040803, ;, 離婚, ;, 臺灣, 臺北, 地方, 方法, 法院, 地方法院, 民事, 判決, 民事判決, 　, 　, 　, 　, 　, 　, 　, 104, 年度, 婚字, 第, 164, 號原, 　, 　, 　, 告, 　, 張震儀, 訴訟, 代理, 代理人, 　, 鍾, 宛蓉, 律師, 被, 　, 　, 　, 告, 　, 高麗, , 上列, 當事, 當事人, 間, 請求, 離婚, 事件, ，, 本院, 於, 民國, 104, 年, 7, 月, 20, 日, 言詞, 辯論, 言詞辯論, 終結, ，, 判決, 如下, ：, 主,  ,  , 文准, 原告, 與, 被告, 離婚, 。, 訴訟, 訟費, 費用, 訴訟費, 訴訟費用, 由, 被告, 負擔, 。, 事實, 及, 理由, 一, 、, 被告, 經合, 法, 通知, 未, 於, 言詞, 辯論, 言詞辯論, 期, 日, 到場, ，, 核無, 民事, 訴訟, 訴訟法, 第, 386,  , 條, 各款, 所, 列, 情形, ，, 按照, 家事, 事件, 法, 第, 51, 條準, 用, 民事, 訴訟, 訴訟法, 第, 385, 條第, 1, 項, 前段, 規定, ，, 爰, 依, 原告, 之聲, 請, ，, 由, 其一, 造, 辯論, 而, 為, 判決, 。, 二, 、, 原告, 起訴, 主張, 略以, ：, 兩造, 前, 於, 民國, 91, 年, 在, 美國, 公證, 結婚, 公證結婚, 定居, 美國, ，, 復, 因, 被告, 父親, 生病, ，, 兩造, 即, 回國, 定居, ，, 就近, 照料, 。, 並於, 93, 年, 10, 月, 30, 日, 在, 國內, 舉行, 結婚, 儀式, 結婚儀式, 宴請, 賓客, ，, 嗣, 被告, 之, 父親, 於, 94, 年間, 病逝, ，, 被告, 執意, 爭取, 成為, 美國, 公民, ，, 而, 原告, 因在, 臺灣, 已有, 穩定, 工作, ，, 只好, 勉強, 同意, 被告, 單獨, 前往, 美國, ，, 兩造, 即, 自, 95, 年, 開始, 分居, 迄今, 長達, 八年, ，, 兩造, 分居, 期間, ，, 原告, 雙親, 及, 被告, 母親, 照顧, 責任, 及, 家庭, 經濟, 重擔, 皆, 由, 原告, 一人, 承擔, ，, 被告, 均, 仰賴, 原告, 及, 母親, 提供, 生活, 開銷, 。, 原告, 多次, 要求, 被告, 放棄, 爭取, 美國, 公民, 身分, ，, 結束, 長期, 分局, 情況, ，, 但, 被告, 不, 給予, 明確, 回答, ，, 無, 意願, 改善, 長期, 分居, 狀況, ，, 使, 原告, 日漸, 心灰, 心灰意冷, 。, 100, 年, 6, 月間, 原告, 向, 被告, 提出, 結束, 婚姻, 之, 想法, ，, 被告, 亦, 於, 101, 年, 6, 月, 20, 日, 、, 7, 月, 10, 日, 、, 7, 月, 19, 日以, 電子, 郵件, 電子郵件, 要求, 與, 原告, 辦理, 離婚, ，, 惟, 被告, 拒絕, 依照, 美國, 律師, 說明, 之, 程序, 辦理, 離婚, ，, 執意, 依照, 其所, 要求, 之, 繁瑣, 離婚, 程序, ，, 原告, 無法, 配合, 辦理, ，, 兩造, 因而, 難以, 協議, 辦理, 離婚, 。, 惟, 兩造, 持續, 分居, 各自, 生活, ，, 甚至, 過節, 逢年過節, 亦, 無, 互動, ，, 婚姻, 關係, 婚姻關係, 早已, 名存實亡, 。, 原告, 於, 103, 年, 3, 月, 24, 日起, 七度, 以, 電子, 郵件, 電子郵件, 請求, 被告, 辦理, 離婚, ，, 惟, 被告, 均, 無, 回應, ，, 只得, 訴請, 法院, 判決, 結束, 徒具, 空明, 之, 婚姻, ，, 使, 兩造, 得以, 另, 覓, 幸福, 。, 兩造, 既, 已, 分居, 八年, ，, 多年, 無, 夫妻, 之實, ，, 亦, 無, 互動, ，, 形同, 陌路, 形同陌路, ，, 婚姻, 之, 意義, 盡失, ；, 況, 兩造, 均, 無, 維持, 婚姻, 意願, ，, 應, 無, 復, 合, 之, 可能, ，, 顯有, 難以, 維持, 婚姻, 之, 重大, 事由, 存在, ，, 爰, 依, 民法, 第, 1052, 條第, 2, 項, 之, 規定, 請求, 離婚, 等語, 。, 並, 聲明, ：, 1, 、, 准, 原告, 與, 被告, 離婚, 。, 2, 、, 訴訟, 訟費, 費用, 訴訟費, 訴訟費用, 由, 被告, 負擔, 。, 三, 、, 被告, 未, 於, 言詞, 辯論, 言詞辯論, 期, 日, 到場, ，, 亦, 未, 提出, 書狀, 作何, 聲明, 或, 陳述, 。, 四, 、, 按有, 民法, 第,  , 1052, 條第, 1, 項, 以外, 之, 重大, 事由, ，, 難以, 維持, 婚姻, 者, ，, 夫妻, 一方, 得, 請求, 離婚, ；, 但, 其, 事由, 應由, 夫妻, 一方, 負責, 者, ，, 僅他, 方得, 請求, 離婚, ，, 此觀, 之, 民法, 第,  , 1052, 條第, 2, 項, 之, 規定, 自明, 。, 所謂, 有, 重大, 事由, ，, 難以, 維持, 婚姻, 者, ，, 係, 以, 婚姻, 是否, 已生, 破綻, 而, 無回, 復, 之, 希望, 為, 其, 判斷, 之, 標準, ，, 而, 婚姻, 是否, 已生, 破綻, 無回, 復, 之, 希望, ，, 則應, 依, 客觀, 之, 標準, ，, 即, 難以, 維持, 婚姻, 之, 事實, ，, 是否, 已達, 於, 倘, 處於, 同一, 境況, ，, 任何, 人均, 將, 喪失, 維持, 婚姻, 之, 意願, 而定, ，, 有, 最高, 高法, 法院, 最高法院, 95, 年度, 台上, 字, 第, 2924, 號, 判決, 意旨, 可資, 參照, 。, 又, 難以, 維持, 婚姻, 之, 重大, 事由, 應由, 夫妻, 之, 一方, 負責, 者, ，, 僅他, 方得, 請求, 離婚, ，, 則, 於, 難以, 維持, 婚姻, 之, 重大, 事由, ，, 夫妻, 雙方, 均須, 負責, 時, ，, 自, 應, 比較, 衡量, 雙方, 之, 有責, 程度, 後, ，, 僅, 責任, 較輕, 之, 一方, ，, 得, 向, 責任, 較重, 之, 他方, 請求, 離婚, ；, 如, 有責, 程度, 相, 同時, ，, 雙方, 即均, 得, 請求, 離婚, ，, 始符, 公平, 之旨, 。, 而, 婚姻, 係, 以, 夫妻, 之, 共同, 生活, 為, 目的, ，, 配偶, 應, 互信, 互賴, 、, 相互, 協力, ，, 以, 保持, 共同, 生活, 之, 圓滿, 、, 安全, 及, 幸福, ，, 因而, 夫妻, 應, 相互, 尊重, 相互尊重, 以, 增進, 情感, 和諧, 及, 誠摯, 之, 相處, ，, 此為, 維持, 婚姻, 之, 基礎, ，, 若, 基礎, 此基礎, 不復, 存在, 不復存在, ，, 致, 夫妻, 無法, 共同, 生活, ，, 無, 復, 合, 之, 可能, 者, ，, 即應, 認有, 難以, 維持, 婚姻, 之, 重大, 事由, 存在, 。, 經查, ，, 原告, 主張, 兩造, 於, 民國, 91, 年, 在, 美國, 公證, 結婚, 公證結婚, 定居, 美國, ，, 復, 因, 被告, 父親, 生病, ，, 兩造, 返國, 定居, ，, 並於, 93, 年, 10, 月, 30, 日, 舉行, 結婚, 儀式, 結婚儀式, 及, 宴客, ，, 然因, 被告, 執意, 爭取, 成為, 美國, 公民, ，, 兩造, 因而, 自, 95, 年, 開始, 分居, 迄今, 長達, 八年, 等情, ，, 業據, 其, 提出, 兩造, 戶籍, 謄本, 戶籍謄本, 、, 電子, 郵件, 電子郵件, 為證, ，, 復, 據, 證人, 即, 原告, 之父, 張恕, 忠證述, 綦詳, ，, 並經, 本院, 調取, 入出, 出境, 入出境, 資訊, 連結, 作業, 查詢, 存卷, 可稽, ，, 堪信, 原告, 之, 主張, 為, 真實, 。, 本院, 審酌, 兩造, 自, 95, 年, 起, 即, 分居, 異國, 兩地, ，, 分居, 期間, 長達, 八年, ，, 雙方, 各自, 生活, ，, 過節, 逢年過節, 未有, 聯繫, ，, 近年, 僅因, 離婚, 事宜, 偶有, 聯繫, ，, 堪認, 兩造, 間, 就, 夫妻, 應, 相互, 協力, 保持, 夫妻, 共同, 生活, 之, 圓滿, 、, 安全, 及, 幸福, 之, 婚姻, 基礎, 已, 不, 存在, ，, 客觀, 上, 依, 兩造, 目前, 狀況, ，, 任何, 人均, 將, 喪失, 維持, 婚姻, 之, 意欲, ，, 足以, 構成, 難以, 維持, 婚姻, 之, 重大, 事由, 。, 本件, 而本件, 依上, 所述, ，, 認, 造成, 兩造, 婚姻, 破綻, 之, 發生, 及, 加深, ，, 兩造, 均, 有, 可, 歸責, 事由, ，, 且, 兩造, 之, 可, 歸責, 程度, 相當, 。, 是, 原告, 依, 民法, 第, 1052, 條第, 2, 項, 規定, 訴請, 判決, 離婚, ，, 依法, 即, 無不, 合, ，, 應予, 准許, 。, 五, 、, 據, 上, 論結, ，, 本, 件, 原告, 之訴, 為, 有, 理由, ，, 依, 家事, 事件, 法, 第, 51, 條, 、, 民事, 訴訟, 訴訟法, 第, 385, 條第, 1, 項, 、, 第, 78, 條, ，, 判決, 如, 主文, 。, 中,  ,  ,  ,  , 華,  ,  ,  ,  , 民,  ,  ,  ,  , 國,  ,  ,  , 104,  ,  ,  ,  , 年,  ,  ,  ,  , 8,  ,  ,  ,  ,  , 月,  ,  ,  ,  , 3,  ,  ,  ,  ,  , 日, 家事, 法庭,  ,  , 法,  ,  , 官,  ,  , 薛嘉珩, 以上, 正本, 係, 照, 原本, 作成, 。, 如對本, 判決, 上訴, ，, 須, 於, 判決, 送達, 後, 20, 日, 內向, 本院, 提出, 上訴, 訴狀, 上訴狀, 。, 如, 委任, 律師, 提起, 上訴, 者, ，, 應, 一併, 繳納, 上訴, 審, 裁判, 費, 。, 中,  ,  ,  ,  , 華,  ,  ,  ,  , 民,  ,  ,  ,  , 國,  ,  ,  , 104,  ,  ,  ,  , 年,  ,  ,  ,  , 8,  ,  ,  ,  ,  , 月,  ,  ,  ,  , 3,  ,  ,  ,  ,  , 日, 書記, 書記官,  ,  , 張竣, 閔\n"
     ]
    },
    {
     "data": {
      "text/plain": [
       "'\\nfor ele2 in sorted_x:\\n    #ele2 is tuple type\\n    print ele2  #\\xe7\\xb7\\xa8\\xe7\\xa2\\xbc\\xe5\\x95\\x8f\\xe9\\xa1\\x8c\\xe5\\xbe\\x85\\xe8\\xa7\\xa3\\xe6\\xb1\\xba\\n'"
      ]
     },
     "execution_count": 33,
     "metadata": {},
     "output_type": "execute_result"
    }
   ],
   "source": [
    "#coding=utf-8\n",
    "import jieba\n",
    "import jieba.posseg as pseg\n",
    "import operator\n",
    "\n",
    "#list直接印列表中文部分會印出unicode編碼，必須用迴圈印才能印出正常編碼，因為list類別python預設轉為unicode\n",
    "#方便程式內溝通\n",
    "\n",
    "'''\n",
    "for obj in filename:\n",
    "    print obj\n",
    "'''\n",
    "\n",
    "fileword=\"\"\n",
    "dic = {}\n",
    "result = []\n",
    "jieba.set_dictionary(\"E:\\iii\\jieba\\dict.txt.big.txt\")\n",
    "\n",
    "\n",
    "#for obj in filename:\n",
    "    #str_convert = ''.join(obj.encode('utf-8'))\n",
    "    #file_list = open('C:\\\\Users\\\\BigData\\\\Desktop\\\\DataSet\\\\'+ obj.decode('utf8'), 'r')\n",
    "    #file_list_2= open('C:\\\\Users\\\\BigData\\\\Desktop\\\\DataSet\\\\'+ obj.decode('utf8')+'_2', 'w')\n",
    "file_list = open('C:\\\\Users\\\\BigData\\\\Desktop\\\\DataSet\\\\'+ filename[0]+'.txt', 'r')\n",
    "file_list_2= open('C:\\\\Users\\\\BigData\\\\Desktop\\\\DataSet\\\\'+ filename[0]+'.txt'+'_2', 'w')\n",
    "#file_list = open('C:\\\\Users\\\\BigData\\\\Desktop\\\\DataSet\\\\sample103,婚,337.txt'.decode('utf8'), 'r')\n",
    "#file_list_2= open('C:\\\\Users\\\\BigData\\\\Desktop\\\\DataSet\\\\sample103,婚,337_2.txt'.decode('utf8'), 'w')\n",
    "\n",
    "for line in file_list.readlines():\n",
    "    line_s=line.strip()\n",
    "    result.append(line_s)\n",
    "file_list_2.write(\", \".join(result))\n",
    "file_list_2.close()\n",
    "file_list.close()\n",
    "\n",
    "'''\n",
    "for ele in result:\n",
    "    print \"TX\"+ele\n",
    "'''\n",
    "\n",
    "result2 = (\"\".join(result))\n",
    "#print result2\n",
    "seg_list = jieba.cut_for_search(result2) #type 'generator'\n",
    "#rint seg_list\n",
    "print(\", \".join(seg_list))\n",
    "'''\n",
    "words = pseg.cut(result2)\n",
    "for word, flag in words:\n",
    "    print('%s %s' % (word, flag))  #列印斷字與判斷出的詞性\n",
    "'''\n",
    "#for ele in seg_list:\n",
    "    #print ele\n",
    "#print type(seg_list) #generator\n",
    "#print (\",\".join(seg_list))\n",
    "\n",
    "\n",
    "for ele in list(seg_list):\n",
    "    if ele not in dic:\n",
    "        dic[ele] = 1\n",
    "    else:\n",
    "        dic[ele] = dic[ele] + 1\n",
    "#print dic\n",
    "#print seg_list[2]\n",
    "#sorted_x = sorted(dic.items(), key=operator.itemgetter(1), reverse=True)\n",
    "#sort對list排序；sorted對iterable排序  但排變list\n",
    "#print sorted_x\n",
    "'''\n",
    "for ele in dic:\n",
    "    print ele, dic[ele]\n",
    "#直接印dic沒順序\n",
    "'''\n",
    "\n",
    "'''\n",
    "for ele2 in sorted_x:\n",
    "    #ele2 is tuple type\n",
    "    print ele2  #編碼問題待解決\n",
    "'''\n",
    "    \n",
    "#f = open('C:\\Users\\BigData\\Desktop\\DataSet\\sample'+response_soup.select('.Table-List td')[1].text+'.txt', 'w')"
   ]
  },
  {
   "cell_type": "code",
   "execution_count": 23,
   "metadata": {
    "collapsed": false,
    "scrolled": true
   },
   "outputs": [
    {
     "name": "stdout",
     "output_type": "stream",
     "text": [
      "維持,夫妻,美國,難以,分居,生活,定居,民法,104,95,1052,八年,言詞辯論,20,破綻,父親,幸福,家事,10,要求\n"
     ]
    }
   ],
   "source": [
    "import jieba.analyse\n",
    "jieba.analyse.set_idf_path(\"E:\\iii\\jieba\\idf.txt.big\") # file_name\n",
    "jieba.analyse.set_stop_words(\"E:\\iii\\jieba\\stop_words.txt\") # file_name\n",
    "keyword = jieba.analyse.extract_tags(result2, topK=20, withWeight=False, allowPOS=())  #此為list\n",
    "print \",\".join(keyword)"
   ]
  },
  {
   "cell_type": "code",
   "execution_count": 14,
   "metadata": {
    "collapsed": false
   },
   "outputs": [
    {
     "name": "stdout",
     "output_type": "stream",
     "text": [
      "我,喜欢,吃,土豆,土豆,是,个,百,搭,的,东西,我,不,喜欢,今天,雾,霾,的,北京,costumer, ,service,\n",
      "1\n"
     ]
    }
   ],
   "source": [
    "import jieba\n",
    "sentences = [\"我喜欢吃土豆\",\"土豆是个百搭的东西\",\"我不喜欢今天雾霾的北京\", 'costumer service']\n",
    "# jieba.suggest_freq(‘百搭‘, True)\n",
    "words = [list(jieba.cut(doc)) for doc in sentences]\n",
    "#print(words)\n",
    "sen = \"\"\n",
    "for ele in words:\n",
    "    for ele2 in ele:\n",
    "        sen = sen + ele2 + ','\n",
    "print sen\n",
    "#print(', '.join(words))\n",
    "print jieba.suggest_freq('雾霾', True)"
   ]
  },
  {
   "cell_type": "code",
   "execution_count": 43,
   "metadata": {
    "collapsed": false
   },
   "outputs": [
    {
     "name": "stdout",
     "output_type": "stream",
     "text": [
      "土豆\n"
     ]
    }
   ],
   "source": [
    "import jieba.analyse\n",
    "sentence=\"我喜欢吃土豆,土豆是个百搭的东西,我不喜欢今天雾霾的北京\"\n",
    "tup=jieba.analyse.extract_tags(sentence, topK=1, withWeight=False, allowPOS=())\n",
    "s = \"\".join(tup)\n",
    "print(s)"
   ]
  },
  {
   "cell_type": "code",
   "execution_count": 5,
   "metadata": {
    "collapsed": false
   },
   "outputs": [
    {
     "name": "stdout",
     "output_type": "stream",
     "text": [
      "百度一下，你就知道\n"
     ]
    }
   ],
   "source": [
    "# -*- coding: utf-8 -*-\n",
    "'''\n",
    "from selenium import webdriver\n",
    "from selenium.common.exceptions import NoSuchElementException\n",
    "from selenium.webdriver.common.keys import Keys\n",
    "import time\n",
    "import os\n",
    "\n",
    "#browser = webdriver.Firefox()\n",
    "#browser = webdriver.Ie('IEDriverServer.exe')\n",
    "browser = webdriver.Chrome(executable_path=r'C:\\Python27\\WebDriver\\chromedriver.exe')\n",
    "browser.get('http://www.google.com.tw/')\n",
    "elem = browser.find_element_by_xpath(\"//input[@id='lst-ib']\")\n",
    "elem.send_keys(u'艾小克' + Keys.RETURN)\n",
    "time.sleep(1)\n",
    "links = browser.find_elements_by_xpath(\"//h3[@class='r']/a\")\n",
    "assert links[0].text == u'瓶水相逢- 艾小克', 'not match'   ##有錯\n",
    "browser.close()'''\n",
    "\n",
    "from selenium import webdriver\n",
    "\n",
    "driver = webdriver.Chrome(executable_path=r'C:\\Python27\\WebDriver\\chromedriver.exe')\n",
    "#driver.get('http://fyjud.lawbank.com.tw/listcontent5.aspx', headers=header)\n",
    "#browser.find_element_by_id(\"su\").click()\n",
    "driver.get('http://www.baidu.com/')\n",
    "print driver.title  # 把页面title 打印出来\n",
    "driver.quit()"
   ]
  },
  {
   "cell_type": "code",
   "execution_count": 25,
   "metadata": {
    "collapsed": false
   },
   "outputs": [
    {
     "data": {
      "text/plain": [
       "u'C:\\\\Users\\\\BigData'"
      ]
     },
     "execution_count": 25,
     "metadata": {},
     "output_type": "execute_result"
    }
   ],
   "source": [
    "pwd"
   ]
  }
 ],
 "metadata": {
  "kernelspec": {
   "display_name": "Python 2",
   "language": "python",
   "name": "python2"
  },
  "language_info": {
   "codemirror_mode": {
    "name": "ipython",
    "version": 2
   },
   "file_extension": ".py",
   "mimetype": "text/x-python",
   "name": "python",
   "nbconvert_exporter": "python",
   "pygments_lexer": "ipython2",
   "version": "2.7.10"
  }
 },
 "nbformat": 4,
 "nbformat_minor": 0
}

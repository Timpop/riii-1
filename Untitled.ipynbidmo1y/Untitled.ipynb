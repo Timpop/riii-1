{
 "cells": [
  {
   "cell_type": "code",
   "execution_count": 25,
   "metadata": {
    "collapsed": false
   },
   "outputs": [
    {
     "name": "stdout",
     "output_type": "stream",
     "text": [
      "9\n",
      "2\n",
      "3\n",
      "1\n",
      "4\n",
      "5\n",
      "6\n",
      "6\n"
     ]
    }
   ],
   "source": [
    "\n"
   ]
  },
  {
   "cell_type": "code",
   "execution_count": 70,
   "metadata": {
    "collapsed": false
   },
   "outputs": [
    {
     "name": "stdout",
     "output_type": "stream",
     "text": [
      "<type 'unicode'>\n",
      "<type 'list'>\n",
      "93,婚,292\n",
      "<type 'str'>\n",
      "<type 'unicode'>\n",
      "931125\n",
      "<type 'str'>\n",
      "<type 'unicode'>\n",
      "離婚\n",
      "<type 'str'>\n",
      "<type 'unicode'>\n"
     ]
    },
    {
     "data": {
      "text/plain": [
       "\"\\nch_numbers= u'\\xe9\\x9b\\xb6\\xe5\\xa3\\xb9\\xe8\\xb2\\xb3\\xe5\\x8f\\x83\\xe8\\x82\\x86\\xe4\\xbc\\x8d\\xe9\\x99\\xb8\\xe6\\x9f\\x92\\xe6\\x8d\\x8c\\xe7\\x8e\\x96\\xe6\\x8b\\xbe'\\n\\n\\n\\nfor g in m :\\n    print _uniout.unescape(str(g),'utf-8') \\n\""
      ]
     },
     "execution_count": 70,
     "metadata": {},
     "output_type": "execute_result"
    }
   ],
   "source": [
    "import os \n",
    "import re\n",
    "import codecs  #強制轉成utf-8\n",
    "import _uniout \n",
    "\n",
    "\n",
    "dir_path = u'./judicial/'\n",
    "filename = os.path.join(dir_path , u'臺灣基隆,93,婚,292.txt')\n",
    "\n",
    "# w ,r ,a ,r+ ,w+ ,rb ,wb\n",
    "\n",
    "with codecs.open(filename ,'r','utf-8') as f :\n",
    "    content = f.read() # 不能圖超過 2Mb\n",
    "    \n",
    "    #f.seek(0,0) #檔案指標移回檔案開頭\n",
    "    #lines = f.readlines()# 不能圖超過 2Mb\n",
    "    f.close() # 在with 中 可不寫,會強制關閉\n",
    "    # end of with\n",
    "    \n",
    "#print content\n",
    "\n",
    "    \n",
    "content = re.sub(u'[\\r\\n]',' ',content)\n",
    "\n",
    "m = re.search(u'(【裁判日期】) ?(?P<date>\\d{6,7})',content)\n",
    "f2 = open ('judicial/test.txt','w')\n",
    "date2 = m.group('date')\n",
    "print type(date2)\n",
    "\n",
    "m = re.findall(u'(【\\W{1,4}】)([^【】 ]+)',content)\n",
    "print type(m)\n",
    "f2.write(date2)\n",
    "f2.close()\n",
    "with codecs.open('judicial/test2.txt','w','utf-8') as f3 :\n",
    "    for g in m :\n",
    "        print g[1]\n",
    "        print type(_uniout.unescape(str(g),'utf-8'))\n",
    "        print type(g[1])\n",
    "        f3.write(g[1]+'\\r\\n')\n",
    "\n",
    "'''\n",
    "ch_numbers= u'零壹貳參肆伍陸柒捌玖拾'\n",
    "\n",
    "\n",
    "\n",
    "for g in m :\n",
    "    print _uniout.unescape(str(g),'utf-8') \n",
    "'''"
   ]
  },
  {
   "cell_type": "code",
   "execution_count": null,
   "metadata": {
    "collapsed": true
   },
   "outputs": [],
   "source": [
    "# -*- utf-8 -*-\n",
    "\n",
    "s = u'壹 我是人 我跳針 \\ 我想睡覺（一）'\n",
    "dic = u'壹'\n",
    "dic2 = u'（一）'\n",
    "dic3 = u' 施'\n",
    "   \n",
    "def check(doc,word):\n",
    "    if word in doc:\n",
    "        return doc.index(word)+1\n",
    "    else:\n",
    "        return 0\n",
    "\n",
    "#print check(s,dic)\n",
    "#print check(s,dic2)\n",
    "\n",
    "listindex = [check(s,dic),check(s,dic2),check(s,dic3)]\n",
    "\n",
    "mini=[9,2,3,1,4,5,6]\n",
    "minnum = 999999999\n",
    "sortlist = []\n",
    "\n",
    "for i in range(len(mini)):\n",
    "    print mini[i]\n",
    "    if mini[i] < minnum:\n",
    "        mininum = mini[i]\n",
    "print mininum"
   ]
  },
  {
   "cell_type": "code",
   "execution_count": 61,
   "metadata": {
    "collapsed": false
   },
   "outputs": [
    {
     "name": "stdout",
     "output_type": "stream",
     "text": [
      "['a', 'c', 'd']\n",
      "{'c': 3, 'b': 2}\n",
      "<type 'tuple'>\n",
      "我\n"
     ]
    }
   ],
   "source": [
    "a = ['a', 'b', 'c', 'd']\n",
    "a.pop(1)\n",
    "print a\n",
    "b = {'a':1,'b':2,'c':3}\n",
    "b.pop('a')\n",
    "print b\n",
    "\n",
    "c = ('我','是','人')\n",
    "print type(c)\n",
    "print c[0]\n"
   ]
  }
 ],
 "metadata": {
  "kernelspec": {
   "display_name": "Python 2",
   "language": "python",
   "name": "python2"
  },
  "language_info": {
   "codemirror_mode": {
    "name": "ipython",
    "version": 2
   },
   "file_extension": ".py",
   "mimetype": "text/x-python",
   "name": "python",
   "nbconvert_exporter": "python",
   "pygments_lexer": "ipython2",
   "version": "2.7.10"
  }
 },
 "nbformat": 4,
 "nbformat_minor": 0
}

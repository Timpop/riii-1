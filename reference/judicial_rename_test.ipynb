{
 "cells": [
  {
   "cell_type": "code",
   "execution_count": 16,
   "metadata": {
    "collapsed": false
   },
   "outputs": [
    {
     "ename": "AttributeError",
     "evalue": "'NoneType' object has no attribute 'group'",
     "output_type": "error",
     "traceback": [
      "\u001b[0;31m---------------------------------------------------------------------------\u001b[0m",
      "\u001b[0;31mAttributeError\u001b[0m                            Traceback (most recent call last)",
      "\u001b[0;32m<ipython-input-16-7fb8fa530c44>\u001b[0m in \u001b[0;36m<module>\u001b[0;34m()\u001b[0m\n\u001b[1;32m     22\u001b[0m     \u001b[0;31m#print date\u001b[0m\u001b[0;34m\u001b[0m\u001b[0;34m\u001b[0m\u001b[0m\n\u001b[1;32m     23\u001b[0m     \u001b[0mm_judge\u001b[0m \u001b[0;34m=\u001b[0m \u001b[0mre\u001b[0m\u001b[0;34m.\u001b[0m\u001b[0msearch\u001b[0m\u001b[0;34m(\u001b[0m\u001b[0;34mu'(\\S{4,5})地方法院民事(\\S{2})(\\S)年度(\\S+)字第(\\S+)號'\u001b[0m\u001b[0;34m,\u001b[0m\u001b[0mcontent\u001b[0m\u001b[0;34m)\u001b[0m\u001b[0;34m\u001b[0m\u001b[0m\n\u001b[0;32m---> 24\u001b[0;31m     \u001b[0mlocate\u001b[0m \u001b[0;34m=\u001b[0m \u001b[0mm_judge\u001b[0m\u001b[0;34m.\u001b[0m\u001b[0mgroup\u001b[0m\u001b[0;34m(\u001b[0m\u001b[0;36m1\u001b[0m\u001b[0;34m)\u001b[0m\u001b[0;34m\u001b[0m\u001b[0m\n\u001b[0m\u001b[1;32m     25\u001b[0m     \u001b[0;32mprint\u001b[0m \u001b[0mlocate\u001b[0m\u001b[0;34m\u001b[0m\u001b[0m\n\u001b[1;32m     26\u001b[0m     \u001b[0mjudgetype\u001b[0m \u001b[0;34m=\u001b[0m \u001b[0mm_judge\u001b[0m\u001b[0;34m.\u001b[0m\u001b[0mgroup\u001b[0m\u001b[0;34m(\u001b[0m\u001b[0;36m2\u001b[0m\u001b[0;34m)\u001b[0m\u001b[0;34m\u001b[0m\u001b[0m\n",
      "\u001b[0;31mAttributeError\u001b[0m: 'NoneType' object has no attribute 'group'"
     ]
    }
   ],
   "source": [
    "# -*- utf-8 -*-\n",
    "import os \n",
    "import re\n",
    "import codecs  #強制轉成utf-8\n",
    "import _uniout \n",
    "import glob\n",
    "\n",
    "def mkfile(newname,content):\n",
    "    f = open('./judicial_test/rename/%s.txt'%(newname),'w')\n",
    "    f.write(content.encode('utf8'))\n",
    "    f.close()\n",
    "\n",
    "\n",
    "with codecs.open('./judicial_test/福建連江,93,婚,5.txt','r','utf-8') as f :\n",
    "    content = f.read() # 不能圖超過 2Mb\n",
    "    f.close() # 在with 中 可不寫,會強制關閉\n",
    "    #print content\n",
    "    m_ch = re.search(u'(【裁判字號】)(\\S{5,14})[^【】 ]',content)\n",
    "    char = m_ch.group(2)\n",
    "    m_date = re.search(u'(【裁判日期】)(\\d{6,7})',content)\n",
    "    date = u'裁判日期：'+m_date.group(2)\n",
    "    #print date\n",
    "    m_judge = re.search(u'(\\S{4,5})地方法院民事(\\S{2})',content)\n",
    "    locate = m_judge.group(1)\n",
    "    print locate\n",
    "    judgetype = m_judge.group(2)\n",
    "    print judgetype\n",
    "    newname = judgetype+','+locate+','+char+','+date\n",
    "    #print newname\n",
    "    mkfile(newname,content)"
   ]
  },
  {
   "cell_type": "code",
   "execution_count": 56,
   "metadata": {
    "collapsed": false
   },
   "outputs": [
    {
     "name": "stdout",
     "output_type": "stream",
     "text": [
      "士林地方 判決\n"
     ]
    }
   ],
   "source": [
    "import re\n",
    "s = u'333  3   臺灣士林地方法院家事判決　　　　　　　 99年度婚字第331號'\n",
    "m = re.search(u'[  \\d]*(臺灣|台灣|福建)(\\S{4,5})法院(民事|家事|暫時)(\\S{2})',s)\n",
    "print m.group(2),m.group(4)\n"
   ]
  }
 ],
 "metadata": {
  "kernelspec": {
   "display_name": "Python 2",
   "language": "python",
   "name": "python2"
  },
  "language_info": {
   "codemirror_mode": {
    "name": "ipython",
    "version": 2
   },
   "file_extension": ".py",
   "mimetype": "text/x-python",
   "name": "python",
   "nbconvert_exporter": "python",
   "pygments_lexer": "ipython2",
   "version": "2.7.9"
  }
 },
 "nbformat": 4,
 "nbformat_minor": 0
}

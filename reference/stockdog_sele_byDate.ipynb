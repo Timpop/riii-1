{
 "cells": [
  {
   "cell_type": "code",
   "execution_count": null,
   "metadata": {
    "collapsed": false,
    "scrolled": false
   },
   "outputs": [
    {
     "name": "stdout",
     "output_type": "stream",
     "text": [
      "15394\n"
     ]
    }
   ],
   "source": [
    "import os\n",
    "from selenium import webdriver\n",
    "import pyautogui\n",
    "import random\n",
    "import time\n",
    "import csv\n",
    "\n",
    "chromeOptions = webdriver.ChromeOptions()\n",
    "prefs = {\"download.default_directory\" : \"C:\\Temp\",\"download.prompt_for_download\": False}\n",
    "chromeOptions.add_experimental_option(\"prefs\",prefs)\n",
    "driver = webdriver.Chrome(chrome_options=chromeOptions)\n",
    "'''\n",
    "fp = webdriver.FirefoxProfile()\n",
    "fp.set_preference(\"browser.download.folderList\",2)\n",
    "fp.set_preference(\"browser.download.manager.showWhenStarting\",False)\n",
    "fp.set_preference(\"browser.download.dir\", os.getcwd())\n",
    "fp.set_preference(\"browser.helperApps.neverAsk.saveToDisk\", \"application/octet-stream\")\n",
    "driver= webdriver.Firefox(firefox_profile=fp)\n",
    "'''\n",
    "driver.implicitly_wait(30)\n",
    "driver.get(\"https://www.stockdog.com.tw/\")\n",
    "driver.find_element_by_name(\"adgh4r23\").clear()\n",
    "driver.find_element_by_name(\"adgh4r23\").send_keys(\"j81246\")\n",
    "driver.find_element_by_name(\"fsdfy452d\").clear()\n",
    "driver.find_element_by_name(\"fsdfy452d\").send_keys(\"zero11911\")\n",
    "#輸入驗證碼\n",
    "cat = raw_input()\n",
    "driver.find_element_by_name(\"captcha\").clear()\n",
    "driver.find_element_by_name(\"captcha\").send_keys(cat)\n",
    "driver.find_element_by_css_selector(\"#next > button.btn.btn-primary\").click()\n",
    "\n",
    "filepath=r\"C:/Program Files (x86)/Google/Chrome/Application/43.0.2357.124/\"\n",
    "#設定日期區間\n",
    "datelist=[\"2015-04-29\"]\n",
    "\n",
    "for line in datelist :\n",
    "    date=line.strip()\n",
    "    with open('topComList.csv', 'rb') as csvfile:\n",
    "        reader = csv.reader(csvfile)\n",
    "        for row in reader:            \n",
    "            sid= row[0]\n",
    "            name=row[1]\n",
    "            outfile=(filepath+name+sid+'_買賣日報_細部籌碼_'+date+'_股狗網.csv').decode('utf-8')\n",
    "            if(os.path.isfile(outfile)):\n",
    "                print outfile+\" exist!\"\n",
    "                continue\n",
    "            indexUrl='https://www.stockdog.com.tw/stockdog/index.php?sid='+sid+'+'+name+'&p=1&m=2&date='+date    \n",
    "            driver.get(indexUrl)\n",
    "            try:\n",
    "                msg=driver.find_element_by_id('define_table')\n",
    "            except:\n",
    "                print outfile.encode('utf-8')+\" no data!\"\n",
    "                continue\n",
    "            \n",
    "            try:\n",
    "                export = driver.find_element_by_id('ZeroClipboard_TableToolsMovie_1')\n",
    "            except:\n",
    "                print \"no csv icon!\"\n",
    "                continue\n",
    "            time.sleep(5)\n",
    "            webdriver.ActionChains(driver).move_to_element_with_offset(export,18,18).click().perform()\n",
    "            time.sleep(5)\n",
    "            pyautogui.press('tab')\n",
    "            pyautogui.press('tab')\n",
    "            pyautogui.press('tab')\n",
    "            pyautogui.press('enter')\n",
    "            time.sleep(random.randrange(22,46))\n"
   ]
  },
  {
   "cell_type": "code",
   "execution_count": null,
   "metadata": {
    "collapsed": true
   },
   "outputs": [],
   "source": []
  }
 ],
 "metadata": {
  "kernelspec": {
   "display_name": "Python 2",
   "language": "python",
   "name": "python2"
  },
  "language_info": {
   "codemirror_mode": {
    "name": "ipython",
    "version": 2
   },
   "file_extension": ".py",
   "mimetype": "text/x-python",
   "name": "python",
   "nbconvert_exporter": "python",
   "pygments_lexer": "ipython2",
   "version": "2.7.10"
  }
 },
 "nbformat": 4,
 "nbformat_minor": 0
}

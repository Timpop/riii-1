{
 "cells": [
  {
   "cell_type": "code",
   "execution_count": 5,
   "metadata": {
    "collapsed": false
   },
   "outputs": [
    {
     "name": "stdout",
     "output_type": "stream",
     "text": [
      "{u'\\u3000': 18, u'\\u672a\\u66fe': 3, u'\\u5982\\u5c0d': 1, u'\\u3010': 3, u'\\u4e14': 2, u'\\u5916': 1, u'\\u4e00\\u7537\\u4e00\\u5973': 1, u'\\uff1a': 8, u' ': 91, u'\\u907a\\u68c4': 2, u'\\u901a\\u77e5': 6, u'\\u88ab': 1, u'\\u672a': 9, u'\\u53ef\\u7a3d': 2, u'\\u610f\\u9858': 1, u'\\u5e0c\\u671b': 2, u'\\u99c1': 1, u'\\u4f5c\\u4f55': 2, u'\\u518d\\u6b21': 2, u'\\u8ad6\\u7d50': 1, u'\\u4e0a\\u8a34': 4, u'\\u4ed6\\u65b9\\u5f97': 2, u'\\u67e5': 1, u'\\u9664': 1, u'\\u9020\\u8005': 1, u'\\u7576\\u4e8b': 4, u'\\u5e74': 6, u'\\u5176': 6, u'\\u6c11\\u4e8b': 10, u'\\u5341': 2, u'\\u53ef\\u8a8d': 1, u'\\u7684': 3, u'\\u8207': 9, u'\\u65e9\\u5df2': 1, u'\\u5be6\\u4ea1': 1, u'\\u4e94': 3, u'\\u5217': 1, u'\\u7a0b\\u5ea6': 1, u'\\u7121': 3, u'\\u4e09\\u5e74': 2, u'\\u662f': 1, u'\\u4ee5\\u524d': 4, u'\\u540d\\u5b58': 1, u'\\u75be': 2, u'\\u5169\\u9020\\u9593': 1, u'\\u6236\\u53e3': 1, u'\\u9020': 2, u'\\u65e5\\u79fb\\u7f72': 1, u'\\u9069\\u7528': 3, u'103': 3, u'\\u5408\\u6cd5': 3, u'104': 3, u'\\u5f92\\u5211': 2, u'30': 2, u'\\u800c\\u61c9': 1, u'\\u4f75': 1, u'\\u5e74\\u5ea6': 5, u'\\u5f35\\u59a4': 1, u'\\u5df2\\u55aa': 1, u'\\u9001': 1, u'\\u76ee\\u524d': 1, u'\\u52a0\\u4ee5': 1, u'\\u72c0\\u614b': 2, u'\\u4e0a': 6, u'\\u524d\\u6bb5': 2, u'\\u7d93': 4, u'\\u8a8d\\u5176': 1, u'\\u5224\\u6c7a': 11, u'\\u5247\\u672c\\u4ef6': 1, u'\\u5834\\u4e4b\\u7576': 3, u'\\u5834\\u4eba': 2, u'\\u72af\\u7f6a': 2, u'\\u7528': 2, u'\\u7b2c': 25, u'\\u4e4b\\u540d': 1, u'\\u4e3b\\u89c0': 1, u'\\u4ee3\\u7406\\u4eba': 1, u'\\u8ca0\\u64d4': 1, u'6': 3, u'\\u4f9d\\u6cd5': 1, u'\\u6b63\\u672c': 1, u'\\u5fc5\\u8981': 3, u'\\u65e5\\u8a00\\u8a5e': 1, u'\\u539f\\u544a': 14, u'\\u53d7': 2, u'91': 1, u'\\u4e0d\\u6cbb': 4, u'\\u5411': 3, u'\\u540c\\u5c45': 2, u'\\u4ee5': 2, u'\\u4ee5\\u4e0a': 1, u'\\u767c\\u751f': 2, u'\\u582a\\u8a8d': 2, u'\\u8650\\u5f85': 6, u'\\u4e4b\\u4e8b\\u9805': 1, u'\\u771f\\u5be6': 1, u'\\u674e\\u5b9c\\u5a1f': 1, u'\\u3001': 35, u'\\u4e26\\u8072\\u660e': 1, u'\\u3011': 3, u'\\u8d77\\u8a34': 1, u'\\u6b64\\u70ba': 1, u'\\u5317': 1, u'\\u516c\\u8b49\\u66f8': 1, u'\\u6a19\\u6e96': 2, u'\\u7406\\u7531': 3, u'\\u865f\\u51fd': 1, u'\\u7d50\\u5a5a': 3, u'1': 3, u'\\u73fe\\u61c9': 1, u'\\u5404\\u4eba': 2, u'\\u689d\\u7b2c': 7, u'\\u4eba': 9, u'\\u89c0': 1, u'\\u9808\\u65bc\\u5224': 1, u'\\u524d': 2, u'1052': 6, u'\\u5b57': 4, u'\\u53f0\\u4e0a': 2, u'\\u5a5a\\u5b57': 1, u'\\u5834\\u6642': 2, u'\\u7cbe\\u795e': 2, u'\\u516b': 2, u'\\u4ee3\\u7406': 1, u'\\u65b9\\u70ba': 4, u'\\u5377': 1, u'\\u6c11\\u570b': 2, u'1304': 2, u'\\u8a00': 3, u'\\u63d0\\u8d77': 1, u'\\u7b49\\u8a9e': 1, u'\\u800c': 12, u'\\u5982\\u4e0b': 1, u'\\u7d42\\u7d50': 1, u'\\u7d93\\u67e5': 1, u'\\u8ad6\\u671f': 3, u'\\u89c0\\u9762': 1, u'\\u4e00\\u9020': 2, u'\\u6c11\\u6cd5': 6, u'\\u7834\\u7dbb': 1, u'\\u7fa9': 1, u',': 2, u'\\u7230': 1, u'\\u539f\\u672c': 1, u'\\u78ba\\u5b9a': 2, u'\\uff08': 2, u'\\u4eba\\u9593': 1, u'\\u57fa\\u672c': 1, u'\\u6240': 3, u'\\u7444': 1, u'\\u5834': 1, u'\\u8acb': 5, u'\\u9805\\u5b9a': 2, u'\\u6545\\u672c\\u4ef6': 1, u'\\u975e': 1, u'\\u96e3': 2, u'\\u65e5': 10, u'\\u5176\\u5224\\u65b7': 1, u'\\u6309': 2, u'\\u865f\\u5224': 1, u'\\u4e03': 2, u'\\u5982': 5, u'\\u59d4\\u4efb': 1, u'\\u6709': 18, u'\\u4ee5\\u6c7a': 1, u'\\u4e4b\\u4e8b\\u5be6': 2, u'86': 1, u'87': 2, u'\\u5f9e': 1, u'\\u6b21': 2, u'\\u5169\\u9858': 1, u'\\u5230\\u5834': 7, u'\\u4f9d\\u8077\\u6b0a': 2, u'\\u5730\\u65b9\\u6cd5\\u9662': 1, u'\\u6c7a\\u6642': 2, u'\\u9644\\u5377': 1, u'\\u5f35\\u69ae\\u5b97\\u8a34': 1, u'\\u5169\\u9020\\u5f92': 1, u'\\u72c0': 1, u'\\u4e43': 1, u'\\u903e\\u516d\\u500b': 2, u'\\u5373\\u96e3': 1, u'\\u5730\\u5340': 5, u'\\u5169\\u9020': 6, u'\\u5169\\u6027': 1, u'\\u696d\\u64da': 1, u'\\u70ba\\u8b49': 1, u'\\u689d\\u8072': 1, u'\\u516d': 3, u'\\u7e7c\\u7e8c': 3, u'\\u7121\\u56de': 1, u'\\u3002': 54, u'\\u6708': 7, u'\\u65e5\\u5167': 1, u'\\u96e3\\u4ee5': 3, u'\\u5408\\u610f': 2, u'\\u6216': 11, u'\\u4e4b\\u4e3b': 1, u'\\u689d': 6, u'\\u6b63\\u7576': 1, u'\\u6bba\\u5bb3': 2, u'\\u5b58\\u5728': 2, u'\\u4e4b\\u4e00': 5, u'\\u5225\\u6709': 1, u'\\u76f4\\u7cfb': 4, u'\\u540c\\u4e00': 1, u'\\u4e4b\\u7f8e\\u6eff': 1, u'\\u5728': 3, u'\\u8a8d\\u8b49': 1, u'\\u6700\\u9ad8\\u6cd5\\u9662': 3, u'2': 5, u'\\u5730': 1, u'\\u4e26\\u61c9': 2, u'\\u6cd5\\u6276': 1, u'\\u8faf\\u8ad6\\u671f': 5, u'\\u8a34\\u8a1f\\u6a19': 2, u'\\u6cd5': 4, u'\\u8a34\\u8acb': 1, u'\\u9805\\u4e4b\\u898f\\u5b9a': 1, u'\\u6642\\u671f': 2, u'\\u610f\\u6b32': 2, u'12': 1, u'15': 1, u'\\u5ef6\\u5c55': 1, u'\\u4f4f\\u5c45': 1, u'\\u50c5\\u7531': 1, u'\\u674e\\u79c0\\u660e': 1, u'\\u5a5a\\u59fb': 16, u'\\u8a34\\u8a1f': 5, u'\\u6703': 1, u'\\u4e09': 4, u'\\u6838\\u7121': 1, u'\\u8aa0\\u646f': 1, u'\\u4e0d\\u5408': 1, u'\\u78ba\\u5b9a\\u8005': 2, u'\\u76f8\\u7576': 3, u'\\u6216\\u9673\\u8ff0': 2, u'\\u4e4b\\u4e8b': 3, u'\\u5df2\\u96e3': 1, u'\\u4eba\\u6c11': 6, u'\\u865f\\u539f': 1, u'\\u7576\\u4e8b\\u4eba': 4, u'\\u544a': 2, u'\\u5f8b\\u5e2b': 1, u'\\u865f\\u5224\\u6c7a': 1, u'\\u64da': 1, u'79': 2, u'78': 1, u'\\u8acb\\u6c42': 9, u'1040': 2, u'\\u751f\\u6b7b': 2, u'\\u7167': 1, u'\\u5168\\u6587': 1, u'\\u6848\\u7531': 1, u'\\u53f0': 1, u'\\u9020\\u8faf\\u8ad6': 3, u'\\u8a8d\\u5b9a': 1, u'\\u689d\\u6e96': 1, u'\\u5fc5\\u9808': 2, u'\\u7063\\u5730\\u5340': 7, u'\\u6709\\u671f\\u5f92\\u5211': 2, u'\\u660e\\u8005': 1, u'\\u4e8b\\u4ef6': 6, u'\\u5510\\u8fea\\u83ef\\u5f8b\\u5e2b': 1, u'\\u4e0a\\u958b': 1, u'\\u5408\\u4e00': 2, u'\\u4f9d': 8, u'\\u5018\\u8655': 1, u'\\u898f\\u5b9a\\u8005': 1, u'\\u88c1\\u5224': 6, u'\\u61c9\\u7531': 3, u'(': 1, u'\\u66f8\\u72c0': 4, u'\\u5730\\u65b9': 1, u'\\u5404\\u6b3e': 2, u'\\u5176\\u4ed6': 1, u'8': 1, u'\\u8cbb': 1, u'\\u65b9\\u6cd5': 1, u'\\u5883\\u6cc1': 1, u'\\u8b49\\u64da': 5, u'\\u61c9': 3, u'\\u4e8b\\u4eba': 3, u'\\u8a00\\u8a5e': 2, u'\\u672c\\u4ef6': 2, u'\\u7f72': 1, u'\\u592b\\u59bb': 21, u'\\u7cbe\\u795e\\u75c5': 2, u'\\u96e2\\u5a5a': 17, u'\\u4e00\\u4eba\\u5230': 2, u'\\u72c0\\u6cc1': 1, u'\\u4e00\\u4e8b': 1, u'\\u4e8c': 4, u'\\u65e5\\u66f8': 1, u'\\u7d44\\u7e54': 1, u'\\u8a1f': 1, u'\\u56e0\\u5929\\u707d': 1, u'\\u7531': 7, u'\\u4e4b\\u8072\\u660e': 1, u'\\u8981\\u4ef6': 1, u'\\u4ed6\\u65b9': 6, u'\\u57fa\\u91d1': 1, u'24': 1, u'\\u8cc7\\u8655': 1, u'\\u4fc2': 6, u'\\u7dad\\u6301': 5, u'\\u6709\\u671f': 2, u'\\u53ca': 2, u'\\u672a\\u5230': 2, u'\\u5927\\u9678': 3, u'385': 4, u'386': 2, u'20': 1, u'\\u8072\\u660e': 4, u'\\u5176\\u4e00': 3, u'\\u7063': 1, u'\\u672c\\u9662': 3, u'\\u5e78\\u798f': 1, u'\\u6c7a\\u9001': 1, u'\\u5fa9': 2, u'\\u4e4b\\u4e3b\\u5f35': 1, u'\\u5df2\\u9054': 1, u'\\u91cd\\u5927': 8, u'\\u4f5c\\u6210': 1, u'\\u88ab\\u544a': 12, u'\\u5373\\u5f97': 1, u'\\uff0c': 116, u'29': 1, u'\\u7533\\u8acb': 1, u'\\u6587\\u51c6': 1, u'\\u6842\\u5b57': 1, u'\\u5f97': 5, u'\\u6e96\\u5099': 2, u'\\u4e0d\\u80fd': 1, u'\\u9805': 3, u'\\u5171\\u540c': 9, u'\\u689d\\u4f8b': 2, u'\\u66f8\\u53ca': 1, u'\\u79fb\\u6c11': 1, u'\\u672c': 1, u'\\u660e\\u6587': 2, u'\\u865f': 2, u'\\u4e0d\\u6cbb\\u4e4b\\u60e1': 2, u'\\u6709\\u96e3': 1, u'\\u903e': 2, u'\\u4e0a\\u5217': 1, u'\\u4f9d\\u5ba2': 1, u'\\u4ecd': 2, u'\\u4e4b\\u8072': 3, u'\\u56de\\u524d': 1, u'\\u6545\\u610f': 2, u'\\u5a5a': 4, u'\\u6b64': 4, u'\\u4e26\\u5f97': 2, u'\\u6e96\\u7528': 1, u'\\u83ef': 2, u'\\u65e5\\u671f': 1, u'\\u4e3b\\u6587': 2, u'\\u898f\\u5b9a': 5, u'\\u4eba\\u5747': 2, u'\\u4e4b\\u9673\\u8ff0': 2, u'\\u61c9\\u5b58': 1, u'\\u6027\\u4ea4': 2, u'\\u4e0d': 1, u'\\u5f8c': 4, u'\\u6c11': 2, u'\\u5b98': 1, u'\\u672c\\u5224\\u6c7a': 1, u'\\u8abf\\u67e5': 5, u'\\u88c1\\u5b9a': 1, u'\\u689d\\u6709': 1, u'\\u8a34\\u8a1f\\u6cd5': 6, u'\\u751f\\u6d3b': 6, u')': 1, u'\\u53ca\\u5176': 1, u'\\u4e2d': 6, u'\\u5c31': 1, u'\\u52d5\\u6416\\u800c': 1, u'\\u6240\\u8b02': 1, u'\\u70ba\\u5927\\u9678': 2, u'\\u76ee\\u7684': 1, u'\\u4e0d\\u582a': 4, u'\\u914d\\u5076': 2, u'\\u4f9d\\u884c': 1, u'\\u4e5d': 2, u'\\u51c6\\u8a31': 1, u'\\u53c3\\u7167': 2, u'\\u5df2\\u70ba': 2, u'\\u8a34\\u8a1f\\u8cbb': 1, u'\\u672c\\u6cd5': 1, u'\\u4e00': 4, u'\\u4e0d\\u53ef': 1, u'\\u516c\\u8b49': 1, u'\\u89aa\\u5c6c': 4, u'\\u4e8b\\u5be6': 2, u'\\u6545\\u610f\\u72af\\u7f6a': 2, u'\\u6b64\\u6709': 1, u'\\u7dad': 1, u'\\u5be9\\u914c': 1, u'\\u8a5e\\u8faf': 3, u'\\u7b49\\u4ef6': 1, u'\\u4f46': 3, u'\\u659f\\u914c': 2, u'\\u9054': 2, u'\\u56db': 4, u'\\u9ad8\\u6cd5': 3, u'\\u70ba': 22, u'\\u5be9': 1, u'\\u4e4b\\u8b49': 1, u'51': 3, u'52': 2, u'\\u7d93\\u8ca1\\u5718': 1, u'\\u4e0b\\u5217': 3, u'\\u5931\\u7dad\\u6301': 3, u'\\u4ee5\\u5916': 5, u'\\u91cd\\u5a5a': 2, u'\\u7d93\\u5224\\u8655': 2, u'\\u4f9d\\u5230\\u5834': 2, u'\\u61c9\\u4f9d': 1, u'\\u4f86': 1, u'\\u63d0\\u51fa': 6, u'\\u7e73\\u7d0d': 1, u'\\u60c5\\u5f62': 5, u'\\u81f3\\u65bc': 1, u'\\u6cd5\\u5f8b': 3, u'\\u4e3b': 1, u'\\u9805\\u898f\\u5b9a\\u8a34': 1, u'\\u4e0d\\u50c5': 1, u'\\u4e4b\\u5be6': 1, u'\\u4e4b': 68, u'1040629': 1, u'\\u56e0': 3, u'\\u8ca0\\u8cac\\u8005': 3, u'\\u7e6b': 2, u'\\u8a18\\u5b98': 1, u'\\u806f': 1, u'\\u5df2': 5, u'\\u81fa': 11, u'\\u5c07\\u55aa': 2, u'\\u5bb6\\u5ead': 2, u'\\u4e4b\\u8a34': 1, u'\\u61c9\\u4e00': 1, u'\\u6700\\u9ad8': 3, u'\\u8b04\\u672c': 2, u'\\u6c7a\\u53ca': 1, u'\\u4e26': 1, u'0000000000': 1, u'\\u5bb6\\u4e8b': 5, u'\\u76f8\\u611b\\u4e4b\\u57fa\\u790e': 1, u'\\u53ef\\u6b78\\u8cac': 1, u'\\uff09': 2, u'\\u5ead\\u6703\\u8b70': 1, u'\\u59a8\\u7919': 1, u'\\u52d9': 1, u'\\u6d77\\u5cfd': 1, u'\\u6cd5\\u9662': 8, u'\\u4efb\\u4f55': 3, u'\\u6236\\u7c4d': 2, u'\\u5165\\u5883': 2, u'\\u9805\\u5224': 2, u'\\u610f\\u5716': 2, u'\\u65b9\\u5f97': 3, u'\\u4e0d\\u660e': 3, u'\\u8005': 14, u'\\u6cd5\\u4eba': 1, u'\\u570b': 2, u'\\u65b9\\u9762': 1, u'\\u5c0d': 9, u'\\u6cd5\\u5ead': 1, u'\\u61c9\\u4e88': 1, u'\\u8faf\\u8ad6': 5, u'\\uff1b': 4, u'\\u5834\\u8005': 4, u'\\u6c7a\\u8b70': 1, u'\\u5ba2\\u89c0': 2, u'\\u51fa\\u570b\\u53ca': 1, u'\\u4ea6': 5, u'\\u8077\\u6b0a': 1, u'\\u4ea4\\u6d41': 1, u'\\u53f0\\u7063': 2, u'\\u986f\\u7136': 1, u'\\u4e00\\u65b9': 20, u'\\u65bc': 17, u'\\u524d\\u9805': 4, u'\\u5167\\u653f\\u90e8\\u5165': 1, u'\\u4ee5\\u7dad\\u6301': 4, u'\\u4e3b\\u5f35': 2, u'\\u7121\\u5be6': 1, u'\\u689d\\u7d50\\u5a5a': 1, u'\\u4e8b\\u7531': 12, u'\\u6709\\u540d': 1, u'\\u4e0d\\u5230': 8, u'\\u4ed6': 6, u'\\u689d\\u8a00\\u8a5e': 2, u'486': 2, u'\\u540d\\u7c3f': 1, u'\\u50c5\\u4ed6': 3, u'\\u95dc': 4, u'\\u65b9\\u5f0f': 1, u'\\u662f\\u5426': 3, u'\\u5373': 1, u'\\u4ee5\\u60e1\\u610f': 2, u'\\u81f4': 2, u'\\u4ef6': 1, u'\\u6240\\u793a': 1, u'\\u7d50\\u5408': 1, u'\\u61c9\\u4ee5': 1}\n"
     ]
    }
   ],
   "source": [
    "# -*- coding=utf-8 -*-\n",
    "#import the file\n",
    "import jieba\n",
    "import jieba.posseg as pseg\n",
    "import operator\n",
    "\n",
    "fileword=\"\"\n",
    "dic = {}\n",
    "result = []\n",
    "#jieba.set_dictionary(\"E:\\iii\\jieba\\dict.txt.big.txt\")\n",
    "file_list = open('111.txt', 'r')\n",
    "file_list_2 = open('222.txt','w')\n",
    "for line in file_list.readlines():\n",
    "    line_s=line.strip()\n",
    "    result.append(line_s)\n",
    "file_list_2.write(\", \".join(result))\n",
    "file_list_2.close()\n",
    "file_list.close()\n",
    "\n",
    "result2 = (\"\".join(result))\n",
    "seg_list = jieba.cut_for_search(result2) #type 'generator'\n",
    "#'for' is also valid in generator for iterating\n",
    "for ele in seg_list:\n",
    "    if ele not in dic:\n",
    "        dic[ele] = 1\n",
    "    else:\n",
    "        dic[ele] = dic[ele] + 1\n",
    "\n",
    "        \n",
    "        \n",
    "        \n",
    "        \n",
    "        \n",
    "        \n",
    "        \n",
    "        \n",
    "        \n",
    "        \n",
    "        \n",
    "        f = open('jiebatest2.txt','w')\n",
    "for key,value in dic.iteritems():\n",
    "    con = key.encode('utf8')+','+str(value)+'\\n'\n",
    "    f.write(con)\n",
    "f.close()\n"
   ]
  },
  {
   "cell_type": "code",
   "execution_count": 133,
   "metadata": {
    "collapsed": false
   },
   "outputs": [],
   "source": [
    "import jieba\n",
    "\n",
    "seg_list4 = jieba.lcut_for_search(\"小明硕士毕业于中国科学院计算所，后在日本京都大学深造\")  # 搜索引擎模式\n",
    "#lcut-->output list\n",
    "#print repr(seg_list4)\n",
    "dic={}\n",
    "for ele in seg_list4:\n",
    "    if ele not in dic:\n",
    "        dic[ele] = 1s\n",
    "    else:\n",
    "        dic[ele] = dic[ele] + 1\n",
    "#import collections\n",
    "#strdic = dict([(str(k), v) for k, v in listdecode.get()])\n",
    "#str_dic = dict([(str(k), v) for k, v in dic.iteritems ()])\n",
    "#str_dic ={ key.decode('utf8'):value for key,value in dic.items() }\n",
    "#print str_dic\n",
    "#dicutf8 = _uniout.unescape(str(dic),'utf-8')\n",
    "f = open('jiebatest.txt','w')\n",
    "for key,value in dic.iteritems():\n",
    "    con = key.encode('utf8')+':'+str(value)+'\\n'\n",
    "    f.write(con)\n",
    "f.close()"
   ]
  },
  {
   "cell_type": "code",
   "execution_count": 16,
   "metadata": {
    "collapsed": false
   },
   "outputs": [],
   "source": [
    "import jieba\n",
    "dic ={}\n",
    "seg_list4 = jieba.cut_for_search(\"小明硕士毕业于中国科学院计算所，后在日本京都大学深造\")  # 搜索引擎模式\n",
    "'''\n",
    "for ele in seg_list4:\n",
    "    dic[ele]='value'\n",
    "for index in dic:\n",
    "    print index.encode('utf-8'),dic[index]\n",
    "'''   \n",
    "for ele in seg_list4:\n",
    "    if ele not in dic:\n",
    "        dic[ele] = 1\n",
    "    else:\n",
    "        dic[ele] = dic[ele] + 1\n",
    "f = open('jiebatest.txt','w')\n",
    "for key,value in dic.iteritems():\n",
    "    con = key.encode('utf8')+','+str(value)+'\\n'\n",
    "    f.write(con)\n",
    "f.close()"
   ]
  },
  {
   "cell_type": "code",
   "execution_count": 4,
   "metadata": {
    "collapsed": false
   },
   "outputs": [
    {
     "name": "stdout",
     "output_type": "stream",
     "text": [
      "2\n",
      "True\n",
      "y corresponds to 2\n",
      "z corresponds to 3\n",
      "我 corresponds to 1\n"
     ]
    }
   ],
   "source": [
    "#-*- coding: utf-8 -*-\n",
    "import json\n",
    "d = {'我': 1, 'y': 2, 'z': 3} \n",
    "print d['y']\n",
    "print 'y' in d\n",
    "for key in d:\n",
    "    print key, 'corresponds to', d[key]\n",
    "#for key, value in d.iteritems():\n",
    "    #print key,value\n",
    "#print d.keys()\n",
    "#print json.dumps(d, encoding=\"UTF-8\", ensure_ascii=False)"
   ]
  }
 ],
 "metadata": {
  "kernelspec": {
   "display_name": "Python 2",
   "language": "python",
   "name": "python2"
  },
  "language_info": {
   "codemirror_mode": {
    "name": "ipython",
    "version": 2
   },
   "file_extension": ".py",
   "mimetype": "text/x-python",
   "name": "python",
   "nbconvert_exporter": "python",
   "pygments_lexer": "ipython2",
   "version": "2.7.10"
  }
 },
 "nbformat": 4,
 "nbformat_minor": 0
}

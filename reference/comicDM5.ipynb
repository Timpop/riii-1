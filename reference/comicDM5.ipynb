{
 "cells": [
  {
   "cell_type": "code",
   "execution_count": 1,
   "metadata": {
    "collapsed": false
   },
   "outputs": [],
   "source": [
    "import requests\n",
    "from bs4 import BeautifulSoup\n",
    "link = 'http://www.dm5.com/m216969/#ipg8'\n",
    "res = requests.get(link)\n",
    "res_text = res.text.encode('utf8')\n",
    "#print res_text"
   ]
  },
  {
   "cell_type": "code",
   "execution_count": 6,
   "metadata": {
    "collapsed": false
   },
   "outputs": [],
   "source": [
    "import requests\n",
    "from bs4 import BeautifulSoup\n",
    "import shutil\n",
    "headers={\n",
    "    'Accept':'image/webp,*/*;q=0.8',\n",
    "    'Accept-Encoding':'gzip, deflate, sdch',\n",
    "    'Connection':'keep-alive',\n",
    "    'Host':'manhua1025.107-181-249-122.cdndm5.com',\n",
    "    'Referer':'http://www.dm5.com/m216969/',\n",
    "    'User-Agent':'Mozilla/5.0 (Macintosh; Intel Mac OS X 10_7_5) AppleWebKit/537.36 (KHTML, like Gecko) Chrome/44.0.2403.130 Safari/537.36'\n",
    "}\n",
    "link = 'http://manhua1025.107-181-249-122.cdndm5.com/8/7331/216969/6_6999.png?cid=216969&key=ba9021a44ef0b246c8111a813a915842'\n",
    "res = requests.get(link, stream=True, headers = headers)\n",
    "with open('img2.jpg', 'wb') as out_file:\n",
    "    res.raw.decode_content = True\n",
    "    shutil.copyfileobj(res.raw, out_file)\n",
    "    #r.raw.decode_content = True\n",
    "del res"
   ]
  },
  {
   "cell_type": "code",
   "execution_count": 23,
   "metadata": {
    "collapsed": false
   },
   "outputs": [],
   "source": [
    "import selenium.webdriver as webdriver\n",
    "import time\n",
    "import requests\n",
    "from bs4 import BeautifulSoup\n",
    "from math import ceil\n",
    "import shutil\n",
    "#url ='http://www.dm5.com/m216969/#ipg10'\n",
    "headers={\n",
    "    'Accept':'image/webp,*/*;q=0.8',\n",
    "    'Accept-Encoding':'gzip, deflate, sdch',\n",
    "    'Connection':'keep-alive',\n",
    "    'Host':'manhua1025.107-181-249-122.cdndm5.com',\n",
    "    'Referer':'http://www.dm5.com/m216969/',\n",
    "    'User-Agent':'Mozilla/5.0 (Macintosh; Intel Mac OS X 10_7_5) AppleWebKit/537.36 (KHTML, like Gecko) Chrome/44.0.2403.130 Safari/537.36'\n",
    "}\n",
    "page=44\n",
    "for pp in range(1,page+1):\n",
    "    url = 'http://www.dm5.com/m216969-p{}/'.format(pp)\n",
    "    driver = webdriver.Firefox()\n",
    "    driver.get(url)\n",
    "    #driver.execute_script(\"window.scrollTo(0, document.body.scrollHeight);\")\n",
    "    #driver.execute_script(\"window.scrollTo(0, 10000);\")\n",
    "    driver.find_element_by_id(\"checkAdult\").click()\n",
    "    time.sleep(6)\n",
    "    soup = BeautifulSoup(driver.page_source)\n",
    "    piclink = soup.select('#cp_image')[0]['src']\n",
    "    picres = requests.get(piclink, stream=True, headers=headers)\n",
    "    with open('data/img{}.jpg'.format(pp), 'wb') as out_file:\n",
    "        picres.raw.decode_content = True\n",
    "        shutil.copyfileobj(picres.raw, out_file)\n",
    "        #r.raw.decode_content = True\n",
    "    del picres\n",
    "    driver.quit()"
   ]
  },
  {
   "cell_type": "code",
   "execution_count": null,
   "metadata": {
    "collapsed": false
   },
   "outputs": [],
   "source": []
  },
  {
   "cell_type": "code",
   "execution_count": null,
   "metadata": {
    "collapsed": true
   },
   "outputs": [],
   "source": []
  }
 ],
 "metadata": {
  "kernelspec": {
   "display_name": "Python 2",
   "language": "python",
   "name": "python2"
  },
  "language_info": {
   "codemirror_mode": {
    "name": "ipython",
    "version": 2
   },
   "file_extension": ".py",
   "mimetype": "text/x-python",
   "name": "python",
   "nbconvert_exporter": "python",
   "pygments_lexer": "ipython2",
   "version": "2.7.10"
  }
 },
 "nbformat": 4,
 "nbformat_minor": 0
}

{
 "cells": [
  {
   "cell_type": "code",
   "execution_count": 16,
   "metadata": {
    "collapsed": false
   },
   "outputs": [],
   "source": [
    "\n",
    "__author__ = 'jokan'\n",
    "import requests\n",
    "from bs4 import BeautifulSoup\n",
    "year = 2015\n",
    "month = '07'\n",
    "link = 'http://www.rfa.org/mandarin/yataibaodao\\\n",
    "/story_archive?year=%d&b_start:int={}&month=%s'%(year,month)\n",
    "f = open('rfa_title.txt','w')\n",
    "for pg in range(0,31,30):\n",
    "    res = requests.get(link.format(pg))\n",
    "    res_text = res.text.encode('utf-8')\n",
    "    soup = BeautifulSoup(res_text)\n",
    "    for ele in soup.select('.sectionteaser'):\n",
    "        if len(ele.select('h2 a')) > 0:\n",
    "            title = ele.select('h2 a')[0].text.encode('utf-8')+','+\\\n",
    "            ele.select('h2 a')[0]['href'].encode('utf-8')+'\\n'\n",
    "            f.write(title)\n",
    "        else:\n",
    "            print 'error'\n",
    "f.close()"
   ]
  },
  {
   "cell_type": "code",
   "execution_count": 21,
   "metadata": {
    "collapsed": false
   },
   "outputs": [
    {
     "name": "stdout",
     "output_type": "stream",
     "text": [
      "20140504\n"
     ]
    }
   ],
   "source": [
    "a = '2014-05-04'\n",
    "print a.replace('-','')\n"
   ]
  },
  {
   "cell_type": "code",
   "execution_count": 32,
   "metadata": {
    "collapsed": false
   },
   "outputs": [],
   "source": [
    "# -*- coding: utf-8 -*-\n",
    "__author__ = 'jokan'\n",
    "import requests\n",
    "from bs4 import BeautifulSoup\n",
    "page = requests.get('http://www.rfa.org/mandarin/yataibaodao/jingmao/cyl-07312015110242.html')\n",
    "page_text = page.text.encode('utf-8')\n",
    "soup = BeautifulSoup(page_text)\n",
    "header = soup.select('#storypagemaincol h1')[0].text.encode('utf-8')\n",
    "date_temp = soup.select('#story_date')[0].text.encode('utf-8')\n",
    "date =date_temp.replace('-','')\n",
    "title = date+' '+header\n",
    "f = open('%s.txt'%(title),'w')\n",
    "f.write(title+'\\n'+'\\n'+'[RFA]'+'\\n'+'\\n')\n",
    "for ele in range(0,len(soup.select('#storytext p'))) :\n",
    "    content = soup.select('#storytext p')[ele].text.encode('utf-8')\n",
    "    f.write(content+'\\n'+'\\n')\n",
    "f.close()"
   ]
  },
  {
   "cell_type": "code",
   "execution_count": 35,
   "metadata": {
    "collapsed": false
   },
   "outputs": [],
   "source": [
    "# -*- coding: utf-8 -*-\n",
    "__author__ = 'jokan'\n",
    "import requests\n",
    "from bs4 import BeautifulSoup\n",
    "year = 2015\n",
    "month = '06'\n",
    "link_q = 'http://www.rfa.org/mandarin/yataibaodao\\\n",
    "/story_archive?year=%d&b_start:int={}&month=%s'%(year,month)\n",
    "\n",
    "for pg in range(0,390,30):\n",
    "    res = requests.get(link_q.format(pg))\n",
    "    res_text = res.text.encode('utf-8')\n",
    "    soup = BeautifulSoup(res_text)\n",
    "    for ele in soup.select('.sectionteaser'):\n",
    "        if len(ele.select('h2 a')) > 0:\n",
    "            link = ele.select('h2 a')[0]['href']\n",
    "            page = requests.get(link)\n",
    "            page_text = page.text.encode('utf-8')\n",
    "            soup = BeautifulSoup(page_text)\n",
    "            header = soup.select('#storypagemaincol h1')[0].text.encode('utf-8')\n",
    "            date_temp = soup.select('#story_date')[0].text.encode('utf-8')\n",
    "            date =date_temp.replace('-','')\n",
    "            title = date+' '+header\n",
    "            f = open('data/%s.txt'%(title),'w')\n",
    "            f.write(title+'\\n'+'\\n'+'[RFA]'+'\\n'+'\\n')\n",
    "            for ele in range(0,len(soup.select('#storytext p'))) :\n",
    "                content = soup.select('#storytext p')[ele].text.encode('utf-8')\n",
    "                f.write(content+'\\n'+'\\n')\n",
    "            f.close()"
   ]
  },
  {
   "cell_type": "code",
   "execution_count": 55,
   "metadata": {
    "collapsed": false
   },
   "outputs": [
    {
     "name": "stdout",
     "output_type": "stream",
     "text": [
      "(0, 8)\n"
     ]
    }
   ],
   "source": [
    "import re\n",
    "a = re.compile('aefg')\n",
    "#print a.search('aef[a-z]')\n",
    "print re.match('dog_[a-z]{2,5}','dog_even a').span()"
   ]
  },
  {
   "cell_type": "code",
   "execution_count": null,
   "metadata": {
    "collapsed": false
   },
   "outputs": [],
   "source": []
  }
 ],
 "metadata": {
  "kernelspec": {
   "display_name": "Python 2",
   "language": "python",
   "name": "python2"
  },
  "language_info": {
   "codemirror_mode": {
    "name": "ipython",
    "version": 2
   },
   "file_extension": ".py",
   "mimetype": "text/x-python",
   "name": "python",
   "nbconvert_exporter": "python",
   "pygments_lexer": "ipython2",
   "version": "2.7.9"
  }
 },
 "nbformat": 4,
 "nbformat_minor": 0
}

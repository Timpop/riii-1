{
 "cells": [
  {
   "cell_type": "code",
   "execution_count": 41,
   "metadata": {
    "collapsed": false
   },
   "outputs": [
    {
     "ename": "IndexError",
     "evalue": "list index out of range",
     "output_type": "error",
     "traceback": [
      "\u001b[0;31m---------------------------------------------------------------------------\u001b[0m",
      "\u001b[0;31mIndexError\u001b[0m                                Traceback (most recent call last)",
      "\u001b[0;32m<ipython-input-41-f58c018e131f>\u001b[0m in \u001b[0;36m<module>\u001b[0;34m()\u001b[0m\n\u001b[1;32m     40\u001b[0m \u001b[0;34m\u001b[0m\u001b[0m\n\u001b[1;32m     41\u001b[0m \u001b[0;31m#CRAWL THE FIRST PAGE OF FILE\u001b[0m\u001b[0;34m\u001b[0m\u001b[0;34m\u001b[0m\u001b[0m\n\u001b[0;32m---> 42\u001b[0;31m \u001b[0mmkfile\u001b[0m\u001b[0;34m(\u001b[0m\u001b[0mfirst_soup\u001b[0m\u001b[0;34m)\u001b[0m\u001b[0;34m\u001b[0m\u001b[0m\n\u001b[0m\u001b[1;32m     43\u001b[0m \u001b[0;31m#CATCH FORM DATA OF SENCOND PAGE  FROM FIRST PAGE\u001b[0m\u001b[0;34m\u001b[0m\u001b[0;34m\u001b[0m\u001b[0m\n\u001b[1;32m     44\u001b[0m \u001b[0mfdview\u001b[0m \u001b[0;34m=\u001b[0m \u001b[0;34m{\u001b[0m\u001b[0;34m}\u001b[0m\u001b[0;34m\u001b[0m\u001b[0m\n",
      "\u001b[0;32m<ipython-input-41-f58c018e131f>\u001b[0m in \u001b[0;36mmkfile\u001b[0;34m(soup)\u001b[0m\n\u001b[1;32m     13\u001b[0m             \u001b[0mpg_soup\u001b[0m \u001b[0;34m=\u001b[0m \u001b[0mBeautifulSoup\u001b[0m\u001b[0;34m(\u001b[0m\u001b[0mpg_text\u001b[0m\u001b[0;34m)\u001b[0m\u001b[0;34m\u001b[0m\u001b[0m\n\u001b[1;32m     14\u001b[0m             \u001b[0mpg_soup\u001b[0m\u001b[0;34m.\u001b[0m\u001b[0mselect\u001b[0m\u001b[0;34m(\u001b[0m\u001b[0;34m'.Table-List td'\u001b[0m\u001b[0;34m)\u001b[0m\u001b[0;34m\u001b[0m\u001b[0m\n\u001b[0;32m---> 15\u001b[0;31m             \u001b[0mfilename\u001b[0m \u001b[0;34m=\u001b[0m \u001b[0mpg_soup\u001b[0m\u001b[0;34m.\u001b[0m\u001b[0mselect\u001b[0m\u001b[0;34m(\u001b[0m\u001b[0;34m'.Table-List td'\u001b[0m\u001b[0;34m)\u001b[0m\u001b[0;34m[\u001b[0m\u001b[0;36m1\u001b[0m\u001b[0;34m]\u001b[0m\u001b[0;34m.\u001b[0m\u001b[0mtext\u001b[0m\u001b[0;34m\u001b[0m\u001b[0m\n\u001b[0m\u001b[1;32m     16\u001b[0m             \u001b[0;31m#.replace(\",\",\"\")\u001b[0m\u001b[0;34m\u001b[0m\u001b[0;34m\u001b[0m\u001b[0m\n\u001b[1;32m     17\u001b[0m             \u001b[0marraylength\u001b[0m \u001b[0;34m=\u001b[0m \u001b[0mlen\u001b[0m\u001b[0;34m(\u001b[0m\u001b[0mpg_soup\u001b[0m\u001b[0;34m.\u001b[0m\u001b[0mselect\u001b[0m\u001b[0;34m(\u001b[0m\u001b[0;34m'.Table-List td'\u001b[0m\u001b[0;34m)\u001b[0m\u001b[0;34m)\u001b[0m\u001b[0;34m\u001b[0m\u001b[0m\n",
      "\u001b[0;31mIndexError\u001b[0m: list index out of range"
     ]
    }
   ],
   "source": [
    "# -*- coding: utf-8 -*-\n",
    "import requests\n",
    "from bs4 import BeautifulSoup\n",
    "#function for writing in file from contents-page\n",
    "def mkfile(soup):\n",
    "    concat_url ='http://fyjud.lawbank.com.tw/'\n",
    "    #cookie of contents-page\n",
    "    pgheader={'Cookie':\"ASP.NET_SessionId=aq20ua450vhhcb55rqcykjar; nrhbne=6EFEB5xQqjnra1n1gLwgpw==; _ga=GA1.3.793435039.1436889442; JubFrm-pagebox=%5EcourtFullName%3DTPDV%60SLDV%60PCDV%60ILDV%60KLDV%60TYDV%60SCDV%60MLDV%60TCDV%60CHDV%60NTDV%60ULDV%60CYDV%60TNDV%60KSDV%60HLDV%60TTDV%60PTDV%60PHDV%60KMDV%60LCDV%60KSYV%60%5Ejcatagory%3D2%5Eissimple%3D-1%5Ejt%3D%E9%9B%A2%E5%A9%9A; x=i=duRijoGUAsK//D47QpxRwDZSaIBBPrHuXPoklDdm4v8cnM/Q79b2FvxWymmUcrLr&j=ExKZIgGGiQD19KUxjSulmRd4cCS013mf16VUoBCxWainbmYufAN3bzZLoLqLFhwxOnTKxyGFWxF875EJIi2dLxJH6hbqBxjAtbFdhUFXhN1D85riaxIlv2wOGDzFduDwoLekkgVDXk/ncvJdDaC98LGKmvU2VprDx4HAM3CsJ3Ppg3cD50645iqITkxtNrfV5Wy6B/3Miz0358VDmWilUUPi+95IXdIiOsQ5/az52L+qef7sipPel5hM1MRhnn5xodkkVfoqEzHS4Dpc3Jwa9JVS+AiYBTeEV4hNJ+setH/TiduGT+hFdqObJQpMksJY; y=p=3H7zUF29PXCTnCcc%2bblGaWytZVq8X4VnfAH7FgYPt8y3FLYvEXGJvEixzKsBOHK%2b9cks1VQI3h6Z9T5zfoIWUA%3d%3d\"}\n",
    "    for ele in soup.select('.Table-List tr'):\n",
    "        if len(ele.select('a'))>0:\n",
    "            pg_res = requests.get(concat_url+ele.select('a')[0]['href'], headers=pgheader)\n",
    "            pg_text = pg_res.text.encode('utf8')\n",
    "            pg_soup = BeautifulSoup(pg_text)\n",
    "            pg_soup.select('.Table-List td')\n",
    "            filename = pg_soup.select('.Table-List td')[1].text\n",
    "            #.replace(\",\",\"\")\n",
    "            arraylength = len(pg_soup.select('.Table-List td'))\n",
    "            f = open('data/%s.txt'%(filename),'w')\n",
    "            for ele in range(0,arraylength):\n",
    "                if len(pg_soup.select('.Table-List td')[ele])>0:\n",
    "                    contents = pg_soup.select('.Table-List td')[ele].text.encode('utf8') + '\\n'\n",
    "                    f.write(contents)\n",
    "            f.close()\n",
    "#cookie of index-page\n",
    "header={'Cookie':\"ASP.NET_SessionId=aq20ua450vhhcb55rqcykjar; nrhbne=6EFEB5xQqjnra1n1gLwgpw==; _ga=GA1.3.793435039.1436889442; _gat=1; JubFrm-pagebox=%5EcourtFullName%3DTPDV%60SLDV%60PCDV%60ILDV%60KLDV%60TYDV%60SCDV%60MLDV%60TCDV%60CHDV%60NTDV%60ULDV%60CYDV%60TNDV%60KSDV%60HLDV%60TTDV%60PTDV%60PHDV%60KMDV%60LCDV%60KSYV%60%5Ejcatagory%3D2%5Eissimple%3D-1%5Ejt%3D%E9%9B%A2%E5%A9%9A; x=i=duRijoGUAsK//D47QpxRwDZSaIBBPrHuXPoklDdm4v8cnM/Q79b2FvxWymmUcrLr&j=ExKZIgGGiQD19KUxjSulmRd4cCS013mf16VUoBCxWainbmYufAN3bzZLoLqLFhwxOnTKxyGFWxF875EJIi2dLxJH6hbqBxjAtbFdhUFXhN1D85riaxIlv2wOGDzFduDwoLekkgVDXk/ncvJdDaC98LGKmvU2VprDx4HAM3CsJ3Ppg3cD50645iqITkxtNrfV5Wy6B/3Miz0358VDmWilUUPi+95IXdIiOsQ5/az52L+qef7sipPel5hM1MRhnn5xodkkVfoqEzHS4Dpc3Jwa9JVS+AiYBTeEV4hNJ+setH/TiduGT+hFdqObJQpMksJY\"}\n",
    "\n",
    "#form data of first index-page\n",
    "payload={\n",
    "\"__EVENTTARGET\":\"lnkbtnPrev1\",\n",
    "\"__EVENTARGUMENT\":\"\",\n",
    "\"__VIEWSTATE\":\"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\",\n",
    "\"__VIEWSTATEGENERATOR\":\"75816AEB\",\n",
    "\"__EVENTVALIDATION\":\"/wEWCQLfpJzJCwLJ7YiwDgLN6fSZDQLGtMruDQLDqfnOAwLJ7fTUBQLo0pKvBwKX8KOuDALekpfkDYSmQBdcSPeEFoILh2igfH7knFQ2\"\n",
    "}\n",
    "url = 'http://fyjud.lawbank.com.tw/listcontent5.aspx'\n",
    "first_res = requests.post(url, data=payload, headers=header)\n",
    "first_res_text = first_res.text.encode('utf8')\n",
    "first_soup = BeautifulSoup(first_res_text)\n",
    "#print first_soup\n",
    "\n",
    "#CRAWL THE FIRST PAGE OF FILE\n",
    "mkfile(first_soup)\n",
    "#CATCH FORM DATA OF SENCOND PAGE  FROM FIRST PAGE\n",
    "fdview = {}\n",
    "fdevent = {}\n",
    "fdview[1] = first_soup.select('#__VIEWSTATE')[0]['value']\n",
    "fdevent[1] = first_soup.select('#__EVENTVALIDATION')[0]['value']\n",
    "#print first_res_text\n",
    "for ele in range(1,3):\n",
    "    payload2={\n",
    "    \"__EVENTTARGET\":\"lnkbtnOhmy1\",\n",
    "    \"__EVENTARGUMENT\":\"\",\n",
    "    \"__VIEWSTATE\":fdview[ele],\n",
    "    \"__VIEWSTATEGENERATOR\":\"75816AEB\",\n",
    "    \"__EVENTVALIDATION\":fdevent[ele]\n",
    "    }\n",
    "    res = requests.post(url,data=payload2,headers=header)\n",
    "    twtext = res.text.encode('utf8')\n",
    "    twsoup = BeautifulSoup(twtext)\n",
    "    fdview[ele+1] = tw_soup.select('#__VIEWSTATE')[0]['value']\n",
    "    fdevent[ele+1] = tw_soup.select('#__EVENTVALIDATION')[0]['value']\n",
    "    print twsoup\n",
    "    #mkfile(twsoup)\n"
   ]
  },
  {
   "cell_type": "code",
   "execution_count": 18,
   "metadata": {
    "collapsed": false
   },
   "outputs": [
    {
     "name": "stdout",
     "output_type": "stream",
     "text": [
      "b\n"
     ]
    }
   ],
   "source": []
  }
 ],
 "metadata": {
  "kernelspec": {
   "display_name": "Python 2",
   "language": "python",
   "name": "python2"
  },
  "language_info": {
   "codemirror_mode": {
    "name": "ipython",
    "version": 2
   },
   "file_extension": ".py",
   "mimetype": "text/x-python",
   "name": "python",
   "nbconvert_exporter": "python",
   "pygments_lexer": "ipython2",
   "version": "2.7.9"
  }
 },
 "nbformat": 4,
 "nbformat_minor": 0
}

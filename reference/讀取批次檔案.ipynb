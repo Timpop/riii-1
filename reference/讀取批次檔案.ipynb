{
 "cells": [
  {
   "cell_type": "code",
   "execution_count": 2,
   "metadata": {
    "collapsed": false
   },
   "outputs": [
    {
     "name": "stdout",
     "output_type": "stream",
     "text": [
      "['/Users/jokan/desktop/f1.txt', '/Users/jokan/desktop/f2.txt', '/Users/jokan/desktop/match.txt']\n"
     ]
    }
   ],
   "source": [
    "import glob\n",
    "list = glob.glob('/Users/jokan/desktop/*.txt')\n",
    "print list\n",
    "#read all file name"
   ]
  },
  {
   "cell_type": "code",
   "execution_count": 1,
   "metadata": {
    "collapsed": false
   },
   "outputs": [
    {
     "name": "stdout",
     "output_type": "stream",
     "text": [
      "['dkaj;fa']\n",
      "['da;jdfjalkdjflaj']\n",
      "['A|B|1\\n', 'A|C|3\\n', 'A|D|2\\n', 'A|E|0\\n', 'B|A|2\\n', 'B|C|1\\n', 'B|D|3\\n', 'B|E|0\\n', 'C|A|2\\n', 'C|B|0\\n', 'C|D|1\\n', 'C|E|5\\n', 'D|A|1\\n', 'D|B|1\\n', 'D|C|2\\n', 'D|E|0\\n', 'E|A|1\\n', 'E|B|1\\n', 'E|C|2\\n', 'E|D|3']\n"
     ]
    }
   ],
   "source": [
    "import glob   \n",
    "path = '/Users/jokan/desktop/*.txt'\n",
    "files=glob.glob(path)\n",
    "for file in files:  \n",
    "    f=open(file, 'r')  \n",
    "    print f.readlines()\n",
    "    f.close() "
   ]
  }
 ],
 "metadata": {
  "kernelspec": {
   "display_name": "Python 2",
   "language": "python",
   "name": "python2"
  },
  "language_info": {
   "codemirror_mode": {
    "name": "ipython",
    "version": 2
   },
   "file_extension": ".py",
   "mimetype": "text/x-python",
   "name": "python",
   "nbconvert_exporter": "python",
   "pygments_lexer": "ipython2",
   "version": "2.7.9"
  }
 },
 "nbformat": 4,
 "nbformat_minor": 0
}

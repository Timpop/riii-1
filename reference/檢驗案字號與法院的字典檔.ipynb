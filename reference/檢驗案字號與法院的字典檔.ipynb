{
 "cells": [
  {
   "cell_type": "code",
   "execution_count": 60,
   "metadata": {
    "collapsed": false,
    "scrolled": false
   },
   "outputs": [],
   "source": [
    "# -*- utf-8 -*-\n",
    "import os \n",
    "import re\n",
    "import codecs  #強制轉成utf-8\n",
    "import _uniout \n",
    "import glob\n",
    "dir_path = u'./data_rename/rename_jiayi/*.txt'\n",
    "for txtfile in glob.glob(dir_path):\n",
    "    with codecs.open(txtfile,'r','utf-8') as f :\n",
    "        content = f.read() # 不能圖超過 2Mb\n",
    "        f.close() # 在with 中 可不寫,會強制關閉\n",
    "        m_ch = re.search(u'(【裁判字號】)(.*?),(.*?),(.*?)[^【】 ]',content)\n",
    "        no_jurytype = [u\"婚\",u\"婚再\",u\"婚更\",u\"家聲\",u\"家訴\",u\"家抗\",u\"家陸許\",u\"司家聲\",u\"補\",u\"基家簡\",u\"重家訴\",u\"婚更一\",u\"婚更(一)\",u\"司家調\",u\"家移調\",u\"家簡\",u\"家調裁\",u\"家查\",u\"家聲抗\",u\"家調裁\",u\"家簡\",u\"家調補\",u\"司家補\",u\"家親聲\",u\"司家簡調\",u\"家簡上\",u\"家小\",u\"家救\",u\"家小上\",u\"家婚聲\",u\"家再\",u\"家他\"]\n",
    "        if m_ch.group(3) not in no_jurytype:\n",
    "            print m_ch.group(3)"
   ]
  },
  {
   "cell_type": "code",
   "execution_count": 61,
   "metadata": {
    "collapsed": false
   },
   "outputs": [],
   "source": [
    "# -*- utf-8 -*-\n",
    "import os \n",
    "import re\n",
    "import codecs  #強制轉成utf-8\n",
    "import _uniout \n",
    "import glob\n",
    "dir_path = u'./data_rename/rename_jiayi/*.txt'\n",
    "for txtfile in glob.glob(dir_path):\n",
    "    with codecs.open(txtfile,'r','utf-8') as f :\n",
    "        content = f.read() # 不能圖超過 2Mb\n",
    "        f.close() # 在with 中 可不寫,會強制關閉\n",
    "        m_court = re.search(u'[  \\d]*(灣|福建)(\\S{4})法院(民事|家事|暫時|支付)(\\S{2})',content)\n",
    "        court_no = [u\"臺北地方\",u\"士林地方\",u\"新北地方\",u\"宜蘭地方\",u\"基隆地方\",u\"桃園地方\",u\"新竹地方\",u\"苗栗地方\",u\"臺中地方\",u\"彰化地方\",u\"南投地方\",u\"臺南地方\",u\"高雄地方\",u\"花蓮地方\",u\"雲林地方\",u\"嘉義地方\",u\"臺東地方\",u\"屏東地方\",u\"澎湖地方\",u\"福建金門\",u\"福建連江\",u\"高雄少年\"]\n",
    "        try:\n",
    "            if m_court.group(2) not in court_no:\n",
    "                print \"ExcepCourtNo: \"+m_court.group(2)\n",
    "        except:\n",
    "            errfile = re.search(u'(.*)/(.*?).txt',txtfile)\n",
    "            print 'errfile: '+errfile.group(2)\n",
    "                "
   ]
  },
  {
   "cell_type": "code",
   "execution_count": null,
   "metadata": {
    "collapsed": true
   },
   "outputs": [],
   "source": []
  }
 ],
 "metadata": {
  "kernelspec": {
   "display_name": "Python 2",
   "language": "python",
   "name": "python2"
  },
  "language_info": {
   "codemirror_mode": {
    "name": "ipython",
    "version": 2
   },
   "file_extension": ".py",
   "mimetype": "text/x-python",
   "name": "python",
   "nbconvert_exporter": "python",
   "pygments_lexer": "ipython2",
   "version": "2.7.9"
  }
 },
 "nbformat": 4,
 "nbformat_minor": 0
}

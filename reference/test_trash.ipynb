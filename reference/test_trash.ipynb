{
 "cells": [
  {
   "cell_type": "code",
   "execution_count": 62,
   "metadata": {
    "collapsed": false
   },
   "outputs": [
    {
     "name": "stdout",
     "output_type": "stream",
     "text": [
      "【裁判日期】\n"
     ]
    }
   ],
   "source": [
    "# -*- utf-8 -*-\n",
    "import os\n",
    "import re\n",
    "import codecs\n",
    "import _uniout\n",
    "\n",
    "dir_path= u'./judicial'\n",
    "filename= os.path.join(dir_path, u'臺灣基隆,97,婚,99.txt')\n",
    "\n",
    "with codecs.open(filename,'r','utf-8') as f:\n",
    "    #lines = f.readlines()\n",
    "    #print lines[0].encode('utf8')\n",
    "    content = f.read()\n",
    "#print content\n",
    "content = re.sub(u'[\\r\\n]','\\t',content)\n",
    "#print content\n",
    "\n",
    "m = re.search(u'(【裁判日期】) ?(?P<date>\\d{6,7})',content)\n",
    "print m.group(1)\n",
    "#m = re.findall(u'(【\\W{1,4}】)([^【】 ])',content)\n",
    "\n",
    "#for g in m :\n",
    " #   print _uniout.unescape(str(g),'utf-8') \n",
    "    #print g[-1]\n"
   ]
  },
  {
   "cell_type": "code",
   "execution_count": 58,
   "metadata": {
    "collapsed": false
   },
   "outputs": [
    {
     "name": "stdout",
     "output_type": "stream",
     "text": [
      "(u'【裁判字號】', u'97,婚,99')\n",
      "(u'【裁判日期】', u'970828')\n",
      "(u'【裁判案由】', u'離婚')\n"
     ]
    }
   ],
   "source": [
    "x = re.findall(u'(【\\W{1,4}】)([^【】 \\t]*)',content)\n",
    "for g in x :\n",
    "    print _uniout.unescape(str(g),'utf-8') \n",
    "    #print g\n"
   ]
  }
 ],
 "metadata": {
  "kernelspec": {
   "display_name": "Python 2",
   "language": "python",
   "name": "python2"
  },
  "language_info": {
   "codemirror_mode": {
    "name": "ipython",
    "version": 2
   },
   "file_extension": ".py",
   "mimetype": "text/x-python",
   "name": "python",
   "nbconvert_exporter": "python",
   "pygments_lexer": "ipython2",
   "version": "2.7.9"
  }
 },
 "nbformat": 4,
 "nbformat_minor": 0
}

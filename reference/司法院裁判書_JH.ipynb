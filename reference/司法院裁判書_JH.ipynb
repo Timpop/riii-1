{
 "cells": [
  {
   "cell_type": "code",
   "execution_count": 9,
   "metadata": {
    "collapsed": false
   },
   "outputs": [
    {
     "name": "stdout",
     "output_type": "stream",
     "text": [
      "11\n",
      "11\n",
      "23\n",
      "15\n",
      "30\n",
      "49\n",
      "31\n",
      "46\n",
      "30\n",
      "39\n",
      "48\n",
      "48\n",
      "22\n",
      "41\n",
      "46\n",
      "64\n",
      "25\n",
      "20\n",
      "47\n",
      "42\n"
     ]
    },
    {
     "ename": "NoSuchWindowException",
     "evalue": "Message: Window not found. The browser window may have been closed.\nStacktrace:\n    at nsCommandProcessor.prototype.execute (file:///var/folders/nn/f1brlbmd22gbrjfn5xfrbm6c0000gn/T/tmpvBuo5N/extensions/fxdriver@googlecode.com/components/command-processor.js:12711)\n    at Dispatcher.executeAs/< (file:///var/folders/nn/f1brlbmd22gbrjfn5xfrbm6c0000gn/T/tmpvBuo5N/extensions/fxdriver@googlecode.com/components/driver-component.js:9456)\n    at Resource.prototype.handle (file:///var/folders/nn/f1brlbmd22gbrjfn5xfrbm6c0000gn/T/tmpvBuo5N/extensions/fxdriver@googlecode.com/components/driver-component.js:9603)\n    at Dispatcher.prototype.dispatch (file:///var/folders/nn/f1brlbmd22gbrjfn5xfrbm6c0000gn/T/tmpvBuo5N/extensions/fxdriver@googlecode.com/components/driver-component.js:9550)\n    at WebDriverServer/<.handle (file:///var/folders/nn/f1brlbmd22gbrjfn5xfrbm6c0000gn/T/tmpvBuo5N/extensions/fxdriver@googlecode.com/components/driver-component.js:12497)\n    at createHandlerFunc/< (file:///var/folders/nn/f1brlbmd22gbrjfn5xfrbm6c0000gn/T/tmpvBuo5N/extensions/fxdriver@googlecode.com/components/httpd.js:2054)\n    at ServerHandler.prototype.handleResponse (file:///var/folders/nn/f1brlbmd22gbrjfn5xfrbm6c0000gn/T/tmpvBuo5N/extensions/fxdriver@googlecode.com/components/httpd.js:2387)\n    at Connection.prototype.process (file:///var/folders/nn/f1brlbmd22gbrjfn5xfrbm6c0000gn/T/tmpvBuo5N/extensions/fxdriver@googlecode.com/components/httpd.js:1223)\n    at RequestReader.prototype._handleResponse (file:///var/folders/nn/f1brlbmd22gbrjfn5xfrbm6c0000gn/T/tmpvBuo5N/extensions/fxdriver@googlecode.com/components/httpd.js:1677)\n    at RequestReader.prototype._processBody (file:///var/folders/nn/f1brlbmd22gbrjfn5xfrbm6c0000gn/T/tmpvBuo5N/extensions/fxdriver@googlecode.com/components/httpd.js:1525)\n    at RequestReader.prototype.onInputStreamReady (file:///var/folders/nn/f1brlbmd22gbrjfn5xfrbm6c0000gn/T/tmpvBuo5N/extensions/fxdriver@googlecode.com/components/httpd.js:1393)",
     "output_type": "error",
     "traceback": [
      "\u001b[0;31m---------------------------------------------------------------------------\u001b[0m",
      "\u001b[0;31mNoSuchWindowException\u001b[0m                     Traceback (most recent call last)",
      "\u001b[0;32m<ipython-input-9-980c1351a2bb>\u001b[0m in \u001b[0;36m<module>\u001b[0;34m()\u001b[0m\n\u001b[1;32m     51\u001b[0m             \u001b[0mtime\u001b[0m\u001b[0;34m.\u001b[0m\u001b[0msleep\u001b[0m\u001b[0;34m(\u001b[0m\u001b[0;36m3\u001b[0m\u001b[0;34m)\u001b[0m\u001b[0;34m\u001b[0m\u001b[0m\n\u001b[1;32m     52\u001b[0m \u001b[0;34m\u001b[0m\u001b[0m\n\u001b[0;32m---> 53\u001b[0;31m             \u001b[0msoup\u001b[0m \u001b[0;34m=\u001b[0m \u001b[0mBeautifulSoup\u001b[0m\u001b[0;34m(\u001b[0m\u001b[0mdriver\u001b[0m\u001b[0;34m.\u001b[0m\u001b[0mpage_source\u001b[0m\u001b[0;34m)\u001b[0m\u001b[0;34m\u001b[0m\u001b[0m\n\u001b[0m\u001b[1;32m     54\u001b[0m             \u001b[0malinks\u001b[0m \u001b[0;34m=\u001b[0m \u001b[0msoup\u001b[0m\u001b[0;34m.\u001b[0m\u001b[0mfindAll\u001b[0m\u001b[0;34m(\u001b[0m\u001b[0;34m'td'\u001b[0m\u001b[0;34m)\u001b[0m\u001b[0;34m\u001b[0m\u001b[0m\n\u001b[1;32m     55\u001b[0m             \u001b[0ma\u001b[0m \u001b[0;34m=\u001b[0m \u001b[0;34m''\u001b[0m\u001b[0;34m.\u001b[0m\u001b[0mjoin\u001b[0m\u001b[0;34m(\u001b[0m\u001b[0malinks\u001b[0m\u001b[0;34m[\u001b[0m\u001b[0;36m4\u001b[0m\u001b[0;34m]\u001b[0m\u001b[0;34m.\u001b[0m\u001b[0mtext\u001b[0m\u001b[0;34m.\u001b[0m\u001b[0msplit\u001b[0m\u001b[0;34m(\u001b[0m\u001b[0;34m)\u001b[0m\u001b[0;34m)\u001b[0m\u001b[0;34m\u001b[0m\u001b[0m\n",
      "\u001b[0;32m/Library/Frameworks/Python.framework/Versions/2.7/lib/python2.7/site-packages/selenium/webdriver/remote/webdriver.pyc\u001b[0m in \u001b[0;36mpage_source\u001b[0;34m(self)\u001b[0m\n\u001b[1;32m    457\u001b[0m             \u001b[0mdriver\u001b[0m\u001b[0;34m.\u001b[0m\u001b[0mpage_source\u001b[0m\u001b[0;34m\u001b[0m\u001b[0m\n\u001b[1;32m    458\u001b[0m         \"\"\"\n\u001b[0;32m--> 459\u001b[0;31m         \u001b[0;32mreturn\u001b[0m \u001b[0mself\u001b[0m\u001b[0;34m.\u001b[0m\u001b[0mexecute\u001b[0m\u001b[0;34m(\u001b[0m\u001b[0mCommand\u001b[0m\u001b[0;34m.\u001b[0m\u001b[0mGET_PAGE_SOURCE\u001b[0m\u001b[0;34m)\u001b[0m\u001b[0;34m[\u001b[0m\u001b[0;34m'value'\u001b[0m\u001b[0;34m]\u001b[0m\u001b[0;34m\u001b[0m\u001b[0m\n\u001b[0m\u001b[1;32m    460\u001b[0m \u001b[0;34m\u001b[0m\u001b[0m\n\u001b[1;32m    461\u001b[0m     \u001b[0;32mdef\u001b[0m \u001b[0mclose\u001b[0m\u001b[0;34m(\u001b[0m\u001b[0mself\u001b[0m\u001b[0;34m)\u001b[0m\u001b[0;34m:\u001b[0m\u001b[0;34m\u001b[0m\u001b[0m\n",
      "\u001b[0;32m/Library/Frameworks/Python.framework/Versions/2.7/lib/python2.7/site-packages/selenium/webdriver/remote/webdriver.pyc\u001b[0m in \u001b[0;36mexecute\u001b[0;34m(self, driver_command, params)\u001b[0m\n\u001b[1;32m    194\u001b[0m         \u001b[0mresponse\u001b[0m \u001b[0;34m=\u001b[0m \u001b[0mself\u001b[0m\u001b[0;34m.\u001b[0m\u001b[0mcommand_executor\u001b[0m\u001b[0;34m.\u001b[0m\u001b[0mexecute\u001b[0m\u001b[0;34m(\u001b[0m\u001b[0mdriver_command\u001b[0m\u001b[0;34m,\u001b[0m \u001b[0mparams\u001b[0m\u001b[0;34m)\u001b[0m\u001b[0;34m\u001b[0m\u001b[0m\n\u001b[1;32m    195\u001b[0m         \u001b[0;32mif\u001b[0m \u001b[0mresponse\u001b[0m\u001b[0;34m:\u001b[0m\u001b[0;34m\u001b[0m\u001b[0m\n\u001b[0;32m--> 196\u001b[0;31m             \u001b[0mself\u001b[0m\u001b[0;34m.\u001b[0m\u001b[0merror_handler\u001b[0m\u001b[0;34m.\u001b[0m\u001b[0mcheck_response\u001b[0m\u001b[0;34m(\u001b[0m\u001b[0mresponse\u001b[0m\u001b[0;34m)\u001b[0m\u001b[0;34m\u001b[0m\u001b[0m\n\u001b[0m\u001b[1;32m    197\u001b[0m             response['value'] = self._unwrap_value(\n\u001b[1;32m    198\u001b[0m                 response.get('value', None))\n",
      "\u001b[0;32m/Library/Frameworks/Python.framework/Versions/2.7/lib/python2.7/site-packages/selenium/webdriver/remote/errorhandler.pyc\u001b[0m in \u001b[0;36mcheck_response\u001b[0;34m(self, response)\u001b[0m\n\u001b[1;32m    179\u001b[0m         \u001b[0;32melif\u001b[0m \u001b[0mexception_class\u001b[0m \u001b[0;34m==\u001b[0m \u001b[0mUnexpectedAlertPresentException\u001b[0m \u001b[0;32mand\u001b[0m \u001b[0;34m'alert'\u001b[0m \u001b[0;32min\u001b[0m \u001b[0mvalue\u001b[0m\u001b[0;34m:\u001b[0m\u001b[0;34m\u001b[0m\u001b[0m\n\u001b[1;32m    180\u001b[0m             \u001b[0;32mraise\u001b[0m \u001b[0mexception_class\u001b[0m\u001b[0;34m(\u001b[0m\u001b[0mmessage\u001b[0m\u001b[0;34m,\u001b[0m \u001b[0mscreen\u001b[0m\u001b[0;34m,\u001b[0m \u001b[0mstacktrace\u001b[0m\u001b[0;34m,\u001b[0m \u001b[0mvalue\u001b[0m\u001b[0;34m[\u001b[0m\u001b[0;34m'alert'\u001b[0m\u001b[0;34m]\u001b[0m\u001b[0;34m.\u001b[0m\u001b[0mget\u001b[0m\u001b[0;34m(\u001b[0m\u001b[0;34m'text'\u001b[0m\u001b[0;34m)\u001b[0m\u001b[0;34m)\u001b[0m\u001b[0;34m\u001b[0m\u001b[0m\n\u001b[0;32m--> 181\u001b[0;31m         \u001b[0;32mraise\u001b[0m \u001b[0mexception_class\u001b[0m\u001b[0;34m(\u001b[0m\u001b[0mmessage\u001b[0m\u001b[0;34m,\u001b[0m \u001b[0mscreen\u001b[0m\u001b[0;34m,\u001b[0m \u001b[0mstacktrace\u001b[0m\u001b[0;34m)\u001b[0m\u001b[0;34m\u001b[0m\u001b[0m\n\u001b[0m\u001b[1;32m    182\u001b[0m \u001b[0;34m\u001b[0m\u001b[0m\n\u001b[1;32m    183\u001b[0m     \u001b[0;32mdef\u001b[0m \u001b[0m_value_or_default\u001b[0m\u001b[0;34m(\u001b[0m\u001b[0mself\u001b[0m\u001b[0;34m,\u001b[0m \u001b[0mobj\u001b[0m\u001b[0;34m,\u001b[0m \u001b[0mkey\u001b[0m\u001b[0;34m,\u001b[0m \u001b[0mdefault\u001b[0m\u001b[0;34m)\u001b[0m\u001b[0;34m:\u001b[0m\u001b[0;34m\u001b[0m\u001b[0m\n",
      "\u001b[0;31mNoSuchWindowException\u001b[0m: Message: Window not found. The browser window may have been closed.\nStacktrace:\n    at nsCommandProcessor.prototype.execute (file:///var/folders/nn/f1brlbmd22gbrjfn5xfrbm6c0000gn/T/tmpvBuo5N/extensions/fxdriver@googlecode.com/components/command-processor.js:12711)\n    at Dispatcher.executeAs/< (file:///var/folders/nn/f1brlbmd22gbrjfn5xfrbm6c0000gn/T/tmpvBuo5N/extensions/fxdriver@googlecode.com/components/driver-component.js:9456)\n    at Resource.prototype.handle (file:///var/folders/nn/f1brlbmd22gbrjfn5xfrbm6c0000gn/T/tmpvBuo5N/extensions/fxdriver@googlecode.com/components/driver-component.js:9603)\n    at Dispatcher.prototype.dispatch (file:///var/folders/nn/f1brlbmd22gbrjfn5xfrbm6c0000gn/T/tmpvBuo5N/extensions/fxdriver@googlecode.com/components/driver-component.js:9550)\n    at WebDriverServer/<.handle (file:///var/folders/nn/f1brlbmd22gbrjfn5xfrbm6c0000gn/T/tmpvBuo5N/extensions/fxdriver@googlecode.com/components/driver-component.js:12497)\n    at createHandlerFunc/< (file:///var/folders/nn/f1brlbmd22gbrjfn5xfrbm6c0000gn/T/tmpvBuo5N/extensions/fxdriver@googlecode.com/components/httpd.js:2054)\n    at ServerHandler.prototype.handleResponse (file:///var/folders/nn/f1brlbmd22gbrjfn5xfrbm6c0000gn/T/tmpvBuo5N/extensions/fxdriver@googlecode.com/components/httpd.js:2387)\n    at Connection.prototype.process (file:///var/folders/nn/f1brlbmd22gbrjfn5xfrbm6c0000gn/T/tmpvBuo5N/extensions/fxdriver@googlecode.com/components/httpd.js:1223)\n    at RequestReader.prototype._handleResponse (file:///var/folders/nn/f1brlbmd22gbrjfn5xfrbm6c0000gn/T/tmpvBuo5N/extensions/fxdriver@googlecode.com/components/httpd.js:1677)\n    at RequestReader.prototype._processBody (file:///var/folders/nn/f1brlbmd22gbrjfn5xfrbm6c0000gn/T/tmpvBuo5N/extensions/fxdriver@googlecode.com/components/httpd.js:1525)\n    at RequestReader.prototype.onInputStreamReady (file:///var/folders/nn/f1brlbmd22gbrjfn5xfrbm6c0000gn/T/tmpvBuo5N/extensions/fxdriver@googlecode.com/components/httpd.js:1393)"
     ]
    }
   ],
   "source": [
    "from selenium import webdriver\n",
    "from selenium.webdriver.common.by import By\n",
    "from selenium.webdriver.common.keys import Keys\n",
    "from selenium.webdriver.support.ui import Select\n",
    "from selenium.common.exceptions import NoSuchElementException\n",
    "from selenium.common.exceptions import NoAlertPresentException\n",
    "import unittest, time, re\n",
    "import requests\n",
    "from bs4 import BeautifulSoup\n",
    "import string\n",
    "\n",
    "def mkfile(soup):\n",
    "    f = open('judicial_h_90/%s.txt' %(soup.findAll('td')[6].text), 'w')\n",
    "    for i in range(5,11):\n",
    "        f.write(soup.findAll('td')[i].text.encode('utf-8'))\n",
    "        if i % 2 == 0:\n",
    "            f.write('\\n')\n",
    "    f.write(soup.findAll('td')[13].text.encode('utf-8'))\n",
    "list = ['臺灣花蓮','臺灣臺東','臺灣屏東','臺灣澎湖','福建金門','福建連江']\n",
    "list2 = ['31','30','30','31']\n",
    "\n",
    "for i in list:\n",
    "    for j in range(89,105):\n",
    "        #89-105\n",
    "        month = 1\n",
    "        for k in list2:\n",
    "            chromedriver = \"C:\\chromedriver_win32\\chromedriver.exe\"\n",
    "            driver = webdriver.Firefox()\n",
    "            driver.implicitly_wait(30)\n",
    "            driver.get(\"http://jirs.judicial.gov.tw//FJUD/FJUDQRY01_1.aspx\")\n",
    "            Select(driver.find_element_by_name(\"v_court\")).select_by_visible_text(\"%s地方法院\" % i)\n",
    "            driver.find_elements_by_name('v_sys')[1].click() \n",
    "            driver.find_element_by_id(\"jt\").clear()\n",
    "            driver.find_element_by_id(\"jt\").send_keys(u\"離婚\")\n",
    "            driver.find_element_by_name(\"dy1\").clear()\n",
    "            driver.find_element_by_name(\"dy1\").send_keys(str(j))\n",
    "            driver.find_element_by_name(\"dm1\").clear()\n",
    "            driver.find_element_by_name(\"dm1\").send_keys(str(month))\n",
    "            driver.find_element_by_name(\"dd1\").clear()\n",
    "            driver.find_element_by_name(\"dd1\").send_keys(\"1\")\n",
    "            driver.find_element_by_name(\"dy2\").clear()\n",
    "            driver.find_element_by_name(\"dy2\").send_keys(str(j))\n",
    "            driver.find_element_by_name(\"dm2\").clear()\n",
    "            driver.find_element_by_name(\"dm2\").send_keys(str(month+2))\n",
    "            driver.find_element_by_name(\"dd2\").clear()\n",
    "            driver.find_element_by_name(\"dd2\").send_keys(k)            \n",
    "            month += 3\n",
    "            time.sleep(3)\n",
    "            driver.find_element_by_name(\"Button\").click()\n",
    "            time.sleep(3)\n",
    "\n",
    "            soup = BeautifulSoup(driver.page_source)\n",
    "            alinks = soup.findAll('td')\n",
    "            a = ''.join(alinks[4].text.split())\n",
    "            m = re.match('.*?(\\d+).*?(\\d+).*?(\\d+).*?', a)\n",
    "            print m.group(1)\n",
    "\n",
    "            driver.find_elements_by_xpath(u\"(//a)\")[2].click()\n",
    "            time.sleep(3)\n",
    "            soup = BeautifulSoup(driver.page_source)\n",
    "            if soup.findAll('a')[1].text.encode('utf-8') == '第一筆':\n",
    "                driver.find_element_by_link_text(u\"第一筆\").click()\n",
    "                time.sleep(3)\n",
    "\n",
    "            for num in range(1,int(m.group(1))):\n",
    "                soup = BeautifulSoup(driver.page_source)\n",
    "                mkfile(soup)\n",
    "                driver.find_element_by_link_text(u\"下一筆\").click()\n",
    "                time.sleep(3)\n",
    "            driver.close()"
   ]
  }
 ],
 "metadata": {
  "kernelspec": {
   "display_name": "Python 2",
   "language": "python",
   "name": "python2"
  },
  "language_info": {
   "codemirror_mode": {
    "name": "ipython",
    "version": 2
   },
   "file_extension": ".py",
   "mimetype": "text/x-python",
   "name": "python",
   "nbconvert_exporter": "python",
   "pygments_lexer": "ipython2",
   "version": "2.7.9"
  }
 },
 "nbformat": 4,
 "nbformat_minor": 0
}

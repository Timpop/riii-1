{
 "cells": [
  {
   "cell_type": "code",
   "execution_count": 8,
   "metadata": {
    "collapsed": false
   },
   "outputs": [
    {
     "name": "stdout",
     "output_type": "stream",
     "text": [
      "訴訟代理人　許智勝律師\n",
      "\n",
      "970828\n",
      "(u'【裁判字號】', u'97,婚,99')\n",
      "(u'【裁判日期】', u'970828')\n",
      "(u'【裁判案由】', u'離婚')\n"
     ]
    }
   ],
   "source": [
    "import os \n",
    "import re\n",
    "import codecs  #強制轉成utf-8\n",
    "import _uniout \n",
    "\n",
    "\n",
    "dir_path = u'./judicial'\n",
    "filename = os.path.join(dir_path , u'臺灣基隆,97,婚,99.txt')\n",
    "\n",
    "# w ,r ,a ,r+ ,w+ ,rb ,wb\n",
    "\n",
    "with codecs.open(filename ,'r','utf-8') as f :\n",
    "    content = f.read() # 不能圖超過 2Mb\n",
    "    \n",
    "    f.seek(0,0) #檔案指標移回檔案開頭\n",
    "    lines = f.readlines()# 不能圖超過 2Mb\n",
    "    \n",
    "    f.close() # 在with 中 可不寫,會強制關閉\n",
    "    # end of with\n",
    "    \n",
    "print lines[5]\n",
    "\n",
    "    \n",
    "content = re.sub(u'[\\r\\n]',' ',content)\n",
    "\n",
    "m = re.search(u'(【裁判日期】) ?(?P<date>\\d{6,7})',content)\n",
    "print m.group('date')\n",
    "\n",
    "\n",
    "m = re.findall(u'(【\\W{1,4}】)([^【】 ]+)',content)\n",
    "\n",
    "for g in m :\n",
    "    print _uniout.unescape(str(g),'utf-8') \n",
    "\n",
    "\n",
    "ch_numbers= u'零壹貳參肆伍陸柒捌玖拾'\n",
    "\n",
    "m = re.findall(u'([零壹貳參肆伍陸柒捌玖拾]{1,2})、([^：]+)：([^零壹貳參肆伍陸柒捌玖拾]+)',content)\n",
    "\n",
    "for g in m :\n",
    "    print _uniout.unescape(str(g),'utf-8') "
   ]
  },
  {
   "cell_type": "code",
   "execution_count": 19,
   "metadata": {
    "collapsed": false
   },
   "outputs": [
    {
     "name": "stdout",
     "output_type": "stream",
     "text": [
      "Current Letter : P\n",
      "Good bye!\n",
      "Current Letter : y\n",
      "Good bye!\n",
      "Current Letter : t\n",
      "Good bye!\n",
      "Current Letter : o\n",
      "Good bye!\n",
      "Current Letter : n\n",
      "Good bye!\n"
     ]
    }
   ],
   "source": [
    "for letter in 'Python': \n",
    "    if letter == 'h':\n",
    "        continue\n",
    "        print 'This is pass block'\n",
    "    print 'Current Letter :', letter\n",
    "    print \"Good bye!\""
   ]
  },
  {
   "cell_type": "code",
   "execution_count": 14,
   "metadata": {
    "collapsed": false
   },
   "outputs": [
    {
     "name": "stdout",
     "output_type": "stream",
     "text": [
      "my name is jacob\n",
      "my name is jacob\n"
     ]
    }
   ],
   "source": [
    "li = ['my','name','is','jacob']\n",
    "print ' '.join(li)\n",
    "li = ('my','name','is','jacob')\n",
    "print ' '.join(li)"
   ]
  }
 ],
 "metadata": {
  "kernelspec": {
   "display_name": "Python 2",
   "language": "python",
   "name": "python2"
  },
  "language_info": {
   "codemirror_mode": {
    "name": "ipython",
    "version": 2
   },
   "file_extension": ".py",
   "mimetype": "text/x-python",
   "name": "python",
   "nbconvert_exporter": "python",
   "pygments_lexer": "ipython2",
   "version": "2.7.9"
  }
 },
 "nbformat": 4,
 "nbformat_minor": 0
}

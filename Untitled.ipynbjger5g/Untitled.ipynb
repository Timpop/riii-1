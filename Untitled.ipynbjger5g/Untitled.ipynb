{
 "cells": [
  {
   "cell_type": "code",
   "execution_count": 25,
   "metadata": {
    "collapsed": false
   },
   "outputs": [
    {
     "name": "stdout",
     "output_type": "stream",
     "text": [
      "9\n",
      "2\n",
      "3\n",
      "1\n",
      "4\n",
      "5\n",
      "6\n",
      "6\n"
     ]
    }
   ],
   "source": [
    "# -*- utf-8 -*-\n",
    "\n",
    "s = u'壹 我是人 一 我想睡覺（一）'\n",
    "dic = u'壹'\n",
    "dic2 = u'（一）'\n",
    "dic3 = u' 施'\n",
    "   \n",
    "def check(doc,word):\n",
    "    if word in doc:\n",
    "        return doc.index(word)+1\n",
    "    else:\n",
    "        return 0\n",
    "\n",
    "#print check(s,dic)\n",
    "#print check(s,dic2)\n",
    "\n",
    "listindex = [check(s,dic),check(s,dic2),check(s,dic3)]\n",
    "\n",
    "mini=[9,2,3,1,4,5,6]\n",
    "minnum = 999999999\n",
    "sortlist = []\n",
    "\n",
    "for i in range(len(mini)):\n",
    "    print mini[i]\n",
    "    if mini[i] < minnum:\n",
    "        mininum = mini[i]\n",
    "print mininum\n"
   ]
  }
 ],
 "metadata": {
  "kernelspec": {
   "display_name": "Python 2",
   "language": "python",
   "name": "python2"
  },
  "language_info": {
   "codemirror_mode": {
    "name": "ipython",
    "version": 2
   },
   "file_extension": ".py",
   "mimetype": "text/x-python",
   "name": "python",
   "nbconvert_exporter": "python",
   "pygments_lexer": "ipython2",
   "version": "2.7.10"
  }
 },
 "nbformat": 4,
 "nbformat_minor": 0
}

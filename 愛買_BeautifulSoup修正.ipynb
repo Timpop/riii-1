{
 "cells": [
  {
   "cell_type": "code",
   "execution_count": null,
   "metadata": {
    "collapsed": true
   },
   "outputs": [],
   "source": [
    "import requests\n",
    "from bs4 import BeautifulSoup\n",
    "import html5lib\n",
    "\n",
    "res = requests.get('http://www.gohappy.com.tw/shopping/Browse.do?op=vp&sid=12&cid=173&pid=80665')\n",
    "soup = BeautifulSoup(res.text,\"html5lib\")\n",
    "\n",
    "for ele in soup.select('table font'):\n",
    "    print ele.text"
   ]
  }
 ],
 "metadata": {
  "kernelspec": {
   "display_name": "Python 2",
   "language": "python",
   "name": "python2"
  },
  "language_info": {
   "codemirror_mode": {
    "name": "ipython",
    "version": 2
   },
   "file_extension": ".py",
   "mimetype": "text/x-python",
   "name": "python",
   "nbconvert_exporter": "python",
   "pygments_lexer": "ipython2",
   "version": "2.7.9"
  }
 },
 "nbformat": 4,
 "nbformat_minor": 0
}

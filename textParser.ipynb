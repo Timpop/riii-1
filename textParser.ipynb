{
 "cells": [
  {
   "cell_type": "code",
   "execution_count": 21,
   "metadata": {
    "collapsed": false
   },
   "outputs": [
    {
     "name": "stdout",
     "output_type": "stream",
     "text": [
      "民國81年12月6 日\n",
      "81\n",
      "12\n",
      "6 \n",
      "民國81年12月6 日\n",
      "[u'a', u'f']\n",
      "False\n",
      "False\n",
      "False\n"
     ]
    }
   ],
   "source": [
    "# -*- coding:utf-8 -*-\n",
    "from __future__ import unicode_literals\n",
    "#tokenizer\n",
    "s ='兩造於民國81年12月6 日結婚'\n",
    "import re\n",
    "\n",
    "m = re.search('(民國(\\d{2,3})年(\\d |\\d{2})月(\\d |\\d{2})日)結婚',s)\n",
    "for g in m.groups() :\n",
    "    print g\n",
    "\n",
    "s = re.search(r'(\\W{6})結婚',s)\n",
    "print m.group(1)\n",
    "\n",
    "a = {'a':'a','b':'b','c':'c'}\n",
    "\n",
    "s = 'a f'\n",
    "x = s.split(\" \")\n",
    "print x\n",
    "print s in a # a.get(x) is  not None \n",
    "\n",
    "print x[0] in a and x[1] in a\n",
    "\n",
    "b = True\n",
    "for _x in x :\n",
    "    \n",
    "    b = b and (_x in a )\n",
    "    \n",
    "print b\n"
   ]
  }
 ],
 "metadata": {
  "kernelspec": {
   "display_name": "Python 2",
   "language": "python",
   "name": "python2"
  },
  "language_info": {
   "codemirror_mode": {
    "name": "ipython",
    "version": 2
   },
   "file_extension": ".py",
   "mimetype": "text/x-python",
   "name": "python",
   "nbconvert_exporter": "python",
   "pygments_lexer": "ipython2",
   "version": "2.7.9"
  }
 },
 "nbformat": 4,
 "nbformat_minor": 0
}

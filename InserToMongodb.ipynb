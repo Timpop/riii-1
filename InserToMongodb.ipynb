{
 "cells": [
  {
   "cell_type": "markdown",
   "metadata": {},
   "source": [
    "#輸入多筆資料至mongodb"
   ]
  },
  {
   "cell_type": "code",
   "execution_count": 3,
   "metadata": {
    "collapsed": false
   },
   "outputs": [
    {
     "name": "stdout",
     "output_type": "stream",
     "text": [
      "CaseNo 86,婚,243\n",
      "CaseNo 87,婚,244\n",
      "CaseNo 88,婚,107\n",
      "CaseNo 88,婚,164\n",
      "CaseNo 88,婚,184\n",
      "CaseNo 88,婚,209\n",
      "CaseNo 88,婚,213\n",
      "CaseNo 88,婚,240\n",
      "CaseNo 88,婚,247\n",
      "CaseNo 88,婚,280\n"
     ]
    }
   ],
   "source": [
    "import re\n",
    "import glob\n",
    "import codecs\n",
    "import _uniout\n",
    "import pymongo\n",
    "from pymongo import MongoClient\n",
    "#make a connection to mongodb \n",
    "client = pymongo.MongoClient('localhost',27017)\n",
    "#account of db ??\n",
    "db = client.test\n",
    "#make the collection in the db of test\n",
    "collection = db['dday']\n",
    "dday = db.dday\n",
    "#read the judicial case in the directory\n",
    "dir_path = glob.glob(u'./samples/*.txt')\n",
    "for i in dir_path:\n",
    "    with codecs.open(i,'r','utf-8') as f :\n",
    "        content = f.read() # 不能圖超過 2Mb\n",
    "        f.close() # 在with 中 可不寫,會強制關閉\n",
    "        #print content\n",
    "        CaseNo = re.search(u'(【裁判字號】)(\\S{5,14})[^【】 ]',content)\n",
    "        #make the bson formate and assign to the dic\n",
    "        dic = {\"CaseNo\":CaseNo.group(2),\"Content\":content}\n",
    "        #insert to the collection of dday\n",
    "        dday_id = dday.insert(dic)\n"
   ]
  },
  {
   "cell_type": "markdown",
   "metadata": {},
   "source": [
    "# 更新修改mongodb的文件"
   ]
  },
  {
   "cell_type": "code",
   "execution_count": 4,
   "metadata": {
    "collapsed": false
   },
   "outputs": [],
   "source": [
    "import re\n",
    "import glob\n",
    "import codecs\n",
    "import _uniout\n",
    "import pymongo\n",
    "from pymongo import MongoClient\n",
    "#make a connection to mongodb \n",
    "client = pymongo.MongoClient('localhost',27017)\n",
    "#account of db ??\n",
    "db = client.test\n",
    "#make the collection in the db of test\n",
    "collection = db['dday']\n",
    "dday = db.dday\n",
    "#read the judicial case in the directory\n",
    "dir_path = glob.glob(u'./samples/*.txt')\n",
    "for i in dir_path:\n",
    "    with codecs.open(i,'r','utf-8') as f :\n",
    "        content = f.read() # 不能圖超過 2Mb\n",
    "        f.close() # 在with 中 可不寫,會強制關閉\n",
    "        #print content\n",
    "        CaseNo = re.search(u'(【裁判字號】)(\\S{5,14})[^【】 ]',content)\n",
    "        #make the bson formate and assign to the dic\n",
    "        case_id = {\"CaseNo\":CaseNo.group(2)}\n",
    "        date = re.search(u'(【裁判日期】)(\\d{6,7})',content)\n",
    "        case_date = {\"date\":date.group(2)}\n",
    "        #update the collection of dday\n",
    "        dday_id = dday.update(case_id,{\"$set\":case_date})\n"
   ]
  },
  {
   "cell_type": "markdown",
   "metadata": {},
   "source": [
    "#查詢資料"
   ]
  },
  {
   "cell_type": "code",
   "execution_count": 13,
   "metadata": {
    "collapsed": false
   },
   "outputs": [
    {
     "name": "stdout",
     "output_type": "stream",
     "text": [
      "date:891031 CaseNo:86,婚,243\n",
      "date:890613 CaseNo:87,婚,244\n",
      "date:891226 CaseNo:88,婚,107\n",
      "date:890608 CaseNo:88,婚,164\n",
      "date:890322 CaseNo:88,婚,184\n",
      "date:890128 CaseNo:88,婚,209\n",
      "date:890131 CaseNo:88,婚,213\n",
      "date:890114 CaseNo:88,婚,240\n",
      "date:890418 CaseNo:88,婚,247\n",
      "date:890308 CaseNo:88,婚,280\n"
     ]
    }
   ],
   "source": [
    "#print the case number in db.dday\n",
    "for i in dday.find({},{'CaseNo':1,'date':1}):\n",
    "    #print _uniout.unescape(str(i),'utf-8') \n",
    "    print i.keys()[0]+\":\"+i.values()[0],i.keys()[2]+\":\"+i.values()[2]\n"
   ]
  },
  {
   "cell_type": "markdown",
   "metadata": {},
   "source": [
    "#刪除collection"
   ]
  },
  {
   "cell_type": "code",
   "execution_count": null,
   "metadata": {
    "collapsed": true
   },
   "outputs": [],
   "source": [
    "#Drop the collection\n",
    "db.drop_collection('dday')"
   ]
  }
 ],
 "metadata": {
  "kernelspec": {
   "display_name": "Python 2",
   "language": "python",
   "name": "python2"
  },
  "language_info": {
   "codemirror_mode": {
    "name": "ipython",
    "version": 2
   },
   "file_extension": ".py",
   "mimetype": "text/x-python",
   "name": "python",
   "nbconvert_exporter": "python",
   "pygments_lexer": "ipython2",
   "version": "2.7.9"
  }
 },
 "nbformat": 4,
 "nbformat_minor": 0
}

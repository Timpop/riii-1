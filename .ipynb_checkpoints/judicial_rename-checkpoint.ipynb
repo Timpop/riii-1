{
 "cells": [
  {
   "cell_type": "code",
   "execution_count": 2,
   "metadata": {
    "collapsed": false
   },
   "outputs": [],
   "source": [
    "# -*- utf-8 -*-\n",
    "import os \n",
    "import re\n",
    "import codecs  #強制轉成utf-8\n",
    "import _uniout \n",
    "import glob\n",
    "\n",
    "def mkfile(newname,content):\n",
    "    f = open('./data_rename/rename_kaoshong/%s.txt'%(newname),'w')\n",
    "    f.write(content.encode('utf8'))\n",
    "    f.close()\n",
    "\n",
    "dir_path = u'./kaoshong/*.txt'\n",
    "for txtfile in glob.glob(dir_path):\n",
    "    try:\n",
    "        with codecs.open(txtfile,'r','utf-8') as f :\n",
    "            content = f.read() # 不能圖超過 2Mb\n",
    "\n",
    "            #f.seek(0,0) #檔案指標移回檔案開頭\n",
    "            #lines = f.readlines()# 不能圖超過 2Mb\n",
    "            f.close() # 在with 中 可不寫,會強制關閉\n",
    "        #print content\n",
    "        m_ch = re.search(u'(【裁判字號】)(\\S{5,14})[^【】 ]',content)\n",
    "        char = m_ch.group(2)\n",
    "        m_date = re.search(u'(【裁判日期】)(\\d{6,7})',content)\n",
    "        date = u'裁判日期：'+m_date.group(2)\n",
    "        #print date\n",
    "        m_judge = re.search(u'[  \\d]*(灣|福建)(\\S{4})法院(民事|家事|暫時|支付)(\\S{2})',content)\n",
    "        locate = m_judge.group(2)\n",
    "        #locate = u'臺東地方'\n",
    "        #print locate\n",
    "        judgetype = m_judge.group(4)\n",
    "        #print judgetype\n",
    "        newname = judgetype+','+locate+','+char+','+date\n",
    "        #print newname\n",
    "        mkfile(newname,content)\n",
    "    except:\n",
    "        print txtfile\n",
    "\n"
   ]
  }
 ],
 "metadata": {
  "kernelspec": {
   "display_name": "Python 2",
   "language": "python",
   "name": "python2"
  },
  "language_info": {
   "codemirror_mode": {
    "name": "ipython",
    "version": 2
   },
   "file_extension": ".py",
   "mimetype": "text/x-python",
   "name": "python",
   "nbconvert_exporter": "python",
   "pygments_lexer": "ipython2",
   "version": "2.7.9"
  }
 },
 "nbformat": 4,
 "nbformat_minor": 0
}

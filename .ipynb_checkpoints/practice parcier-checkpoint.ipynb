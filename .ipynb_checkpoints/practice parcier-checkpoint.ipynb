{
 "cells": [
  {
   "cell_type": "code",
   "execution_count": 1,
   "metadata": {
    "collapsed": false
   },
   "outputs": [
    {
     "ename": "IOError",
     "evalue": "[Errno 2] No such file or directory: u'./judicial_test/90,\\u5a5a,27.txt'",
     "output_type": "error",
     "traceback": [
      "\u001b[0;31m---------------------------------------------------------------------------\u001b[0m",
      "\u001b[0;31mIOError\u001b[0m                                   Traceback (most recent call last)",
      "\u001b[0;32m<ipython-input-1-ccbb0e5e9adf>\u001b[0m in \u001b[0;36m<module>\u001b[0;34m()\u001b[0m\n\u001b[1;32m     11\u001b[0m \u001b[0;31m# w ,r ,a ,r+ ,w+ ,rb ,wb\u001b[0m\u001b[0;34m\u001b[0m\u001b[0;34m\u001b[0m\u001b[0m\n\u001b[1;32m     12\u001b[0m \u001b[0;34m\u001b[0m\u001b[0m\n\u001b[0;32m---> 13\u001b[0;31m \u001b[0;32mwith\u001b[0m \u001b[0mcodecs\u001b[0m\u001b[0;34m.\u001b[0m\u001b[0mopen\u001b[0m\u001b[0;34m(\u001b[0m\u001b[0mfilename\u001b[0m \u001b[0;34m,\u001b[0m\u001b[0;34m'r'\u001b[0m\u001b[0;34m,\u001b[0m\u001b[0;34m'utf-8'\u001b[0m\u001b[0;34m)\u001b[0m \u001b[0;32mas\u001b[0m \u001b[0mf\u001b[0m \u001b[0;34m:\u001b[0m\u001b[0;34m\u001b[0m\u001b[0m\n\u001b[0m\u001b[1;32m     14\u001b[0m     \u001b[0mcontent\u001b[0m \u001b[0;34m=\u001b[0m \u001b[0mf\u001b[0m\u001b[0;34m.\u001b[0m\u001b[0mread\u001b[0m\u001b[0;34m(\u001b[0m\u001b[0;34m)\u001b[0m \u001b[0;31m# 不能圖超過 2Mb\u001b[0m\u001b[0;34m\u001b[0m\u001b[0m\n\u001b[1;32m     15\u001b[0m \u001b[0;34m\u001b[0m\u001b[0m\n",
      "\u001b[0;32m/Library/Frameworks/Python.framework/Versions/2.7/lib/python2.7/codecs.pyc\u001b[0m in \u001b[0;36mopen\u001b[0;34m(filename, mode, encoding, errors, buffering)\u001b[0m\n\u001b[1;32m    876\u001b[0m             \u001b[0;31m# Force opening of the file in binary mode\u001b[0m\u001b[0;34m\u001b[0m\u001b[0;34m\u001b[0m\u001b[0m\n\u001b[1;32m    877\u001b[0m             \u001b[0mmode\u001b[0m \u001b[0;34m=\u001b[0m \u001b[0mmode\u001b[0m \u001b[0;34m+\u001b[0m \u001b[0;34m'b'\u001b[0m\u001b[0;34m\u001b[0m\u001b[0m\n\u001b[0;32m--> 878\u001b[0;31m     \u001b[0mfile\u001b[0m \u001b[0;34m=\u001b[0m \u001b[0m__builtin__\u001b[0m\u001b[0;34m.\u001b[0m\u001b[0mopen\u001b[0m\u001b[0;34m(\u001b[0m\u001b[0mfilename\u001b[0m\u001b[0;34m,\u001b[0m \u001b[0mmode\u001b[0m\u001b[0;34m,\u001b[0m \u001b[0mbuffering\u001b[0m\u001b[0;34m)\u001b[0m\u001b[0;34m\u001b[0m\u001b[0m\n\u001b[0m\u001b[1;32m    879\u001b[0m     \u001b[0;32mif\u001b[0m \u001b[0mencoding\u001b[0m \u001b[0;32mis\u001b[0m \u001b[0mNone\u001b[0m\u001b[0;34m:\u001b[0m\u001b[0;34m\u001b[0m\u001b[0m\n\u001b[1;32m    880\u001b[0m         \u001b[0;32mreturn\u001b[0m \u001b[0mfile\u001b[0m\u001b[0;34m\u001b[0m\u001b[0m\n",
      "\u001b[0;31mIOError\u001b[0m: [Errno 2] No such file or directory: u'./judicial_test/90,\\u5a5a,27.txt'"
     ]
    }
   ],
   "source": [
    "# -*- utf-8 -*-\n",
    "import os \n",
    "import re\n",
    "import codecs  #強制轉成utf-8\n",
    "import _uniout \n",
    "\n",
    "\n",
    "dir_path = u'./judicial_test/'\n",
    "filename = os.path.join(dir_path , u'90,婚,27.txt')\n",
    "\n",
    "# w ,r ,a ,r+ ,w+ ,rb ,wb\n",
    "\n",
    "with codecs.open(filename ,'r','utf-8') as f :\n",
    "    content = f.read() # 不能圖超過 2Mb\n",
    "    \n",
    "    #f.seek(0,0) #檔案指標移回檔案開頭\n",
    "    #lines = f.readlines()# 不能圖超過 2Mb\n",
    "    f.close() # 在with 中 可不寫,會強制關閉\n",
    "    # end of with\n",
    "    \n",
    "\n",
    "content = re.sub(u'[\\r\\n]',' ',content)\n",
    "print (content)\n",
    "m = re.search(u'(【裁判日期】) ?(\\d{6,7})',content)\n",
    "#print m.group(1),m.group(2)\n",
    "m = re.search(u'(【裁判字號】) ?([^ ]+)',content)\n",
    "#print m.group(1),m.group(2)\n",
    "m = re.search(u'(【裁判案由】) ?([^ ]+)',content)\n",
    "#print m.group(1),m.group(2)\n",
    "m = re.search(u'臺灣(\\W{2,4})(地方法院)民事',content)\n",
    "#print m.group(2)+':',m.group(1)\n",
    "\n",
    "#m = re.findall(u'([零壹貳參肆伍陸柒捌玖拾]{1,2})、([^：]+)：([^零壹貳參肆伍陸柒捌玖拾]+)',content)\n",
    "item=[u'甲、',u'乙',u'丙',u'丁']\n",
    "list2 = [u'原告',u'聲明',u'陳述']\n",
    "m = []\n",
    "#if any(x in str for x in a):\n",
    "if any(x in content for x in item):\n",
    "    m = re.findall(u'([甲乙丙])、([^甲乙丙]+)',content)\n",
    "for w in m:\n",
    "    for i in w:\n",
    "        #if re.search(u'原告'or u'聲明',i):\n",
    "        if (u'原告' and (u'聲明' or u'陳述')) in i:\n",
    "            print i,\n",
    "\n",
    "    print\n",
    "    print\n",
    "'''\n",
    "f = open('./judicial_test/print.text','a+')\n",
    "for w in m:\n",
    "    f.write(f)\n",
    "f.close()\n",
    "'''"
   ]
  },
  {
   "cell_type": "code",
   "execution_count": 155,
   "metadata": {
    "collapsed": false
   },
   "outputs": [
    {
     "name": "stdout",
     "output_type": "stream",
     "text": [
      "9\n",
      "2\n",
      "3\n",
      "1\n",
      "4\n",
      "5\n",
      "6\n",
      "6\n"
     ]
    }
   ],
   "source": [
    "# -*- utf-8 -*-\n",
    "\n",
    "s = u'壹 我是人 我跳針 \\ 我想睡覺（一）'\n",
    "dic = u'壹'\n",
    "dic2 = u'（一）'\n",
    "dic3 = u' 施'\n",
    "   \n",
    "def check(doc,word):\n",
    "    if word in doc:\n",
    "        return doc.index(word)+1\n",
    "    else:\n",
    "        return 0\n",
    "\n",
    "#print check(s,dic)\n",
    "#print check(s,dic2)\n",
    "\n",
    "listindex = [check(s,dic),check(s,dic2),check(s,dic3)]\n",
    "\n",
    "mini=[9,2,3,1,4,5,6]\n",
    "minnum = 999999999\n",
    "sortlist = []\n",
    "\n",
    "for i in range(len(mini)):\n",
    "    print mini[i]\n",
    "    if mini[i] < minnum:\n",
    "        mininum = mini[i]\n",
    "print mininum"
   ]
  },
  {
   "cell_type": "markdown",
   "metadata": {},
   "source": [
    "# d"
   ]
  }
 ],
 "metadata": {
  "kernelspec": {
   "display_name": "Python 2",
   "language": "python",
   "name": "python2"
  },
  "language_info": {
   "codemirror_mode": {
    "name": "ipython",
    "version": 2
   },
   "file_extension": ".py",
   "mimetype": "text/x-python",
   "name": "python",
   "nbconvert_exporter": "python",
   "pygments_lexer": "ipython2",
   "version": "2.7.9"
  }
 },
 "nbformat": 4,
 "nbformat_minor": 0
}

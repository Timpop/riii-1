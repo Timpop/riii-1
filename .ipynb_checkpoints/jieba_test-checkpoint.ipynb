{
 "cells": [
  {
   "cell_type": "code",
   "execution_count": 21,
   "metadata": {
    "collapsed": false
   },
   "outputs": [],
   "source": [
    "# -*- coding=utf-8 -*-\n",
    "#import the file\n",
    "import jieba\n",
    "import jieba.posseg as pseg\n",
    "import operator\n",
    "\n",
    "fileword=\"\"\n",
    "dic = {}\n",
    "result = []\n",
    "#jieba.set_dictionary(\"E:\\iii\\jieba\\dict.txt.big.txt\")\n",
    "file_list = open('111.txt', 'r')\n",
    "file_list_2 = open('222.txt','w')\n",
    "for line in file_list.readlines():\n",
    "    line_s=line.strip()\n",
    "    result.append(line_s)\n",
    "file_list_2.write(\", \".join(result))\n",
    "file_list_2.close()\n",
    "file_list.close()\n",
    "\n",
    "result2 = (\"\".join(result))\n",
    "seg_list = jieba.cut_for_search(result2) #type 'generator'\n",
    "#'for' is also valid in generator for iterating\n",
    "for ele in list(seg_list):\n",
    "    if ele not in dic:\n",
    "        dic[ele] = 1\n",
    "    else:\n",
    "        dic[ele] = dic[ele] + 1\n",
    "f = open('jiebatest.txt','w')\n",
    "for key,value in dic.iteritems():\n",
    "    con = key.encode('utf8')+','+str(value)+'\\n'\n",
    "    f.write(con)\n",
    "f.close()\n"
   ]
  },
  {
   "cell_type": "code",
   "execution_count": 133,
   "metadata": {
    "collapsed": false
   },
   "outputs": [],
   "source": [
    "import jieba\n",
    "\n",
    "seg_list4 = jieba.lcut_for_search(\"小明硕士毕业于中国科学院计算所，后在日本京都大学深造\")  # 搜索引擎模式\n",
    "#lcut-->output list\n",
    "#print repr(seg_list4)\n",
    "dic={}\n",
    "for ele in seg_list4:\n",
    "    if ele not in dic:\n",
    "        dic[ele] = 1s\n",
    "    else:\n",
    "        dic[ele] = dic[ele] + 1\n",
    "#import collections\n",
    "#strdic = dict([(str(k), v) for k, v in listdecode.get()])\n",
    "#str_dic = dict([(str(k), v) for k, v in dic.iteritems ()])\n",
    "#str_dic ={ key.decode('utf8'):value for key,value in dic.items() }\n",
    "#print str_dic\n",
    "#dicutf8 = _uniout.unescape(str(dic),'utf-8')\n",
    "f = open('jiebatest.txt','w')\n",
    "for key,value in dic.iteritems():\n",
    "    con = key.encode('utf8')+':'+str(value)+'\\n'\n",
    "    f.write(con)\n",
    "f.close()"
   ]
  },
  {
   "cell_type": "code",
   "execution_count": 16,
   "metadata": {
    "collapsed": false
   },
   "outputs": [],
   "source": [
    "import jieba\n",
    "dic ={}\n",
    "seg_list4 = jieba.cut_for_search(\"小明硕士毕业于中国科学院计算所，后在日本京都大学深造\")  # 搜索引擎模式\n",
    "'''\n",
    "for ele in seg_list4:\n",
    "    dic[ele]='value'\n",
    "for index in dic:\n",
    "    print index.encode('utf-8'),dic[index]\n",
    "'''   \n",
    "for ele in seg_list4:\n",
    "    if ele not in dic:\n",
    "        dic[ele] = 1\n",
    "    else:\n",
    "        dic[ele] = dic[ele] + 1\n",
    "f = open('jiebatest.txt','w')\n",
    "for key,value in dic.iteritems():\n",
    "    con = key.encode('utf8')+','+str(value)+'\\n'\n",
    "    f.write(con)\n",
    "f.close()"
   ]
  },
  {
   "cell_type": "code",
   "execution_count": 4,
   "metadata": {
    "collapsed": false
   },
   "outputs": [
    {
     "name": "stdout",
     "output_type": "stream",
     "text": [
      "2\n",
      "True\n",
      "y corresponds to 2\n",
      "z corresponds to 3\n",
      "我 corresponds to 1\n"
     ]
    }
   ],
   "source": [
    "#-*- coding: utf-8 -*-\n",
    "import json\n",
    "d = {'我': 1, 'y': 2, 'z': 3} \n",
    "print d['y']\n",
    "print 'y' in d\n",
    "for key in d:\n",
    "    print key, 'corresponds to', d[key]\n",
    "#for key, value in d.iteritems():\n",
    "    #print key,value\n",
    "#print d.keys()\n",
    "#print json.dumps(d, encoding=\"UTF-8\", ensure_ascii=False)"
   ]
  }
 ],
 "metadata": {
  "kernelspec": {
   "display_name": "Python 2",
   "language": "python",
   "name": "python2"
  },
  "language_info": {
   "codemirror_mode": {
    "name": "ipython",
    "version": 2
   },
   "file_extension": ".py",
   "mimetype": "text/x-python",
   "name": "python",
   "nbconvert_exporter": "python",
   "pygments_lexer": "ipython2",
   "version": "2.7.9"
  }
 },
 "nbformat": 4,
 "nbformat_minor": 0
}

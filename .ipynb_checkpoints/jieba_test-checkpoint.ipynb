{
 "cells": [
  {
   "cell_type": "code",
   "execution_count": 133,
   "metadata": {
    "collapsed": false
   },
   "outputs": [],
   "source": [
    "import jieba\n",
    "\n",
    "seg_list4 = jieba.lcut_for_search(\"小明硕士毕业于中国科学院计算所，后在日本京都大学深造\")  # 搜索引擎模式\n",
    "#lcut-->list,but not n\n",
    "#print repr(seg_list4)\n",
    "dic={}\n",
    "for ele in seg_list4:\n",
    "    if ele not in dic:\n",
    "        dic[ele] = 1\n",
    "    else:\n",
    "        dic[ele] = dic[ele] + 1\n",
    "#import collections\n",
    "#strdic = dict([(str(k), v) for k, v in listdecode.get()])\n",
    "#str_dic = dict([(str(k), v) for k, v in dic.iteritems ()])\n",
    "#str_dic ={ key.decode('utf8'):value for key,value in dic.items() }\n",
    "#print str_dic\n",
    "#dicutf8 = _uniout.unescape(str(dic),'utf-8')\n",
    "f = open('jiebatest.txt','w')\n",
    "for key,value in dic.iteritems():\n",
    "    con = key.encode('utf8')+':'+str(value)+'\\n'\n",
    "    f.write(con)\n",
    "f.close()"
   ]
  },
  {
   "cell_type": "code",
   "execution_count": 110,
   "metadata": {
    "collapsed": false
   },
   "outputs": [
    {
     "name": "stdout",
     "output_type": "stream",
     "text": [
      "y corresponds to 2\n",
      "z corresponds to 3\n",
      "我 corresponds to 1\n",
      "y 2\n",
      "z 3\n",
      "我 1\n",
      "['y', 'z', '\\xe6\\x88\\x91']\n",
      "{\"y\": 2, \"z\": 3, \"我\": 1}\n"
     ]
    }
   ],
   "source": [
    "#-*- coding: utf-8 -*-\n",
    "import json\n",
    "d = {'我': 1, 'y': 2, 'z': 3} \n",
    "for key in d:\n",
    "    print key, 'corresponds to', d[key]\n",
    "for key, value in d.iteritems():\n",
    "    print key,value\n",
    "print d.keys()\n",
    "print json.dumps(d, encoding=\"UTF-8\", ensure_ascii=False)"
   ]
  },
  {
   "cell_type": "code",
   "execution_count": null,
   "metadata": {
    "collapsed": false
   },
   "outputs": [],
   "source": []
  }
 ],
 "metadata": {
  "kernelspec": {
   "display_name": "Python 2",
   "language": "python",
   "name": "python2"
  },
  "language_info": {
   "codemirror_mode": {
    "name": "ipython",
    "version": 2
   },
   "file_extension": ".py",
   "mimetype": "text/x-python",
   "name": "python",
   "nbconvert_exporter": "python",
   "pygments_lexer": "ipython2",
   "version": "2.7.9"
  }
 },
 "nbformat": 4,
 "nbformat_minor": 0
}

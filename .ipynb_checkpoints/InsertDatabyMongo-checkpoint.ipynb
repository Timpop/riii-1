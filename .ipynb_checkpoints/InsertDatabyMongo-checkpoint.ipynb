{
 "cells": [
  {
   "cell_type": "code",
   "execution_count": null,
   "metadata": {
    "collapsed": true
   },
   "outputs": [],
   "source": [
    "import re\n",
    "import glob\n",
    "import codecs\n",
    "import _uniout\n",
    "import pymongo\n",
    "from pymongo import MongoClient\n",
    "#make a connection to mongodb \n",
    "client = pymongo.MongoClient('localhost',27017)\n",
    "#account of db ??\n",
    "db = client.test\n",
    "#make the collection in the db of test\n",
    "collection = db['dday']\n",
    "dday = db.dday\n",
    "#read the judicial case in the directory\n",
    "dir_path = glob.glob(u'./samples/*.txt')\n",
    "for i in dir_path:\n",
    "    with codecs.open(i,'r','utf-8') as f :\n",
    "        content = f.read() # 不能圖超過 2Mb\n",
    "        f.close() # 在with 中 可不寫,會強制關閉\n",
    "        #print content\n",
    "        CaseNo = re.search(u'(【裁判字號】)(\\S{5,14})[^【】 ]',content)\n",
    "        #make the bson formate and assign to the dic\n",
    "        dic = {\"CaseNo\":CaseNo.group(2),\"Content\":content}\n",
    "        #insert to the collection of dday\n",
    "        dday_id = dday.insert(dic)\n",
    "\n",
    "#print the case number in db.dday\n",
    "for i in dday.find({},{'CaseNo':1}):\n",
    "    #print _uniout.unescape(str(i),'utf-8') \n",
    "    print i.keys()[1],i.values()[1]\n",
    "#Drop the collection\n",
    "db.drop_collection('dday')\n"
   ]
  }
 ],
 "metadata": {
  "kernelspec": {
   "display_name": "Python 2",
   "language": "python",
   "name": "python2"
  },
  "language_info": {
   "codemirror_mode": {
    "name": "ipython",
    "version": 2
   },
   "file_extension": ".py",
   "mimetype": "text/x-python",
   "name": "python",
   "nbconvert_exporter": "python",
   "pygments_lexer": "ipython2",
   "version": "2.7.9"
  }
 },
 "nbformat": 4,
 "nbformat_minor": 0
}

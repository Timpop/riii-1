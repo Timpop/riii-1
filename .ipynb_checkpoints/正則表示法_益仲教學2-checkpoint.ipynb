{
 "cells": [
  {
   "cell_type": "code",
   "execution_count": 4,
   "metadata": {
    "collapsed": false
   },
   "outputs": [
    {
     "ename": "IOError",
     "evalue": "[Errno 2] No such file or directory: u'./judicial_data/\\u81fa\\u7063\\u57fa\\u9686,97,\\u5a5a,99.txt'",
     "output_type": "error",
     "traceback": [
      "\u001b[1;31m---------------------------------------------------------------------------\u001b[0m",
      "\u001b[1;31mIOError\u001b[0m                                   Traceback (most recent call last)",
      "\u001b[1;32m<ipython-input-4-30530a9f52d8>\u001b[0m in \u001b[0;36m<module>\u001b[1;34m()\u001b[0m\n\u001b[0;32m     10\u001b[0m \u001b[1;31m# w ,r ,a ,r+ ,w+ ,rb ,wb\u001b[0m\u001b[1;33m\u001b[0m\u001b[1;33m\u001b[0m\u001b[0m\n\u001b[0;32m     11\u001b[0m \u001b[1;33m\u001b[0m\u001b[0m\n\u001b[1;32m---> 12\u001b[1;33m \u001b[1;32mwith\u001b[0m \u001b[0mcodecs\u001b[0m\u001b[1;33m.\u001b[0m\u001b[0mopen\u001b[0m\u001b[1;33m(\u001b[0m\u001b[0mfilename\u001b[0m \u001b[1;33m,\u001b[0m\u001b[1;34m'r'\u001b[0m\u001b[1;33m,\u001b[0m\u001b[1;34m'utf-8'\u001b[0m\u001b[1;33m)\u001b[0m \u001b[1;32mas\u001b[0m \u001b[0mf\u001b[0m \u001b[1;33m:\u001b[0m\u001b[1;33m\u001b[0m\u001b[0m\n\u001b[0m\u001b[0;32m     13\u001b[0m     \u001b[0mcontent\u001b[0m \u001b[1;33m=\u001b[0m \u001b[0mf\u001b[0m\u001b[1;33m.\u001b[0m\u001b[0mread\u001b[0m\u001b[1;33m(\u001b[0m\u001b[1;33m)\u001b[0m \u001b[1;31m# 不能圖超過 2Mb\u001b[0m\u001b[1;33m\u001b[0m\u001b[0m\n\u001b[0;32m     14\u001b[0m \u001b[1;33m\u001b[0m\u001b[0m\n",
      "\u001b[1;32mC:\\Python27\\lib\\codecs.pyc\u001b[0m in \u001b[0;36mopen\u001b[1;34m(filename, mode, encoding, errors, buffering)\u001b[0m\n\u001b[0;32m    882\u001b[0m             \u001b[1;31m# Force opening of the file in binary mode\u001b[0m\u001b[1;33m\u001b[0m\u001b[1;33m\u001b[0m\u001b[0m\n\u001b[0;32m    883\u001b[0m             \u001b[0mmode\u001b[0m \u001b[1;33m=\u001b[0m \u001b[0mmode\u001b[0m \u001b[1;33m+\u001b[0m \u001b[1;34m'b'\u001b[0m\u001b[1;33m\u001b[0m\u001b[0m\n\u001b[1;32m--> 884\u001b[1;33m     \u001b[0mfile\u001b[0m \u001b[1;33m=\u001b[0m \u001b[0m__builtin__\u001b[0m\u001b[1;33m.\u001b[0m\u001b[0mopen\u001b[0m\u001b[1;33m(\u001b[0m\u001b[0mfilename\u001b[0m\u001b[1;33m,\u001b[0m \u001b[0mmode\u001b[0m\u001b[1;33m,\u001b[0m \u001b[0mbuffering\u001b[0m\u001b[1;33m)\u001b[0m\u001b[1;33m\u001b[0m\u001b[0m\n\u001b[0m\u001b[0;32m    885\u001b[0m     \u001b[1;32mif\u001b[0m \u001b[0mencoding\u001b[0m \u001b[1;32mis\u001b[0m \u001b[0mNone\u001b[0m\u001b[1;33m:\u001b[0m\u001b[1;33m\u001b[0m\u001b[0m\n\u001b[0;32m    886\u001b[0m         \u001b[1;32mreturn\u001b[0m \u001b[0mfile\u001b[0m\u001b[1;33m\u001b[0m\u001b[0m\n",
      "\u001b[1;31mIOError\u001b[0m: [Errno 2] No such file or directory: u'./judicial_data/\\u81fa\\u7063\\u57fa\\u9686,97,\\u5a5a,99.txt'"
     ]
    }
   ],
   "source": [
    "import os \n",
    "import re\n",
    "import codecs  #強制轉成utf-8\n",
    "import _uniout \n",
    "\n",
    "\n",
    "dir_path = u'./judicial/'\n",
    "filename = os.path.join(dir_path , u'臺灣基隆,97,婚,99.txt')\n",
    "\n",
    "# w ,r ,a ,r+ ,w+ ,rb ,wb\n",
    "\n",
    "with codecs.open(filename ,'r','utf-8') as f :\n",
    "    content = f.read() # 不能圖超過 2Mb\n",
    "    \n",
    "    #f.seek(0,0) #檔案指標移回檔案開頭\n",
    "    #lines = f.readlines()# 不能圖超過 2Mb\n",
    "    f.close() # 在with 中 可不寫,會強制關閉\n",
    "    # end of with\n",
    "    \n",
    "print content\n",
    "\n",
    "    \n",
    "content = re.sub(u'[\\r\\n]',' ',content)\n",
    "\n",
    "m = re.search(u'(【裁判日期】) ?(?P<date>\\d{6,7})',content)\n",
    "print m.group('date')\n",
    "\n",
    "\n",
    "m = re.findall(u'(【\\W{1,4}】)([^【】 ]+)',content)\n",
    "\n",
    "for g in m :\n",
    "    print _uniout.unescape(str(g),'utf-8') \n",
    "\n",
    "\n",
    "ch_numbers= u'零壹貳參肆伍陸柒捌玖拾'\n",
    "\n",
    "m = re.findall(u'([零壹貳參肆伍陸柒捌玖拾]{1,2})、([^：]+)：([^零壹貳參肆伍陸柒捌玖拾]+)',content)\n",
    "\n",
    "for g in m :\n",
    "    print _uniout.unescape(str(g),'utf-8') "
   ]
  },
  {
   "cell_type": "code",
   "execution_count": 19,
   "metadata": {
    "collapsed": false
   },
   "outputs": [
    {
     "name": "stdout",
     "output_type": "stream",
     "text": [
      "Current Letter : P\n",
      "Good bye!\n",
      "Current Letter : y\n",
      "Good bye!\n",
      "Current Letter : t\n",
      "Good bye!\n",
      "Current Letter : o\n",
      "Good bye!\n",
      "Current Letter : n\n",
      "Good bye!\n"
     ]
    }
   ],
   "source": [
    "for letter in 'Python': \n",
    "    if letter == 'h':\n",
    "        continue\n",
    "        print 'This is pass block'\n",
    "    print 'Current Letter :', letter\n",
    "    print \"Good bye!\""
   ]
  },
  {
   "cell_type": "code",
   "execution_count": 14,
   "metadata": {
    "collapsed": false
   },
   "outputs": [
    {
     "name": "stdout",
     "output_type": "stream",
     "text": [
      "my name is jacob\n",
      "my name is jacob\n"
     ]
    }
   ],
   "source": [
    "li = ['my','name','is','jacob']\n",
    "print ' '.join(li)\n",
    "li = ('my','name','is','jacob')\n",
    "print ' '.join(li)"
   ]
  }
 ],
 "metadata": {
  "kernelspec": {
   "display_name": "Python 2",
   "language": "python",
   "name": "python2"
  },
  "language_info": {
   "codemirror_mode": {
    "name": "ipython",
    "version": 2
   },
   "file_extension": ".py",
   "mimetype": "text/x-python",
   "name": "python",
   "nbconvert_exporter": "python",
   "pygments_lexer": "ipython2",
   "version": "2.7.10"
  }
 },
 "nbformat": 4,
 "nbformat_minor": 0
}

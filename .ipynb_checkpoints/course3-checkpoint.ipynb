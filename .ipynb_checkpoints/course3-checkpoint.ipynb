{
 "cells": [
  {
   "cell_type": "code",
   "execution_count": 17,
   "metadata": {
    "collapsed": false
   },
   "outputs": [
    {
     "name": "stdout",
     "output_type": "stream",
     "text": [
      "[u'Hello', u'World', u'This', u'is', u'link1', u'This', u'is', u'link2']\n"
     ]
    }
   ],
   "source": [
    "from bs4 import BeautifulSoup\n",
    "html_sample = ' \\\n",
    "<html> \\\n",
    "<body> \\\n",
    "<h1 id=\"title\">Hello World</h1> \\\n",
    "<a href=\"#\" class=\"link\">This is link1</a> \\\n",
    "<a href=\"# link2\" class=\"link\">This is link2</a> \\\n",
    "</body> \\\n",
    "</html>'\n",
    "soup = BeautifulSoup(html_sample)\n",
    "#print soup.contents\n",
    "#print soup.contents[1]\n",
    "print soup.text.strip().split()"
   ]
  },
  {
   "cell_type": "code",
   "execution_count": 27,
   "metadata": {
    "collapsed": false
   },
   "outputs": [
    {
     "name": "stdout",
     "output_type": "stream",
     "text": [
      "<a class=\"link\" href=\"#\">This is link1</a>\n",
      "#\n",
      "link\n"
     ]
    }
   ],
   "source": [
    "alink = soup.find('a')\n",
    "print alink\n",
    "print alink['href']\n",
    "print alink['class'][0]"
   ]
  },
  {
   "cell_type": "code",
   "execution_count": 40,
   "metadata": {
    "collapsed": false
   },
   "outputs": [
    {
     "name": "stdout",
     "output_type": "stream",
     "text": [
      "[<a class=\"link\" href=\"#\">This is link1</a>, <a class=\"link\" href=\"# link2\">This is link2</a>]\n",
      "<class 'bs4.element.ResultSet'>\n",
      "This is link1\n",
      "[u'This is link1']\n",
      "This is link1\n",
      "[u'This is link2']\n",
      "This is link2\n",
      "[<a class=\"link\" href=\"#\">This is link1</a>, <a class=\"link\" href=\"# link2\">This is link2</a>]\n",
      "#\n",
      "# link2\n"
     ]
    }
   ],
   "source": [
    "alinks = soup.findAll('a')\n",
    "print alinks\n",
    "print type(alinks)\n",
    "print alinks[0].text\n",
    "for link in alinks:\n",
    "    print link.contents\n",
    "    print link.text\n",
    "alinks2 = soup.select('a')\n",
    "print alinks2\n",
    "for link in alinks:\n",
    "    print link['href']"
   ]
  },
  {
   "cell_type": "code",
   "execution_count": 140,
   "metadata": {
    "collapsed": false
   },
   "outputs": [],
   "source": [
    "import requests\n",
    "from bs4 import BeautifulSoup\n",
    "f = open('cramschool.csv', 'w')\n",
    "for pg in range(1,2):\n",
    "    res = requests.get('https://www.iyp.com.tw/showroom.php?cate_name_eng_lv1=food-catering&cate_name_eng_lv3=ice-shops&p={0}'.format(pg))\n",
    "    res.encoding = 'utf-8'\n",
    "    soup = BeautifulSoup(res.text)\n",
    "    for ele in soup.select('.general li'):\n",
    "        if len(ele.select('h3'))>0:\n",
    "            f.write(\"%s,%s,%s\\n\"%(ele.select('h3')[0].text.encode('utf-8'), \\\n",
    "                ele.select('h3 a')[0]['href'].split('.tw/')[1].split('/')[0].encode('utf-8'),\\\n",
    "                ele.select('.view-map')[0]['go-map'].split('&k=')[1].encode('utf-8')))\n",
    "f.close()\n",
    "    "
   ]
  },
  {
   "cell_type": "code",
   "execution_count": 120,
   "metadata": {
    "collapsed": false
   },
   "outputs": [
    {
     "name": "stdout",
     "output_type": "stream",
     "text": [
      "<type 'dict'>\n"
     ]
    },
    {
     "data": {
      "text/plain": [
       "[1, 3, 2]"
      ]
     },
     "execution_count": 120,
     "metadata": {},
     "output_type": "execute_result"
    }
   ],
   "source": [
    "a= {'a':1,'b':2,'c':3}\n",
    "b=[1,2,3,4]\n",
    "print type(a)\n",
    "a.values()\n",
    "print "
   ]
  },
  {
   "cell_type": "code",
   "execution_count": 145,
   "metadata": {
    "collapsed": false
   },
   "outputs": [],
   "source": [
    "user_post = requests.post(\"http://web.pcc.gov.tw/tps/pss/tender.do?searchMode=common&searchType=basic\", data=payload)\n",
    "response_text = user_post.text.encode('utf8')"
   ]
  },
  {
   "cell_type": "code",
   "execution_count": 146,
   "metadata": {
    "collapsed": true
   },
   "outputs": [],
   "source": []
  },
  {
   "cell_type": "code",
   "execution_count": 200,
   "metadata": {
    "collapsed": false
   },
   "outputs": [],
   "source": [
    "import requests\n",
    "from bs4 import BeautifulSoup\n",
    "res = requests.get('http://udn.com/news/breaknews/1')\n",
    "res.encoding = 'utf-8'\n",
    "soup = BeautifulSoup(res.text)\n",
    "#for ele in soup.select('.area_body td'):\n",
    "    #if len(ele.select('a'))>0:\n",
    "        #print ele.select('a')[0].text"
   ]
  },
  {
   "cell_type": "code",
   "execution_count": 185,
   "metadata": {
    "collapsed": false
   },
   "outputs": [
    {
     "ename": "IndexError",
     "evalue": "list index out of range",
     "output_type": "error",
     "traceback": [
      "\u001b[0;31m---------------------------------------------------------------------------\u001b[0m",
      "\u001b[0;31mIndexError\u001b[0m                                Traceback (most recent call last)",
      "\u001b[0;32m<ipython-input-185-17e019ed993b>\u001b[0m in \u001b[0;36m<module>\u001b[0;34m()\u001b[0m\n\u001b[1;32m     10\u001b[0m \u001b[0mini\u001b[0m \u001b[0;34m=\u001b[0m\u001b[0;36m0\u001b[0m\u001b[0;34m\u001b[0m\u001b[0m\n\u001b[1;32m     11\u001b[0m \u001b[0;32mfor\u001b[0m \u001b[0mele\u001b[0m \u001b[0;32min\u001b[0m \u001b[0mary\u001b[0m\u001b[0;34m:\u001b[0m\u001b[0;34m\u001b[0m\u001b[0m\n\u001b[0;32m---> 12\u001b[0;31m     \u001b[0;32mwhile\u001b[0m \u001b[0mele\u001b[0m\u001b[0;34m.\u001b[0m\u001b[0mselect\u001b[0m\u001b[0;34m(\u001b[0m\u001b[0;34m'a'\u001b[0m\u001b[0;34m)\u001b[0m\u001b[0;34m[\u001b[0m\u001b[0mini\u001b[0m\u001b[0;34m]\u001b[0m\u001b[0;34m.\u001b[0m\u001b[0mtext\u001b[0m \u001b[0;34m!=\u001b[0m \u001b[0;34m''\u001b[0m \u001b[0;34m:\u001b[0m\u001b[0;34m\u001b[0m\u001b[0m\n\u001b[0m\u001b[1;32m     13\u001b[0m         \u001b[0;31m#print ele.select('a')[ini].text\u001b[0m\u001b[0;34m\u001b[0m\u001b[0;34m\u001b[0m\u001b[0m\n\u001b[1;32m     14\u001b[0m         \u001b[0mini\u001b[0m\u001b[0;34m+=\u001b[0m\u001b[0;36m1\u001b[0m\u001b[0;34m\u001b[0m\u001b[0m\n",
      "\u001b[0;31mIndexError\u001b[0m: list index out of range"
     ]
    }
   ],
   "source": [
    "import requests\n",
    "from bs4 import BeautifulSoup\n",
    "#for pg in range(1,2):\n",
    "res = requests.get('http://udn.com/news/breaknews/1')\n",
    "res.encoding = 'utf-8'\n",
    "soup = BeautifulSoup(res.text)\n",
    "#print soup.select('tr')[2].encode('utf-8')\n",
    "ary = [soup.select('.area_body')[1]]\n",
    "#print ary[0].encode('utf-8')\n",
    "ini =0\n",
    "for ele in ary:\n",
    "    while ele.select('a')[ini].text != '' :\n",
    "        #print ele.select('a')[ini].text\n",
    "        ini+=1"
   ]
  },
  {
   "cell_type": "code",
   "execution_count": 18,
   "metadata": {
    "collapsed": false
   },
   "outputs": [
    {
     "name": "stdout",
     "output_type": "stream",
     "text": [
      "298\n"
     ]
    }
   ],
   "source": [
    "# -*- coding: utf-8 -*-\n",
    "import requests\n",
    "from bs4 import BeautifulSoup\n",
    "\n",
    "payload={'method':'search', 'searchMethod':'true', \n",
    "         'tenderUpdate':'','searchTarget':'', 'orgName':'',\n",
    "         'orgId':'', 'hid_1':'1','tenderName':'', 'tenderId':'',\n",
    "         'tenderWay':'1', 'tenderDateRadio':'on',\n",
    "         'tenderStartDateStr':'104/07/24',\n",
    "        'tenderEndDateStr':'104/07/30',\n",
    "        'tenderStartDate':'104/07/24',\n",
    "        'tenderEndDate':'104/07/30',\n",
    "        'isSpdt':'N',\n",
    "        'proctrgCate':'3',\n",
    "        'radProctrgCate':'3',\n",
    "        'btnQuery':'查詢',\n",
    "        'hadUpdated':''}\n",
    "\n",
    "import math\n",
    "pg_get=soup.select('.T11b')[0].text\n",
    "pg_num = int(math.ceil(float(pg_get)/100))\n",
    "#print pg_num\n",
    "pg_href = 'http://web.pcc.gov.tw/tps/pss/tender.do?searchMode=common&searchType=basic&method=search&isSpdt=&pageIndex={}'\n",
    "for pp in range(0, pg_num+1):\n",
    "    \n",
    "\n",
    "re = requests.session()\n",
    "res_post = re.post('http://web.pcc.gov.tw/tps/pss/tender.do?searchMode=common&searchType=basic', data=payload)\n",
    "res_get = re.get(pg_href.format(pp))\n",
    "res_text = res_post.text.encode('utf8')\n",
    "#print res_text\n",
    "soup = BeautifulSoup(res_text)\n",
    "#print type(re)\n",
    "bid_table = bid_soup.select('#print_area')[0]\n"
   ]
  },
  {
   "cell_type": "code",
   "execution_count": null,
   "metadata": {
    "collapsed": false
   },
   "outputs": [],
   "source": []
  },
  {
   "cell_type": "code",
   "execution_count": null,
   "metadata": {
    "collapsed": false
   },
   "outputs": [],
   "source": [
    "\n"
   ]
  },
  {
   "cell_type": "code",
   "execution_count": null,
   "metadata": {
    "collapsed": true
   },
   "outputs": [],
   "source": []
  }
 ],
 "metadata": {
  "kernelspec": {
   "display_name": "Python 2",
   "language": "python",
   "name": "python2"
  },
  "language_info": {
   "codemirror_mode": {
    "name": "ipython",
    "version": 2
   },
   "file_extension": ".py",
   "mimetype": "text/x-python",
   "name": "python",
   "nbconvert_exporter": "python",
   "pygments_lexer": "ipython2",
   "version": "2.7.9"
  }
 },
 "nbformat": 4,
 "nbformat_minor": 0
}

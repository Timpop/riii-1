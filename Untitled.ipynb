{
 "cells": [
  {
   "cell_type": "code",
   "execution_count": 25,
   "metadata": {
    "collapsed": false
   },
   "outputs": [
    {
     "name": "stdout",
     "output_type": "stream",
     "text": [
      "9\n",
      "2\n",
      "3\n",
      "1\n",
      "4\n",
      "5\n",
      "6\n",
      "6\n"
     ]
    }
   ],
   "source": [
    "\n"
   ]
  },
  {
   "cell_type": "code",
   "execution_count": 71,
   "metadata": {
    "collapsed": false
   },
   "outputs": [
    {
     "name": "stdout",
     "output_type": "stream",
     "text": [
      "【裁判字號】93,婚,292\n",
      "【裁判日期】931125\n",
      "【裁判案由】離婚\n",
      "臺灣基隆地方法院民事裁定　　　　　　　　　　　　　九十三年度婚字第二九二號\n",
      "　　原　　　告　乙○○\n",
      "　　被　　　告　甲○○\n",
      "當事人間離婚事件，本院裁定如下：\n",
      "    主  文\n",
      "原告之訴駁回。\n",
      "訴訟費用由原告負擔。\n",
      "    理  由\n",
      "一、按當事人書狀，依民事訴訟法第一百十六條第一款規定，應記載當事人姓名、性\n",
      "    別、年齡、職業及住所或居所，當事人為法人或其他團體者，並應記載其名稱及\n",
      "    事務所或營業所，此為法定必須具備之程式。\n",
      "二、本件原告起訴，於起訴狀上記載被告之住所地係基隆市○○○路二０二之一號二\n",
      "    樓，惟經本院依址送達起訴狀繕本及言詞辯論通知書，遭郵務機關以遷移新址不\n",
      "    明為由退回，致無法送達訴訟文書，經本院於九十三年十月十四日當庭裁定，命\n",
      "    原告應於五日內補正或依法聲請公示送達，有本院九十三年十月十四日言詞辯論\n",
      "    筆錄在卷可稽。\n",
      "三、原告逾期迄未補正或聲請公示送達，其訴難認為合法，應予駁回。\n",
      "四、依民事訴訟法第二百四十九條第一項第六款、第九十五條、第七十八條，裁定如\n",
      "    主文。\n",
      "中　　　華　　　民　　　國　　九十三　　年　　 十一 　　月　　二十五　　日\n",
      "                                臺灣基隆地方法院家事法庭\n",
      "                                        法      官　林李達\n",
      "右為正本係照原本作成。\n",
      "如對本裁定抗告，應於本裁定送達後十日內向本院提出抗告狀，並繳納抗告裁判費新\n",
      "臺幣一千元，抗告於臺灣高等法院。\n",
      "中　　　華　　　民　　　國　　九十三　　年　　 十一 　　月　　二十六　　日\n",
      "                                        書　記　官　黃錫煒\n",
      "\n",
      "\n",
      "\n",
      "\n",
      "\n"
     ]
    }
   ],
   "source": [
    "import os \n",
    "import re\n",
    "import codecs  #強制轉成utf-8\n",
    "import _uniout \n",
    "\n",
    "\n",
    "dir_path = u'./judicial/'\n",
    "filename = os.path.join(dir_path , u'臺灣基隆,93,婚,292.txt')\n",
    "\n",
    "# w ,r ,a ,r+ ,w+ ,rb ,wb\n",
    "\n",
    "with codecs.open(filename ,'r','utf-8') as f :\n",
    "    content = f.read() # 不能圖超過 2Mb\n",
    "    \n",
    "    #f.seek(0,0) #檔案指標移回檔案開頭\n",
    "    #lines = f.readlines()# 不能圖超過 2Mb\n",
    "    f.close() # 在with 中 可不寫,會強制關閉\n",
    "    # end of with\n",
    "    \n",
    "print content\n",
    "\n",
    "    \n"
   ]
  },
  {
   "cell_type": "code",
   "execution_count": null,
   "metadata": {
    "collapsed": true
   },
   "outputs": [],
   "source": [
    "# -*- utf-8 -*-\n",
    "\n",
    "s = u'壹 我是人 我跳針 \\ 我想睡覺（一）'\n",
    "dic = u'壹'\n",
    "dic2 = u'（一）'\n",
    "dic3 = u' 施'\n",
    "   \n",
    "def check(doc,word):\n",
    "    if word in doc:\n",
    "        return doc.index(word)+1\n",
    "    else:\n",
    "        return 0\n",
    "\n",
    "#print check(s,dic)\n",
    "#print check(s,dic2)\n",
    "\n",
    "listindex = [check(s,dic),check(s,dic2),check(s,dic3)]\n",
    "\n",
    "mini=[9,2,3,1,4,5,6]\n",
    "minnum = 999999999\n",
    "sortlist = []\n",
    "\n",
    "for i in range(len(mini)):\n",
    "    print mini[i]\n",
    "    if mini[i] < minnum:\n",
    "        mininum = mini[i]\n",
    "print mininum"
   ]
  },
  {
   "cell_type": "code",
   "execution_count": 61,
   "metadata": {
    "collapsed": false
   },
   "outputs": [
    {
     "name": "stdout",
     "output_type": "stream",
     "text": [
      "['a', 'c', 'd']\n",
      "{'c': 3, 'b': 2}\n",
      "<type 'tuple'>\n",
      "我\n"
     ]
    }
   ],
   "source": [
    "a = ['a', 'b', 'c', 'd']\n",
    "a.pop(1)\n",
    "print a\n",
    "b = {'a':1,'b':2,'c':3}\n",
    "b.pop('a')\n",
    "print b\n",
    "\n",
    "c = ('我','是','人')\n",
    "print type(c)\n",
    "print c[0]\n"
   ]
  }
 ],
 "metadata": {
  "kernelspec": {
   "display_name": "Python 2",
   "language": "python",
   "name": "python2"
  },
  "language_info": {
   "codemirror_mode": {
    "name": "ipython",
    "version": 2
   },
   "file_extension": ".py",
   "mimetype": "text/x-python",
   "name": "python",
   "nbconvert_exporter": "python",
   "pygments_lexer": "ipython2",
   "version": "2.7.10"
  }
 },
 "nbformat": 4,
 "nbformat_minor": 0
}

{
 "cells": [
  {
   "cell_type": "code",
   "execution_count": 1,
   "metadata": {
    "collapsed": false
   },
   "outputs": [
    {
     "name": "stdout",
     "output_type": "stream",
     "text": [
      "['/Users/jokan/desktop/$RECYCLE.BIN', '/Users/jokan/desktop/2330.csv', '/Users/jokan/desktop/cdc.rdata', '/Users/jokan/desktop/comic.html', '/Users/jokan/desktop/data', '/Users/jokan/desktop/dir1', '/Users/jokan/desktop/dir2', '/Users/jokan/desktop/dir3', '/Users/jokan/desktop/dir4', '/Users/jokan/desktop/dropbox.pc', '/Users/jokan/desktop/EmployeeList.csv', '/Users/jokan/desktop/EmployeeList2.csv', '/Users/jokan/desktop/f1', '/Users/jokan/desktop/ff1.rtf', '/Users/jokan/desktop/in an amusement park.jpg', '/Users/jokan/desktop/jacob.html', '/Users/jokan/desktop/jacob.Rmd', '/Users/jokan/desktop/jaychou', '/Users/jokan/desktop/match.txt', '/Users/jokan/desktop/NYC_Free_Public_WiFi_12052014.csv', '/Users/jokan/desktop/RmakeDown.html', '/Users/jokan/desktop/RmakeDown.Rmd', '/Users/jokan/desktop/second run theater.jpg', '/Users/jokan/desktop/test.py', '/Users/jokan/desktop/Thumbs.db', '/Users/jokan/desktop/Weka_Introduction (1).pdf', '/Users/jokan/desktop/\\xe5\\xa4\\xa7\\xe5\\x9e\\x8b\\xe9\\x9b\\x86\\xe5\\x9c\\x98\\xe8\\x88\\x87\\xe5\\x8f\\xb0\\xe5\\x95\\x86\\xe5\\x8d\\x83\\xe5\\xa4\\xa7\\xe6\\x95\\xb8\\xe6\\x93\\x9a.pptx', '/Users/jokan/desktop/\\xe5\\xaf\\x8c\\xe5\\xa3\\xab\\xe5\\xba\\xb7.xlsx', '/Users/jokan/desktop/\\xe6\\x95\\xb4\\xe7\\x90\\x86', '/Users/jokan/desktop/\\xe8\\x9e\\xa2\\xe5\\xb9\\x95\\xe5\\xbf\\xab\\xe7\\x85\\xa7 2015-08-11 \\xe4\\xb8\\x8b\\xe5\\x8d\\x882.08.31.png', '/Users/jokan/desktop/\\xe8\\x9e\\xa2\\xe5\\xb9\\x95\\xe5\\xbf\\xab\\xe7\\x85\\xa7 2015-08-13 \\xe4\\xb8\\x8a\\xe5\\x8d\\x887.47.50.png', '/Users/jokan/desktop/\\xe8\\x9e\\xa2\\xe5\\xb9\\x95\\xe5\\xbf\\xab\\xe7\\x85\\xa7 2015-08-14 \\xe4\\xb8\\x8b\\xe5\\x8d\\x883.16.17.png']\n"
     ]
    }
   ],
   "source": [
    "import glob\n",
    "list = glob.glob('/Users/jokan/desktop/*')\n",
    "print list"
   ]
  }
 ],
 "metadata": {
  "kernelspec": {
   "display_name": "Python 2",
   "language": "python",
   "name": "python2"
  },
  "language_info": {
   "codemirror_mode": {
    "name": "ipython",
    "version": 2
   },
   "file_extension": ".py",
   "mimetype": "text/x-python",
   "name": "python",
   "nbconvert_exporter": "python",
   "pygments_lexer": "ipython2",
   "version": "2.7.9"
  }
 },
 "nbformat": 4,
 "nbformat_minor": 0
}

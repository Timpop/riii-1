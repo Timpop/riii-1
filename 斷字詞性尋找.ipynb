{
 "cells": [
  {
   "cell_type": "code",
   "execution_count": 103,
   "metadata": {
    "collapsed": false
   },
   "outputs": [
    {
     "name": "stdout",
     "output_type": "stream",
     "text": [
      "N:原告\n",
      "N:被告\n",
      "N:當事人\n",
      "N:間\n",
      "N:事件\n",
      "N:院\n",
      "N:民國\n",
      "N:月\n",
      "N:主文\n",
      "N:正本\n",
      "N:事實欄\n",
      "N:理由欄\n",
      "N:兩造\n",
      "N:子女\n",
      "N:陳\n",
      "N:之\n",
      "N:月\n",
      "N:日\n",
      "N:民國\n",
      "N:七十四年\n",
      "N:十二月\n",
      "N:二十日\n",
      "N:記載\n",
      "N:民國\n",
      "N:七十八年\n",
      "N:十月\n",
      "N:二十七日\n",
      "N:中華民國\n",
      "N:95年\n",
      "N:月\n",
      "N:13日\n",
      "N:臺北\n",
      "N:地方\n",
      "N:法院\n",
      "N:家事\n",
      "N:法庭\n",
      "N:法官\n",
      "N:彭南元\n",
      "N:以上\n",
      "N:正本\n",
      "N:證明\n",
      "N:期間\n",
      "N:院\n",
      "N:中華民國\n",
      "N:95年\n",
      "N:月\n",
      "N:13日\n",
      "N:書記官\n",
      "N:陳俐妙\n",
      "V:離婚\n",
      "V:判\n",
      "V:決\n",
      "V:裁定\n",
      "V:更正\n",
      "V:如下\n",
      "V:判決\n",
      "V:生\n",
      "V:強\n",
      "V:出生\n",
      "V:即\n",
      "V:出生\n",
      "V:更正為\n",
      "V:出生\n",
      "V:無異\n",
      "V:裁定\n",
      "V:送達\n",
      "V:不變\n",
      "V:提出\n",
      "V:抗\n",
      "V:告狀\n"
     ]
    }
   ],
   "source": [
    "# -*- utf-8 -*-\n",
    "import os \n",
    "import re\n",
    "import codecs  #強制轉成utf-8\n",
    "import _uniout \n",
    "\n",
    "with codecs.open(u'./84婚444.txt','r','utf-8') as f :\n",
    "    content = f.read() # 不能圖超過 2Mb\n",
    "    f.close() # 在with 中 可不寫,會強制關閉\n",
    "    #print content\n",
    "#Words of None\n",
    "none = re.findall('N:(.+?)[\\)\\|]', content)\n",
    "for i in none:\n",
    "    print 'N:'+i\n",
    "verb = re.findall('V\\w{1}:(.+?)[\\)\\|]', content)\n",
    "for i in verb:\n",
    "    print 'V:'+i\n",
    "    "
   ]
  },
  {
   "cell_type": "code",
   "execution_count": null,
   "metadata": {
    "collapsed": true
   },
   "outputs": [],
   "source": []
  },
  {
   "cell_type": "code",
   "execution_count": null,
   "metadata": {
    "collapsed": true
   },
   "outputs": [],
   "source": []
  },
  {
   "cell_type": "code",
   "execution_count": 85,
   "metadata": {
    "collapsed": false
   },
   "outputs": [
    {
     "ename": "AttributeError",
     "evalue": "'NoneType' object has no attribute 'group'",
     "output_type": "error",
     "traceback": [
      "\u001b[0;31m---------------------------------------------------------------------------\u001b[0m",
      "\u001b[0;31mAttributeError\u001b[0m                            Traceback (most recent call last)",
      "\u001b[0;32m<ipython-input-85-01e2e76d1e0b>\u001b[0m in \u001b[0;36m<module>\u001b[0;34m()\u001b[0m\n\u001b[1;32m      1\u001b[0m \u001b[0mcom\u001b[0m \u001b[0;34m=\u001b[0m \u001b[0;34mu'TTTT XXXXX 某某社區 社區新暗通知我 '\u001b[0m\u001b[0;34m\u001b[0m\u001b[0m\n\u001b[1;32m      2\u001b[0m \u001b[0mm\u001b[0m \u001b[0;34m=\u001b[0m \u001b[0mre\u001b[0m\u001b[0;34m.\u001b[0m\u001b[0msearch\u001b[0m\u001b[0;34m(\u001b[0m\u001b[0;34mu'([.]+) 社區新暗通知我'\u001b[0m\u001b[0;34m,\u001b[0m\u001b[0mcom\u001b[0m\u001b[0;34m)\u001b[0m\u001b[0;34m\u001b[0m\u001b[0m\n\u001b[0;32m----> 3\u001b[0;31m \u001b[0;32mprint\u001b[0m \u001b[0mm\u001b[0m\u001b[0;34m.\u001b[0m\u001b[0mgroup\u001b[0m\u001b[0;34m(\u001b[0m\u001b[0;36m1\u001b[0m\u001b[0;34m)\u001b[0m\u001b[0;34m\u001b[0m\u001b[0m\n\u001b[0m",
      "\u001b[0;31mAttributeError\u001b[0m: 'NoneType' object has no attribute 'group'"
     ]
    }
   ],
   "source": [
    "com = u'TTTT XXXXX 某某社區 社區新暗通知我 '\n",
    "m = re.search(u'([.]+) 社區新暗通知我',com)\n",
    "print m.group(1)"
   ]
  },
  {
   "cell_type": "code",
   "execution_count": null,
   "metadata": {
    "collapsed": true
   },
   "outputs": [],
   "source": []
  },
  {
   "cell_type": "code",
   "execution_count": null,
   "metadata": {
    "collapsed": true
   },
   "outputs": [],
   "source": []
  }
 ],
 "metadata": {
  "kernelspec": {
   "display_name": "Python 2",
   "language": "python",
   "name": "python2"
  },
  "language_info": {
   "codemirror_mode": {
    "name": "ipython",
    "version": 2
   },
   "file_extension": ".py",
   "mimetype": "text/x-python",
   "name": "python",
   "nbconvert_exporter": "python",
   "pygments_lexer": "ipython2",
   "version": "2.7.9"
  }
 },
 "nbformat": 4,
 "nbformat_minor": 0
}

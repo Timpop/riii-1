{
 "cells": [
  {
   "cell_type": "code",
   "execution_count": 56,
   "metadata": {
    "collapsed": false
   },
   "outputs": [],
   "source": [
    "# -*- coding: utf-8 -*-\n",
    "import requests,html5lib,urllib2,re\n",
    "from bs4 import BeautifulSoup\n",
    "\n",
    "def downloadfile(pg_url):\n",
    "    page = urllib2.urlopen(pg_url)\n",
    "    soup = BeautifulSoup(page,fromEncoding=\"utf8\")\n",
    "    soup.originalEncoding\n",
    "    soup.prettify()\n",
    "    ele =soup.select('div')\n",
    "    #title = ele[17].text.strip().encode('utf8')\n",
    "    title = soup.select('#wsTitle')[0].text.encode('utf8')\n",
    "    time = soup.select('#wsTime')[0].text.encode('utf8').split(\"：\")[1].replace(\"-\",\"\")[0:8]\n",
    "    #time2 = time\n",
    "    f = open('data/%s%s.txt'%(time,title),'w')\n",
    "    headname = title +'\\n'+time+'\\n'\n",
    "    f.write(headname)\n",
    "    for i in range(15,80):\n",
    "        if len(ele[i].text):\n",
    "            contents = ele[i].text.strip().encode('utf8')+'\\n'\n",
    "            f.write(contents)\n",
    "        else :\n",
    "            break        \n",
    "    f.close()\n",
    "\n",
    "page=5 #24119\n",
    "for pp in range(1,page+1):\n",
    "    link='http://www.court.gov.cn/extension/simpleSearch.htm?keyword=%E5%8A%B3%E5%8A%A8%E4%BA%89%E8%AE%AE&caseCode=&startTime=2001-1-1&endTime=2015-8-12&page={}'.format(pp)\n",
    "    res = requests.get(link)\n",
    "    res_text= res.text.encode('utf-8')\n",
    "    soup_m = BeautifulSoup(res_text,\"html5lib\")\n",
    "    for ele in soup_m.select('.tdbgs_odd'):\n",
    "        pg_url = ele.select('a')[0]['href']\n",
    "        downloadfile(pg_url)\n",
    "        #print pg_url\n",
    "    for ele in soup_m.select('.tdbgs_even'):\n",
    "        pg_url= ele.select('a')[0]['href']\n",
    "        downloadfile(pg_url)\n",
    "        #print pg_url"
   ]
  },
  {
   "cell_type": "code",
   "execution_count": 30,
   "metadata": {
    "collapsed": false,
    "scrolled": false
   },
   "outputs": [],
   "source": [
    "# -*- coding: utf-8 -*-\n",
    "import urllib2,re\n",
    "from bs4 import BeautifulSoup\n",
    "pg_link ='http://www.court.gov.cn/zgcpwsw/sd/sdsqdszjrmfy/qdssnqrmfy/ms/201508/t20150812_10153773.htm'\n",
    "page = urllib2.urlopen(pg_link)\n",
    "soup = BeautifulSoup(page,fromEncoding=\"utf8\")\n",
    "soup.originalEncoding\n",
    "soup.prettify()\n",
    "ele =soup.select('div')\n",
    "#title = ele[17].text.strip().encode('utf8')\n",
    "title = soup.select('#wsTitle')[0].text.encode('utf8')\n",
    "time = soup.select('#wsTime')[0].text.encode('utf8').split(\"：\")[1].replace(\"-\",\"\")[0:8]\n",
    "#time2 = time\n",
    "f = open('data/%s%s.txt'%(time,title),'w')\n",
    "headname = title +'\\n'+time+'\\n'\n",
    "f.write(headname)\n",
    "for i in range(15,80):\n",
    "    if len(ele[i].text):\n",
    "        contents = ele[i].text.strip().encode('utf8')+'\\n'\n",
    "        f.write(contents)\n",
    "    else :\n",
    "        break        \n",
    "f.close()"
   ]
  },
  {
   "cell_type": "code",
   "execution_count": 4,
   "metadata": {
    "collapsed": false
   },
   "outputs": [
    {
     "name": "stdout",
     "output_type": "stream",
     "text": [
      "match\n"
     ]
    }
   ],
   "source": [
    "import re\n",
    "s1=\" i am 30 !\"\n",
    "w1 = \"中国共产党新闻\"\n",
    "w2 = \"中国共产党新闻 我们 \"\n",
    "if re.search(w2, w1)!= 'none':\n",
    "    print('match')\n",
    "else:\n",
    "    print('not match')"
   ]
  },
  {
   "cell_type": "code",
   "execution_count": 92,
   "metadata": {
    "collapsed": false
   },
   "outputs": [
    {
     "name": "stdout",
     "output_type": "stream",
     "text": [
      "What is real? How do you define real?\n",
      "real?\n",
      "()\n"
     ]
    }
   ],
   "source": [
    "a = \"Free your mind.\"\n",
    "b = \"Welcome to the desert... of the real.\"\n",
    "c = \"What is real? How do you define real?\"\n",
    "d = \"There is no spoon.\"\n",
    " \n",
    "\n",
    "print(c)\n",
    "print(c.split(\" \")[2])\n",
    "print()\n"
   ]
  },
  {
   "cell_type": "code",
   "execution_count": 23,
   "metadata": {
    "collapsed": false
   },
   "outputs": [
    {
     "name": "stdout",
     "output_type": "stream",
     "text": [
      "20150812\n"
     ]
    }
   ],
   "source": [
    "a = '提交时间：2015-08-12    1'\n",
    "b = a.split('：')[1].replace('-','')[0:8]\n",
    "print b"
   ]
  }
 ],
 "metadata": {
  "kernelspec": {
   "display_name": "Python 2",
   "language": "python",
   "name": "python2"
  },
  "language_info": {
   "codemirror_mode": {
    "name": "ipython",
    "version": 2
   },
   "file_extension": ".py",
   "mimetype": "text/x-python",
   "name": "python",
   "nbconvert_exporter": "python",
   "pygments_lexer": "ipython2",
   "version": "2.7.9"
  }
 },
 "nbformat": 4,
 "nbformat_minor": 0
}

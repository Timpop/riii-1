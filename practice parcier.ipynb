{
 "cells": [
  {
   "cell_type": "code",
   "execution_count": 172,
   "metadata": {
    "collapsed": false
   },
   "outputs": [
    {
     "ename": "TypeError",
     "evalue": "first argument must be string or compiled pattern",
     "output_type": "error",
     "traceback": [
      "\u001b[1;31m---------------------------------------------------------------------------\u001b[0m",
      "\u001b[1;31mTypeError\u001b[0m                                 Traceback (most recent call last)",
      "\u001b[1;32m<ipython-input-172-7f2fa0483fa6>\u001b[0m in \u001b[0;36m<module>\u001b[1;34m()\u001b[0m\n\u001b[0;32m     40\u001b[0m \u001b[1;32mfor\u001b[0m \u001b[0mw\u001b[0m \u001b[1;32min\u001b[0m \u001b[0mm\u001b[0m\u001b[1;33m:\u001b[0m\u001b[1;33m\u001b[0m\u001b[0m\n\u001b[0;32m     41\u001b[0m     \u001b[1;32mfor\u001b[0m \u001b[0mi\u001b[0m \u001b[1;32min\u001b[0m \u001b[0mw\u001b[0m\u001b[1;33m:\u001b[0m\u001b[1;33m\u001b[0m\u001b[0m\n\u001b[1;32m---> 42\u001b[1;33m         \u001b[1;32mif\u001b[0m \u001b[0mre\u001b[0m\u001b[1;33m.\u001b[0m\u001b[0msearch\u001b[0m\u001b[1;33m(\u001b[0m\u001b[0many\u001b[0m\u001b[1;33m(\u001b[0m\u001b[0my\u001b[0m \u001b[1;32mfor\u001b[0m \u001b[0my\u001b[0m \u001b[1;32min\u001b[0m \u001b[0mlist2\u001b[0m\u001b[1;33m)\u001b[0m\u001b[1;33m,\u001b[0m\u001b[0mi\u001b[0m\u001b[1;33m)\u001b[0m\u001b[1;33m:\u001b[0m\u001b[1;33m\u001b[0m\u001b[0m\n\u001b[0m\u001b[0;32m     43\u001b[0m         \u001b[1;31m#if (u'原告') in i:\u001b[0m\u001b[1;33m\u001b[0m\u001b[1;33m\u001b[0m\u001b[0m\n\u001b[0;32m     44\u001b[0m             \u001b[1;32mprint\u001b[0m \u001b[0mi\u001b[0m\u001b[1;33m,\u001b[0m\u001b[1;33m\u001b[0m\u001b[0m\n",
      "\u001b[1;32mC:\\Python27\\lib\\re.pyc\u001b[0m in \u001b[0;36msearch\u001b[1;34m(pattern, string, flags)\u001b[0m\n\u001b[0;32m    144\u001b[0m     \"\"\"Scan through string looking for a match to the pattern, returning\n\u001b[0;32m    145\u001b[0m     a match object, or None if no match was found.\"\"\"\n\u001b[1;32m--> 146\u001b[1;33m     \u001b[1;32mreturn\u001b[0m \u001b[0m_compile\u001b[0m\u001b[1;33m(\u001b[0m\u001b[0mpattern\u001b[0m\u001b[1;33m,\u001b[0m \u001b[0mflags\u001b[0m\u001b[1;33m)\u001b[0m\u001b[1;33m.\u001b[0m\u001b[0msearch\u001b[0m\u001b[1;33m(\u001b[0m\u001b[0mstring\u001b[0m\u001b[1;33m)\u001b[0m\u001b[1;33m\u001b[0m\u001b[0m\n\u001b[0m\u001b[0;32m    147\u001b[0m \u001b[1;33m\u001b[0m\u001b[0m\n\u001b[0;32m    148\u001b[0m \u001b[1;32mdef\u001b[0m \u001b[0msub\u001b[0m\u001b[1;33m(\u001b[0m\u001b[0mpattern\u001b[0m\u001b[1;33m,\u001b[0m \u001b[0mrepl\u001b[0m\u001b[1;33m,\u001b[0m \u001b[0mstring\u001b[0m\u001b[1;33m,\u001b[0m \u001b[0mcount\u001b[0m\u001b[1;33m=\u001b[0m\u001b[1;36m0\u001b[0m\u001b[1;33m,\u001b[0m \u001b[0mflags\u001b[0m\u001b[1;33m=\u001b[0m\u001b[1;36m0\u001b[0m\u001b[1;33m)\u001b[0m\u001b[1;33m:\u001b[0m\u001b[1;33m\u001b[0m\u001b[0m\n",
      "\u001b[1;32mC:\\Python27\\lib\\re.pyc\u001b[0m in \u001b[0;36m_compile\u001b[1;34m(*key)\u001b[0m\n\u001b[0;32m    245\u001b[0m         \u001b[1;32mreturn\u001b[0m \u001b[0mpattern\u001b[0m\u001b[1;33m\u001b[0m\u001b[0m\n\u001b[0;32m    246\u001b[0m     \u001b[1;32mif\u001b[0m \u001b[1;32mnot\u001b[0m \u001b[0msre_compile\u001b[0m\u001b[1;33m.\u001b[0m\u001b[0misstring\u001b[0m\u001b[1;33m(\u001b[0m\u001b[0mpattern\u001b[0m\u001b[1;33m)\u001b[0m\u001b[1;33m:\u001b[0m\u001b[1;33m\u001b[0m\u001b[0m\n\u001b[1;32m--> 247\u001b[1;33m         \u001b[1;32mraise\u001b[0m \u001b[0mTypeError\u001b[0m\u001b[1;33m,\u001b[0m \u001b[1;34m\"first argument must be string or compiled pattern\"\u001b[0m\u001b[1;33m\u001b[0m\u001b[0m\n\u001b[0m\u001b[0;32m    248\u001b[0m     \u001b[1;32mtry\u001b[0m\u001b[1;33m:\u001b[0m\u001b[1;33m\u001b[0m\u001b[0m\n\u001b[0;32m    249\u001b[0m         \u001b[0mp\u001b[0m \u001b[1;33m=\u001b[0m \u001b[0msre_compile\u001b[0m\u001b[1;33m.\u001b[0m\u001b[0mcompile\u001b[0m\u001b[1;33m(\u001b[0m\u001b[0mpattern\u001b[0m\u001b[1;33m,\u001b[0m \u001b[0mflags\u001b[0m\u001b[1;33m)\u001b[0m\u001b[1;33m\u001b[0m\u001b[0m\n",
      "\u001b[1;31mTypeError\u001b[0m: first argument must be string or compiled pattern"
     ]
    }
   ],
   "source": [
    "# -*- utf-8 -*-\n",
    "import os \n",
    "import re\n",
    "import codecs  #強制轉成utf-8\n",
    "import _uniout \n",
    "\n",
    "\n",
    "dir_path = u'./judicial_test/'\n",
    "filename = os.path.join(dir_path , u'90,婚,27.txt')\n",
    "\n",
    "# w ,r ,a ,r+ ,w+ ,rb ,wb\n",
    "\n",
    "with codecs.open(filename ,'r','utf-8') as f :\n",
    "    content = f.read() # 不能圖超過 2Mb\n",
    "    \n",
    "    #f.seek(0,0) #檔案指標移回檔案開頭\n",
    "    #lines = f.readlines()# 不能圖超過 2Mb\n",
    "    f.close() # 在with 中 可不寫,會強制關閉\n",
    "    # end of with\n",
    "    \n",
    "\n",
    "content = re.sub(u'[\\r\\n]',' ',content)\n",
    "#print (content)\n",
    "m = re.search(u'(【裁判日期】) ?(\\d{6,7})',content)\n",
    "#print m.group(1),m.group(2)\n",
    "m = re.search(u'(【裁判字號】) ?([^ ]+)',content)\n",
    "#print m.group(1),m.group(2)\n",
    "m = re.search(u'(【裁判案由】) ?([^ ]+)',content)\n",
    "#print m.group(1),m.group(2)\n",
    "m = re.search(u'臺灣(\\W{2,4})(地方法院)民事',content)\n",
    "#print m.group(2)+':',m.group(1)\n",
    "\n",
    "#m = re.findall(u'([零壹貳參肆伍陸柒捌玖拾]{1,2})、([^：]+)：([^零壹貳參肆伍陸柒捌玖拾]+)',content)\n",
    "item=[u'甲、',u'乙',u'丙',u'丁']\n",
    "list2 = [u'原告',u'聲明',u'陳述']\n",
    "m = []\n",
    "#if any(x in str for x in a):\n",
    "if any(x in content for x in item):\n",
    "    m = re.findall(u'([甲乙丙])、([^甲乙丙]+)',content)\n",
    "for w in m:\n",
    "    for i in w:\n",
    "        if re.search(any(y for y in list2),i):\n",
    "        #if (u'原告') in i:\n",
    "            print i,\n",
    "    print\n",
    "    print\n",
    "'''\n",
    "f = open('./judicial_test/print.text','a+')\n",
    "for w in m:\n",
    "    f.write(f)\n",
    "f.close()\n",
    "'''"
   ]
  },
  {
   "cell_type": "code",
   "execution_count": 155,
   "metadata": {
    "collapsed": false
   },
   "outputs": [
    {
     "name": "stdout",
     "output_type": "stream",
     "text": [
      "9\n",
      "2\n",
      "3\n",
      "1\n",
      "4\n",
      "5\n",
      "6\n",
      "6\n"
     ]
    }
   ],
   "source": [
    "# -*- utf-8 -*-\n",
    "\n",
    "s = u'壹 我是人 我跳針 \\ 我想睡覺（一）'\n",
    "dic = u'壹'\n",
    "dic2 = u'（一）'\n",
    "dic3 = u' 施'\n",
    "   \n",
    "def check(doc,word):\n",
    "    if word in doc:\n",
    "        return doc.index(word)+1\n",
    "    else:\n",
    "        return 0\n",
    "\n",
    "#print check(s,dic)\n",
    "#print check(s,dic2)\n",
    "\n",
    "listindex = [check(s,dic),check(s,dic2),check(s,dic3)]\n",
    "\n",
    "mini=[9,2,3,1,4,5,6]\n",
    "minnum = 999999999\n",
    "sortlist = []\n",
    "\n",
    "for i in range(len(mini)):\n",
    "    print mini[i]\n",
    "    if mini[i] < minnum:\n",
    "        mininum = mini[i]\n",
    "print mininum"
   ]
  },
  {
   "cell_type": "markdown",
   "metadata": {},
   "source": [
    "# d"
   ]
  }
 ],
 "metadata": {
  "kernelspec": {
   "display_name": "Python 2",
   "language": "python",
   "name": "python2"
  },
  "language_info": {
   "codemirror_mode": {
    "name": "ipython",
    "version": 2
   },
   "file_extension": ".py",
   "mimetype": "text/x-python",
   "name": "python",
   "nbconvert_exporter": "python",
   "pygments_lexer": "ipython2",
   "version": "2.7.10"
  }
 },
 "nbformat": 4,
 "nbformat_minor": 0
}

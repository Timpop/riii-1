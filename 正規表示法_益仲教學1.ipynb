{
 "cells": [
  {
   "cell_type": "markdown",
   "metadata": {},
   "source": [
    "### 'm.group()' 尋找物件m的群組\n",
    "### '?P< Number>' 為群組命名 'Number'\n",
    "### '?:' print的時候不會顯示\n",
    "### 文字前面是否有u是有差異的\n",
    "### ()包起來的視為一個群組\n"
   ]
  },
  {
   "cell_type": "code",
   "execution_count": 2,
   "metadata": {
    "collapsed": false,
    "scrolled": true
   },
   "outputs": [
    {
     "name": "stdout",
     "output_type": "stream",
     "text": [
      "(78)\n",
      "(78) 78\n",
      "78\n",
      "2015-07-05\n",
      "西元 2015-07-05\n",
      "2015\n",
      "07\n",
      "05\n",
      "2015 07 05\n",
      "07\n",
      "05\n"
     ]
    }
   ],
   "source": [
    "# -*- coding:utf-8 -*-\n",
    "import re\n",
    "\n",
    "src = u'西元 2015-07-05 123456(78)'\n",
    "\n",
    "\n",
    "a = re.search('\\(\\d{1,}\\)',src)\n",
    "print a.group(0) \n",
    "\n",
    "a = re.search('\\((\\d{1,})\\)',src)\n",
    "print a.group(0) ,a.group(1)\n",
    "\n",
    "a = re.search('\\((?P<Number>\\d{1,})\\)',src)\n",
    "print a.group('Number')\n",
    "\n",
    "all_find = re.findall('\\d{4}-\\d{2}-\\d{2}',src)\n",
    "\n",
    "for s in all_find :\n",
    "    print s\n",
    "    \n",
    "m = re.search(u'(西元 (\\d{4})-(\\d{2})-(\\d{2}))' ,src)\n",
    "for g in m.groups() :\n",
    "    print g\n",
    "    \n",
    "m = re.search(u'(西元 (?P<year>\\d{4})-(?P<month>\\d{2})-(?P<day>\\d{2}))' ,src)\n",
    "print m.group('year') , m.group('month') ,m.group('day')\n",
    "\n",
    "m = re.search(u'西元 (?:\\d{4})-(?P<month>\\d{2})-(?P<day>\\d{2})' ,src)\n",
    "for g in m.groups() :\n",
    "    print g\n",
    "    \n"
   ]
  },
  {
   "cell_type": "markdown",
   "metadata": {},
   "source": [
    "### 分多個群組\n",
    "### 有 | 判斷是否有對應到其中一個，有對應才會繼續往後執行"
   ]
  },
  {
   "cell_type": "code",
   "execution_count": 3,
   "metadata": {
    "collapsed": false
   },
   "outputs": [
    {
     "name": "stdout",
     "output_type": "stream",
     "text": [
      "民國 104 07  05 西元 2015 07  05\n"
     ]
    }
   ],
   "source": [
    "src = u'民國 104-07-05 西元 2015-07-05'\n",
    "m  = re.findall(u'(民國|西元) (\\d{2,3}|\\d{4})-(?:([0]{0,1}[1-9]{1})|(1[0-2]))-(\\d{2})',src)\n",
    "for s in m :\n",
    "    for i in s:\n",
    "        print i ,\n",
    "    #print '|'\n",
    "    "
   ]
  },
  {
   "cell_type": "markdown",
   "metadata": {},
   "source": [
    "### 檢驗字串\n",
    "### '\\b' 為ASCII用的\n",
    "### '\\\\b' 頭尾有空白仍可正常顯示，unicode時候需跳脫 ( \\ ) 後再用 \\b 才可以執行\n"
   ]
  },
  {
   "cell_type": "code",
   "execution_count": 4,
   "metadata": {
    "collapsed": false
   },
   "outputs": [
    {
     "name": "stdout",
     "output_type": "stream",
     "text": [
      "A123456789\n",
      "['a', 'row', 'table']\n",
      "\\b\\w+\\b\n",
      "\\b\\w+\\b\n"
     ]
    }
   ],
   "source": [
    "src = 'a A123456789 '\n",
    "print re.search('\\\\b([A-Z]{1}\\d{9})\\\\b',src,re.MULTILINE).group(0)\n",
    "\n",
    "\n",
    "src = 'a row table '\n",
    "print re.findall(u'\\\\b\\w+\\\\b',src,re.MULTILINE)\n",
    "\n",
    "\n",
    "print r'\\b\\w+\\b'\n",
    "print u'\\\\b\\w+\\\\b'"
   ]
  },
  {
   "cell_type": "markdown",
   "metadata": {},
   "source": [
    "### \\g< 1>取代時保留群組的內容\n",
    "###\\w+ 代表一個字元，'+'代表1個以上，\\w若是英文時，輸入abcdefgh一個\\w就可以全數代表 ; 若是中文\\w只能算一個字，ex.大中小 \\w\\w\\w才能顯示大中小"
   ]
  },
  {
   "cell_type": "code",
   "execution_count": 69,
   "metadata": {
    "collapsed": false
   },
   "outputs": [
    {
     "name": "stdout",
     "output_type": "stream",
     "text": [
      "num:123\n",
      "'num':'123'\n"
     ]
    }
   ],
   "source": [
    "src = u'num:123'\n",
    "#src => \"'num':'123'\"\n",
    "\n",
    "m = re.findall(u'\\w+:\\w+',src)\n",
    "for s in m :\n",
    "    print s\n",
    "newsrc = re.sub(u'(\\w+):(\\w+)',u\"'\\g<1>':'\\g<2>'\",src)\n",
    "print newsrc"
   ]
  }
 ],
 "metadata": {
  "kernelspec": {
   "display_name": "Python 2",
   "language": "python",
   "name": "python2"
  },
  "language_info": {
   "codemirror_mode": {
    "name": "ipython",
    "version": 2
   },
   "file_extension": ".py",
   "mimetype": "text/x-python",
   "name": "python",
   "nbconvert_exporter": "python",
   "pygments_lexer": "ipython2",
   "version": "2.7.10"
  }
 },
 "nbformat": 4,
 "nbformat_minor": 0
}

{
 "cells": [
  {
   "cell_type": "code",
   "execution_count": 1,
   "metadata": {
    "collapsed": false
   },
   "outputs": [
    {
     "name": "stdout",
     "output_type": "stream",
     "text": [
      "39\n",
      "0\n",
      "0\n",
      "0\n"
     ]
    },
    {
     "name": "stderr",
     "output_type": "stream",
     "text": [
      "/Library/Frameworks/Python.framework/Versions/2.7/lib/python2.7/site-packages/bs4/__init__.py:166: UserWarning: No parser was explicitly specified, so I'm using the best available HTML parser for this system (\"html5lib\"). This usually isn't a problem, but if you run this code on another system, or in a different virtual environment, it may use a different parser and behave differently.\n",
      "\n",
      "To get rid of this warning, change this:\n",
      "\n",
      " BeautifulSoup([your markup])\n",
      "\n",
      "to this:\n",
      "\n",
      " BeautifulSoup([your markup], \"html5lib\")\n",
      "\n",
      "  markup_type=markup_type))\n"
     ]
    }
   ],
   "source": [
    "from selenium import webdriver\n",
    "from selenium.webdriver.common.by import By\n",
    "from selenium.webdriver.common.keys import Keys\n",
    "from selenium.webdriver.support.ui import Select\n",
    "from selenium.common.exceptions import NoSuchElementException\n",
    "from selenium.common.exceptions import NoAlertPresentException\n",
    "import unittest, time, re\n",
    "import requests\n",
    "from bs4 import BeautifulSoup\n",
    "import string\n",
    "import random\n",
    "\n",
    "def mkfile(soup,i):\n",
    "    f = open('judical_data/%s,%s.txt' %(i.decode('utf-8') , soup.findAll('td')[6].text), 'w')\n",
    "    for i in range(5,11):\n",
    "        f.write(soup.findAll('td')[i].text.encode('utf-8'))\n",
    "        if i % 2 == 0:\n",
    "            f.write('\\n')\n",
    "    f.write(soup.findAll('td')[13].text.encode('utf-8'))\n",
    "list = ['臺灣彰化']\n",
    "list2 = ['31','30','30','31']\n",
    "\n",
    "s = random.randint(1,4)\n",
    "\n",
    "for i in list:\n",
    "    for j in range(104,105):\n",
    "        month = 7\n",
    "        for k in list2:\n",
    "            driver = webdriver.Firefox()\n",
    "            #chromedriver = \"C:\\chromedriver_win32\\chromedriver.exe\"\n",
    "            #driver = webdriver.Chrome(chromedriver)\n",
    "            driver.implicitly_wait(30)\n",
    "            driver.get(\"http://jirs.judicial.gov.tw//FJUD/FJUDQRY01_1.aspx\")\n",
    "            Select(driver.find_element_by_name(\"v_court\")).select_by_visible_text(\"%s地方法院\" % i)\n",
    "            driver.find_elements_by_name('v_sys')[1].click() \n",
    "            driver.find_element_by_id(\"jt\").clear()\n",
    "            driver.find_element_by_id(\"jt\").send_keys(u\"離婚\")\n",
    "            driver.find_element_by_name(\"dy1\").clear()\n",
    "            driver.find_element_by_name(\"dy1\").send_keys(str(j))\n",
    "            driver.find_element_by_name(\"dm1\").clear()\n",
    "            driver.find_element_by_name(\"dm1\").send_keys(str(month))\n",
    "            driver.find_element_by_name(\"dd1\").clear()\n",
    "            driver.find_element_by_name(\"dd1\").send_keys(\"1\")\n",
    "            driver.find_element_by_name(\"dy2\").clear()\n",
    "            driver.find_element_by_name(\"dy2\").send_keys(str(j))\n",
    "            driver.find_element_by_name(\"dm2\").clear()\n",
    "            driver.find_element_by_name(\"dm2\").send_keys(str(month+2))\n",
    "            driver.find_element_by_name(\"dd2\").clear()\n",
    "            driver.find_element_by_name(\"dd2\").send_keys(k)            \n",
    "            month += 3\n",
    "            time.sleep(s)\n",
    "            driver.find_element_by_name(\"Button\").click()\n",
    "            time.sleep(s)\n",
    "\n",
    "            soup = BeautifulSoup(driver.page_source)\n",
    "            alinks = soup.findAll('td')\n",
    "            a = ''.join(alinks[4].text.split())\n",
    "            m = re.match('.*?(\\d+).*?(\\d+).*?(\\d+).*?', a)\n",
    "            print m.group(1)\n",
    "            if m.group(1) == '0':\n",
    "                driver.close()\n",
    "                continue\n",
    "            driver.find_element_by_xpath(\"//table[@id='Table3']/tbody[1]/tr[2]/td[2]/div[1]/font[1]/a[1]\").click()\n",
    "            time.sleep(3)\n",
    "            soup = BeautifulSoup(driver.page_source)\n",
    "\n",
    "            if soup.findAll('a')[1].text.encode('utf-8') == '第一筆':\n",
    "                driver.find_element_by_link_text(u\"第一筆\").click()\n",
    "                time.sleep(s)\n",
    "            for num in range(1,int(m.group(1))):\n",
    "                soup = BeautifulSoup(driver.page_source)\n",
    "                mkfile(soup,i)\n",
    "                driver.find_element_by_link_text(u\"下一筆\").click()\n",
    "                time.sleep(s)\n",
    "            driver.close()"
   ]
  },
  {
   "cell_type": "code",
   "execution_count": null,
   "metadata": {
    "collapsed": true
   },
   "outputs": [],
   "source": []
  }
 ],
 "metadata": {
  "kernelspec": {
   "display_name": "Python 2",
   "language": "python",
   "name": "python2"
  },
  "language_info": {
   "codemirror_mode": {
    "name": "ipython",
    "version": 2
   },
   "file_extension": ".py",
   "mimetype": "text/x-python",
   "name": "python",
   "nbconvert_exporter": "python",
   "pygments_lexer": "ipython2",
   "version": "2.7.9"
  }
 },
 "nbformat": 4,
 "nbformat_minor": 0
}
